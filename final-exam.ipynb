{
 "cells": [
  {
   "cell_type": "markdown",
   "id": "2ae2336e-312a-4f61-bc05-0073e548efbd",
   "metadata": {},
   "source": [
    "# **\n",
    "**計算**並**輸出**以下數學式的結果 : \n",
    "\n",
    "$5 \\times (854193^4 + 1291) - 37871 \\times [2^{64} + 5^{28} - 2^3 \\times 3^3 \\times 13 \\times 23 \\times (187086 \\times 10^9 + 799242293)]$"
   ]
  },
  {
   "cell_type": "markdown",
   "id": "d04c5a7a-eed0-40a8-b7f9-157f3da3b76e",
   "metadata": {},
   "source": [
    "* 題目重點\n",
    "\n",
    "1. python 內 `**` 是次方\n",
    "2. 數學式中 括號 `()` 的用法"
   ]
  },
  {
   "cell_type": "code",
   "execution_count": 1,
   "id": "e85519f8-f580-4ec2-8eaf-ae6e72b415c9",
   "metadata": {
    "tags": [
     "solution"
    ]
   },
   "outputs": [
    {
     "name": "stdout",
     "output_type": "stream",
     "text": [
      "1010101010101010101010101\n"
     ]
    }
   ],
   "source": [
    "# solution\n",
    "a = 5 * (854193 ** 4 + 1291) - 37871 * (2**64 + 5**28 - 2**3 * 3**3 * 13 * 23 * (187086 * 10**9 + 799242293))\n",
    "print(a)"
   ]
  },
  {
   "cell_type": "markdown",
   "id": "84fd3a69-f83f-4100-8020-ebb5d7ec5fb7",
   "metadata": {},
   "source": [
    "---"
   ]
  },
  {
   "cell_type": "markdown",
   "id": "753972e0-6f5f-44d6-8682-3d2907b232d1",
   "metadata": {},
   "source": [
    "# ***\n",
    "小明在寫code的時候有點卡關，請幫他修正下面的程式碼，讓程式會輸出以下的結果 :\n",
    "\n",
    "> ```\n",
    "> *\n",
    "> **\n",
    "> ***\n",
    "> ****\n",
    "> *****\n",
    "> ```"
   ]
  },
  {
   "cell_type": "markdown",
   "id": "741b3100-64c4-4817-9254-557489a9f1c9",
   "metadata": {},
   "source": [
    "* 題目重點\n",
    "\n",
    "1. 巢狀迴圈\n",
    "2. `range()` 用法"
   ]
  },
  {
   "cell_type": "code",
   "execution_count": null,
   "id": "7e945017-b7ef-4144-b584-4d2ab371d7a5",
   "metadata": {},
   "outputs": [],
   "source": [
    "for i in range(5):\n",
    "    for j in range(i):\n",
    "        print('*', end = '')\n",
    "    print()"
   ]
  },
  {
   "cell_type": "code",
   "execution_count": 2,
   "id": "d7f183b2-e7d6-4f7e-bdc2-783ec56ecd47",
   "metadata": {
    "tags": [
     "solution"
    ]
   },
   "outputs": [
    {
     "name": "stdout",
     "output_type": "stream",
     "text": [
      "*\n",
      "**\n",
      "***\n",
      "****\n",
      "*****\n"
     ]
    }
   ],
   "source": [
    "# solution\n",
    "for i in range(1, 6):\n",
    "    for j in range(i):\n",
    "        print('*', end = '')\n",
    "    print()"
   ]
  },
  {
   "cell_type": "markdown",
   "id": "57ab5fb8-4a40-4b16-8c70-b61c830124a7",
   "metadata": {},
   "source": [
    "---"
   ]
  },
  {
   "cell_type": "markdown",
   "id": "f1e28048-9a67-498a-8d02-cfc91953cd07",
   "metadata": {},
   "source": [
    "# ***\n",
    "\n",
    "下面的程式碼`A`中有幾個標註部分(如`@__1__@`)，請從下方的選項中選擇適合的選項並填入標註處(不會重複)，讓程式能輸出結果`B` :\n",
    "\n",
    "* 程式碼`A`\n",
    "\n",
    "```python\n",
    "list1 = [1, 2, 4, 8, 16, 32, 64, 128, 256, 512, 1024]\n",
    "\n",
    "s = @__1__@\n",
    "\n",
    "for i in range(@__2__@(list1)):\n",
    "    s += list1[@__3__@]\n",
    "    \n",
    "print('Sum of list1 is :', @__4__@)\n",
    "```\n",
    "\n",
    "* 程式碼填空選項\n",
    "\n",
    "1. `0`\n",
    "2. `2046`\n",
    "3. `s`\n",
    "4. `i`\n",
    "5. `list1`\n",
    "6. `max`\n",
    "7. `len`\n",
    "\n",
    "* 程式輸出結果\n",
    "\n",
    "```\n",
    "Sum of list1 is : 2047\n",
    "```"
   ]
  },
  {
   "cell_type": "code",
   "execution_count": null,
   "id": "cf67d2d6-df23-4e9c-a38e-172964d5e4c4",
   "metadata": {
    "tags": []
   },
   "outputs": [],
   "source": [
    "# ↓ 將適合的選項放在此區塊中的標註處 ↓\n",
    "\n",
    "list1 = [1, 2, 4, 8, 16, 32, 64, 128, 256, 512, 1024]\n",
    "\n",
    "s = @__1__@\n",
    "\n",
    "for i in range(@__2__@(list1)):\n",
    "    s += list1[@__3__@]\n",
    "    \n",
    "print('Sum of list1 is :', @__4__@)"
   ]
  },
  {
   "cell_type": "code",
   "execution_count": 3,
   "id": "ccbe2817-3d86-40e1-bd7c-455bc615066c",
   "metadata": {
    "tags": [
     "solution"
    ]
   },
   "outputs": [
    {
     "name": "stdout",
     "output_type": "stream",
     "text": [
      "Sum of list1 is : 2047\n"
     ]
    }
   ],
   "source": [
    "# solution\n",
    "# ↓ 將適合的選項放在此區塊中的標註處 ↓\n",
    "\n",
    "list1 = [1, 2, 4, 8, 16, 32, 64, 128, 256, 512, 1024]\n",
    "\n",
    "s = 0\n",
    "\n",
    "for i in range(len(list1)):\n",
    "    s += list1[i]\n",
    "    \n",
    "print('Sum of list1 is :', s)"
   ]
  },
  {
   "cell_type": "markdown",
   "id": "ab810030-713e-4fd4-9592-d7482395d4eb",
   "metadata": {},
   "source": [
    "---"
   ]
  },
  {
   "cell_type": "markdown",
   "id": "6dc6cbe8-caad-4f80-a73c-046eb8227803",
   "metadata": {},
   "source": [
    "# **\n",
    "\n",
    "python中內建的`math`函式庫記錄著圓周率 $\\pi$ 的約略值，我們從函式庫內匯入之後就能使用此數值，如下面的範例所示。\n",
    "\n",
    "請將範例中的第四行 :\n",
    "\n",
    "```python\n",
    "print(\"PI = %f\" %(pi))\n",
    "```\n",
    "\n",
    "改寫，使結果輸出到小數點後的60位"
   ]
  },
  {
   "cell_type": "code",
   "execution_count": null,
   "id": "070e8f6e-6487-4429-81df-b987f905eecc",
   "metadata": {},
   "outputs": [],
   "source": [
    "# pi 使用範例\n",
    "from math import pi\n",
    "\n",
    "print(\"PI = %f\" %(pi))"
   ]
  },
  {
   "cell_type": "code",
   "execution_count": 18,
   "id": "7832a201-3998-4ad0-80a4-ccb9bb60e669",
   "metadata": {},
   "outputs": [
    {
     "name": "stdout",
     "output_type": "stream",
     "text": [
      "PI = 3.141592653589793115997963468544185161590576171875000000000000\n"
     ]
    }
   ],
   "source": [
    "# solution\n",
    "# pi 使用範例\n",
    "from math import pi\n",
    "\n",
    "print(\"PI = %.60f\" %(pi))"
   ]
  },
  {
   "cell_type": "markdown",
   "id": "ff320855-2589-45e7-8401-777ab0d2e230",
   "metadata": {},
   "source": [
    "---"
   ]
  }
 ],
 "metadata": {
  "kernelspec": {
   "display_name": "Python 3",
   "language": "python",
   "name": "python3"
  },
  "language_info": {
   "codemirror_mode": {
    "name": "ipython",
    "version": 3
   },
   "file_extension": ".py",
   "mimetype": "text/x-python",
   "name": "python",
   "nbconvert_exporter": "python",
   "pygments_lexer": "ipython3",
   "version": "3.8.10"
  }
 },
 "nbformat": 4,
 "nbformat_minor": 5
}
