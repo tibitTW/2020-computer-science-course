{
 "cells": [
  {
   "cell_type": "markdown",
   "metadata": {
    "id": "lume5DkbuK17"
   },
   "source": [
    "# 03 Additional Remarks"
   ]
  },
  {
   "cell_type": "markdown",
   "metadata": {
    "id": "3D_OThSR0tWV"
   },
   "source": [
    "***(一）演算法構思***\n",
    "\n",
    "演算法的常見表達的方式，包括了「流程圖」（Flowchart）或「虛擬碼」(Pseudocode)。"
   ]
  },
  {
   "cell_type": "markdown",
   "metadata": {
    "id": "QahxGCLF0Kuz"
   },
   "source": [
    "***(二）Pseudocode(虛擬碼)***\n",
    "\n",
    "虛擬碼（Pseudocode）是一種演算法描述語言。\n",
    "也就是一般的口語敘述，來描述問題的解法。\n",
    "\n",
    "使用虛擬碼的目的是為了使被描述的演算法可以容易地以任何一種程式語言（ Pascal，C，Java，Python, C++, etc）實現。因此，虛擬碼必須結構清晰、程式碼簡單、可讀性好，並且類似自然語言。 介於自然語言與程式語言之間。\n",
    "\n",
    "http://seansharingblog.blogspot.com/2017/09/programming.html\n",
    "\n"
   ]
  },
  {
   "cell_type": "markdown",
   "metadata": {
    "id": "e9N2ENFV1Pjb"
   },
   "source": [
    "**2-1 寫下來「比大小」解決問題流程 寫成 Pseudocode**\n",
    "\n",
    "1. 先將最大值的初始值設為 0\n",
    " \n",
    "2. while (如果有很多個數值){\n",
    "     if (現在比較的數值>最大值)\n",
    "       then 將最大值設為現在的數值\n",
    "     end if\n",
    "     end while\n",
    "   }\n",
    " \n",
    "3. print (結果)"
   ]
  },
  {
   "cell_type": "markdown",
   "metadata": {
    "id": "VMokx8EJ3Bdz"
   },
   "source": [
    "**Exercise 01 邏輯動動腦**\n",
    "\n",
    "甲乙丙丁四人喜歡的運動不同，而且每人都只做固定一種運動；\n",
    "\n",
    "已知，籃球場只休星期一，\n",
    "\n",
    "羽球場只休星期二，桌球場只休星期四，\n",
    "\n",
    "游泳池則休星期二四六；\n",
    "\n",
    "甲：『今天我要去運動，不然明天沒得去。』\n",
    "\n",
    "乙：『今明兩天我都會去運動。』\n",
    "\n",
    "丙：『今天我要去運動，前天我也有去。』\n",
    "\n",
    "丁：『從這個星期一到今天，我每天都有去運動。』\n",
    "\n",
    "請問，四人說話的這天是星期幾？四人各自做什麼運動呢？"
   ]
  },
  {
   "cell_type": "markdown",
   "metadata": {
    "id": "hl0W1ZnODBEX"
   },
   "source": [
    "***(三) Additional Remarks***"
   ]
  },
  {
   "cell_type": "markdown",
   "metadata": {
    "id": "t9kOjSo3DoqG"
   },
   "source": [
    "**3-1 一些補充**"
   ]
  },
  {
   "cell_type": "code",
   "execution_count": null,
   "metadata": {
    "id": "9LA4XEfO0FKg"
   },
   "outputs": [],
   "source": [
    "#變數名稱\n",
    "sum,1 #NO\n",
    "3y #NO\n",
    "x$2 #NO\n",
    "and #NO\n",
    "SUM\n",
    "_fg\n",
    "x5\n",
    "總和"
   ]
  },
  {
   "cell_type": "code",
   "execution_count": null,
   "metadata": {
    "colab": {
     "base_uri": "https://localhost:8080/",
     "height": 119
    },
    "executionInfo": {
     "elapsed": 917,
     "status": "ok",
     "timestamp": 1588062867052,
     "user": {
      "displayName": "工業科技教育學系陳君瑜",
      "photoUrl": "",
      "userId": "14372196664709609496"
     },
     "user_tz": -480
    },
    "id": "GsCRPk_83SpR",
    "outputId": "746fe6bc-ce7e-4195-cd4a-bc43cc76c633"
   },
   "outputs": [
    {
     "name": "stdout",
     "output_type": "stream",
     "text": [
      "10 <class 'int'>\n",
      "3.3333333333333335 <class 'float'>\n",
      "123 <class 'int'>\n",
      "123 <class 'str'>\n",
      "True <class 'bool'> 1\n",
      "False <class 'bool'> 0\n"
     ]
    }
   ],
   "source": [
    "#type() 列出變數的資料型態\n",
    "x=10\n",
    "y=x/3\n",
    "z=123\n",
    "zz='123'\n",
    "b1=True\n",
    "b2=False\n",
    "print (x, type(x))\n",
    "print (y, type(y))\n",
    "print (z, type(z))\n",
    "print (zz, type(zz))\n",
    "print (b1, type(b1), int(b1))\n",
    "print (b2, type(b2), int(b2))"
   ]
  },
  {
   "cell_type": "code",
   "execution_count": null,
   "metadata": {
    "id": "tQXZA0yRuKHu"
   },
   "outputs": [],
   "source": [
    "#bin()將資料轉換為二進位 oct()將資料轉換為八進位 hex()將資料轉換為十六進位\n",
    "x=0b1101\n",
    "print(x)\n",
    "y=bin(13)\n",
    "print(y)\n",
    "x=0o57\n",
    "print(x)\n",
    "y=oct(47)\n",
    "print(y)\n",
    "x=0x5D\n",
    "print(x)\n",
    "y=oct(93)\n",
    "print(y)"
   ]
  },
  {
   "cell_type": "code",
   "execution_count": null,
   "metadata": {
    "colab": {
     "base_uri": "https://localhost:8080/",
     "height": 221
    },
    "executionInfo": {
     "elapsed": 1039,
     "status": "ok",
     "timestamp": 1588124000848,
     "user": {
      "displayName": "工業科技教育學系陳君瑜",
      "photoUrl": "",
      "userId": "14372196664709609496"
     },
     "user_tz": -480
    },
    "id": "3Yy4UpUm_YTu",
    "outputId": "4d9b8551-038c-42c5-bb39-5dce2f11d046"
   },
   "outputs": [
    {
     "name": "stdout",
     "output_type": "stream",
     "text": [
      "Help on built-in function print in module builtins:\n",
      "\n",
      "print(...)\n",
      "    print(value, ..., sep=' ', end='\\n', file=sys.stdout, flush=False)\n",
      "    \n",
      "    Prints the values to a stream, or to sys.stdout by default.\n",
      "    Optional keyword arguments:\n",
      "    file:  a file-like object (stream); defaults to the current sys.stdout.\n",
      "    sep:   string inserted between values, default a space.\n",
      "    end:   string appended after the last value, default a newline.\n",
      "    flush: whether to forcibly flush the stream.\n",
      "\n"
     ]
    }
   ],
   "source": [
    "#help() 輔助說明\n",
    "help(print)"
   ]
  },
  {
   "cell_type": "code",
   "execution_count": null,
   "metadata": {
    "id": "51GCnl-IC2Gm"
   },
   "outputs": [],
   "source": [
    "#dir() 列出所有內建函數\n",
    "dir()"
   ]
  },
  {
   "cell_type": "code",
   "execution_count": null,
   "metadata": {
    "colab": {
     "base_uri": "https://localhost:8080/",
     "height": 170
    },
    "executionInfo": {
     "elapsed": 1296,
     "status": "ok",
     "timestamp": 1588124068092,
     "user": {
      "displayName": "工業科技教育學系陳君瑜",
      "photoUrl": "",
      "userId": "14372196664709609496"
     },
     "user_tz": -480
    },
    "id": "X-IqH9sT_g59",
    "outputId": "6862c56d-fb85-48ff-a0ed-d2ad4466b469"
   },
   "outputs": [
    {
     "name": "stdout",
     "output_type": "stream",
     "text": [
      "預設換行\n",
      "222\n",
      "333\n",
      "不換行\n",
      "222333\n",
      "tab\n",
      "222\t333\n",
      "$$$\n",
      "222$$$333\n"
     ]
    }
   ],
   "source": [
    "#print() 預設換行\n",
    "#print() 不換行 與 tab 與 $$$ \n",
    "x=222\n",
    "y=333\n",
    "print('預設換行') \n",
    "print(x)\n",
    "print(y)\n",
    "print('不換行') \n",
    "print(x, end='')\n",
    "print(y)\n",
    "print('tab') \n",
    "print(x, end='\\t')\n",
    "print(y)\n",
    "print('$$$') \n",
    "print(x, y, sep='$$$')"
   ]
  },
  {
   "cell_type": "code",
   "execution_count": null,
   "metadata": {
    "colab": {
     "base_uri": "https://localhost:8080/",
     "height": 340
    },
    "executionInfo": {
     "elapsed": 767,
     "status": "ok",
     "timestamp": 1588064874654,
     "user": {
      "displayName": "工業科技教育學系陳君瑜",
      "photoUrl": "",
      "userId": "14372196664709609496"
     },
     "user_tz": -480
    },
    "id": "1P3lzrB1A7nH",
    "outputId": "04801f51-cea3-44b6-d0ea-bf830529fbe9"
   },
   "outputs": [
    {
     "name": "stdout",
     "output_type": "stream",
     "text": [
      "x=/100    /\n",
      "y=/10.50  /\n",
      "s=/Hello  /\n",
      "x=/    100/\n",
      "y=/  10.50/\n",
      "s=/  Hello/\n",
      "x=/   +100/\n",
      "y=/ +10.50/\n",
      "s=/  Hello/\n",
      " 姓名   國文    英文     總分\n",
      "洪冰  98    9    107\n",
      "洪雨  96    95    191\n",
      "洪雪  92    88    180\n",
      "洪星  93    100    193\n",
      " 姓名   國文    英文     總分\n",
      " 洪冰    98       9     107\n",
      " 洪雨    96      95     191\n",
      " 洪雪    92      88     180\n",
      " 洪星    93     100     193\n"
     ]
    }
   ],
   "source": [
    "# 精準控制格式化輸出 \n",
    "# 靠左對齊\n",
    "x = 100\n",
    "print(\"x=/%-7d/\" % x)\n",
    "y = 10.5\n",
    "print(\"y=/%-7.2f/\" % y)\n",
    "s = \"Hello\"\n",
    "print(\"s=/%-7s/\" % s)\n",
    "#靠右對齊\n",
    "print(\"x=/%7d/\" % x)\n",
    "print(\"y=/%7.2f/\" % y)\n",
    "print(\"s=/%7s/\" % s)\n",
    "#靠右對齊&正值資料出現正號\n",
    "print(\"x=/%+7d/\" % x)\n",
    "print(\"y=/%+7.2f/\" % y)\n",
    "print(\"s=/%+7s/\" % s)\n",
    "#格式化輸出的應用\n",
    "print(\" 姓名   國文    英文     總分\")\n",
    "print(\"%s  %d    %d    %d\" % (\"洪冰\", 98, 9, 107))\n",
    "print(\"%s  %d    %d    %d\" % (\"洪雨\", 96, 95, 191))\n",
    "print(\"%s  %d    %d    %d\" % (\"洪雪\", 92, 88, 180))\n",
    "print(\"%s  %d    %d    %d\" % (\"洪星\", 93, 100, 193))\n",
    "print(\" 姓名   國文    英文     總分\")\n",
    "print(\"%3s  %4d    %4d    %4d\" % (\"洪冰\", 98, 9, 107))\n",
    "print(\"%3s  %4d    %4d    %4d\" % (\"洪雨\", 96, 95, 191))\n",
    "print(\"%3s  %4d    %4d    %4d\" % (\"洪雪\", 92, 88, 180))\n",
    "print(\"%3s  %4d    %4d    %4d\" % (\"洪星\", 93, 100, 193))"
   ]
  },
  {
   "cell_type": "code",
   "execution_count": null,
   "metadata": {
    "colab": {
     "base_uri": "https://localhost:8080/",
     "height": 86
    },
    "executionInfo": {
     "elapsed": 946,
     "status": "ok",
     "timestamp": 1588130164693,
     "user": {
      "displayName": "工業科技教育學系陳君瑜",
      "photoUrl": "",
      "userId": "14372196664709609496"
     },
     "user_tz": -480
    },
    "id": "c_ZSnGNt5cho",
    "outputId": "972ff249-363a-46f4-c633-0cff4ccb5e9a"
   },
   "outputs": [
    {
     "name": "stdout",
     "output_type": "stream",
     "text": [
      "-10 10\n",
      "5 3 125\n",
      "47.5 48\n",
      "48.5 48\n"
     ]
    }
   ],
   "source": [
    "#abs()\n",
    "x=-10\n",
    "print(x, abs(x))\n",
    "#pow(x,y)\n",
    "x,y=5,3\n",
    "print(x,y,pow(x,y))\n",
    "#round() 左邊奇數-->四捨五入 左邊偶數-->五捨六入\n",
    "x=47.5\n",
    "print(x, round(x))\n",
    "y=48.5\n",
    "print(y, round(y))\n"
   ]
  },
  {
   "cell_type": "code",
   "execution_count": null,
   "metadata": {
    "colab": {
     "base_uri": "https://localhost:8080/",
     "height": 102
    },
    "executionInfo": {
     "elapsed": 989,
     "status": "ok",
     "timestamp": 1588063448685,
     "user": {
      "displayName": "工業科技教育學系陳君瑜",
      "photoUrl": "",
      "userId": "14372196664709609496"
     },
     "user_tz": -480
    },
    "id": "P0QXiUdB6QJx",
    "outputId": "c74c0ae1-4b29-4b90-bf2b-ec41265379f4"
   },
   "outputs": [
    {
     "name": "stdout",
     "output_type": "stream",
     "text": [
      "數值相加 555\n",
      "由數值組成的字串相加 222333\n",
      "字串相加 Hi Good morning\n",
      "字串相加，同時中間加上一空格 Hi  Good morning\n",
      "字串相加，同時中間加上一逗號 Hi ,Good morning\n"
     ]
    }
   ],
   "source": [
    "# 字串連接\n",
    "num1 = 222\n",
    "num2 = 333\n",
    "print(\"數值相加\", num1 + num2)\n",
    "\n",
    "numstr1 = \"222\"\n",
    "numstr2 = \"333\"\n",
    "print(\"由數值組成的字串相加\", numstr1 + numstr2)\n",
    "\n",
    "str1 = \"Hi \"\n",
    "str2 = \"Good morning\"\n",
    "print(\"字串相加\",str1 + str2 )\n",
    "\n",
    "print(\"字串相加，同時中間加上一空格\", str1 + \" \" + str2)\n",
    "print(\"字串相加，同時中間加上一逗號\", str1 + \",\" + str2)"
   ]
  },
  {
   "cell_type": "markdown",
   "metadata": {
    "id": "CB_WYe8-9fqC"
   },
   "source": [
    "**3-2 逸出字元( 跳脫字元)**\n",
    "\n",
    "\n",
    "https://zh-tw.coursera.org/lecture/pbc1/02-05-tiao-tuo-zi-yuan-yu-ji-ben-yun-suan-XucTa\n",
    "\n",
    "（此網站同時可以提供大家線上學習python程式的資源）\n",
    "\n",
    "跳脫字元\n",
    "\n",
    ">\\\t接續下一行\n",
    "\n",
    ">\\\\\t反斜線\n",
    "\n",
    ">\\'\t單引號\n",
    "\n",
    ">\\\"\t雙引號\n",
    "\n",
    ">\\a\t響鈴(BEL)\n",
    "\n",
    ">\\b\t倒退\n",
    "\n",
    ">\\e\t(ESC)\n",
    "\n",
    ">\\f\t換頁(FF)\n",
    "\n",
    ">\\n\t空行(LF)\n",
    "\n",
    ">\\r\t歸位(CR)\n",
    "\n",
    ">\\t\t跳格\n",
    "\n",
    ">\\v\t縱向跳格(VT)\n",
    "\n",
    ">\\N{id}\tUnicode dbase id\n",
    "\n",
    ">\\uhhhh\tUnicode 16-bit hex\n",
    "\n",
    ">\\Uhhhh... Unicode 32-bit hex\n",
    "\n",
    ">\\xhh\t十六進位數字\n",
    "\n",
    ">\\ooo\t八進位數字\n",
    "\n",
    ">\\0\t空字元\n",
    "\n",
    ">\\other\t其他字元保留\n",
    "\n",
    "> Indented block"
   ]
  },
  {
   "cell_type": "code",
   "execution_count": null,
   "metadata": {
    "colab": {
     "base_uri": "https://localhost:8080/",
     "height": 34
    },
    "executionInfo": {
     "elapsed": 946,
     "status": "ok",
     "timestamp": 1588130334000,
     "user": {
      "displayName": "工業科技教育學系陳君瑜",
      "photoUrl": "",
      "userId": "14372196664709609496"
     },
     "user_tz": -480
    },
    "id": "q5wBGZwh8hrx",
    "outputId": "1a611f85-229f-4e5c-9019-54b05d20f53c"
   },
   "outputs": [
    {
     "name": "stdout",
     "output_type": "stream",
     "text": [
      "c:\\python\\n\n"
     ]
    }
   ],
   "source": [
    "x = 'c:\\python\\\\n'\n",
    "print (x)"
   ]
  },
  {
   "cell_type": "code",
   "execution_count": null,
   "metadata": {
    "colab": {
     "base_uri": "https://localhost:8080/",
     "height": 34
    },
    "executionInfo": {
     "elapsed": 1414,
     "status": "ok",
     "timestamp": 1589513034971,
     "user": {
      "displayName": "工業科技教育學系陳君瑜",
      "photoUrl": "",
      "userId": "14372196664709609496"
     },
     "user_tz": -480
    },
    "id": "x78PI_a1941_",
    "outputId": "ed68f11e-da60-4457-a1ee-380bf444f767"
   },
   "outputs": [
    {
     "name": "stdout",
     "output_type": "stream",
     "text": [
      "C:\\Documents and Settings\\ericsk\\test.dat\n"
     ]
    }
   ],
   "source": [
    "file_path = 'C:\\\\Documents and Settings\\\\ericsk\\\\test.dat'\n",
    "print (file_path)"
   ]
  },
  {
   "cell_type": "markdown",
   "metadata": {
    "id": "4S5DFOipD1ph"
   },
   "source": [
    "**3-3 輸入輸出**"
   ]
  },
  {
   "cell_type": "code",
   "execution_count": null,
   "metadata": {
    "id": "zkWBM-2Br2e2"
   },
   "outputs": [],
   "source": [
    "help(open)"
   ]
  },
  {
   "cell_type": "code",
   "execution_count": null,
   "metadata": {
    "colab": {
     "base_uri": "https://localhost:8080/",
     "height": 137
    },
    "executionInfo": {
     "elapsed": 9982,
     "status": "ok",
     "timestamp": 1588131349455,
     "user": {
      "displayName": "工業科技教育學系陳君瑜",
      "photoUrl": "",
      "userId": "14372196664709609496"
     },
     "user_tz": -480
    },
    "id": "VWqxNAQ7-Dwf",
    "outputId": "a05f1e82-9831-4909-8548-3e7958ebb3d4"
   },
   "outputs": [
    {
     "name": "stdout",
     "output_type": "stream",
     "text": [
      "請輸入姓名：eric\n",
      "請輸入英文成績：78\n",
      "請輸入數學成績：89\n",
      "name資料類型是 <class 'str'> eric\n",
      "eng資料類型是 <class 'str'> 78\n",
      "eric 你的總分是 167\n",
      "eric 你的總分是 167.000000\n"
     ]
    }
   ],
   "source": [
    "#input()輸入資料\n",
    "# print()輸出資料\n",
    "name = input(\"請輸入姓名：\") #input的資料輸入\n",
    "eng = input(\"請輸入英文成績：\")\n",
    "math = input(\"請輸入數學成績：\")\n",
    "print(\"name資料類型是\", type(name),name) #input的資料類型\n",
    "print(\"eng資料類型是\", type(eng),eng)\n",
    "total= eng+math\n",
    "totalf=float(eng)+float(math)\n",
    "total = int(eng) + int(math) #input的資料運算\n",
    "print(\"%s 你的總分是 %d\" % (name, total))\n",
    "print(\"%s 你的總分是 %f\" % (name, totalf))\n",
    "\n"
   ]
  },
  {
   "cell_type": "code",
   "execution_count": null,
   "metadata": {
    "colab": {
     "base_uri": "https://localhost:8080/",
     "height": 225
    },
    "executionInfo": {
     "elapsed": 603,
     "status": "ok",
     "timestamp": 1588733655531,
     "user": {
      "displayName": "工業科技教育學系陳君瑜",
      "photoUrl": "",
      "userId": "14372196664709609496"
     },
     "user_tz": -480
    },
    "id": "wnLW9Haq54n7",
    "outputId": "3d601f15-858e-4152-a413-d1a1317561b3"
   },
   "outputs": [
    {
     "name": "stdout",
     "output_type": "stream",
     "text": [
      "Help on built-in function print in module builtins:\n",
      "\n",
      "print(...)\n",
      "    print(value, ..., sep=' ', end='\\n', file=sys.stdout, flush=False)\n",
      "    \n",
      "    Prints the values to a stream, or to sys.stdout by default.\n",
      "    Optional keyword arguments:\n",
      "    file:  a file-like object (stream); defaults to the current sys.stdout.\n",
      "    sep:   string inserted between values, default a space.\n",
      "    end:   string appended after the last value, default a newline.\n",
      "    flush: whether to forcibly flush the stream.\n",
      "\n"
     ]
    }
   ],
   "source": [
    "help(print)"
   ]
  },
  {
   "cell_type": "code",
   "execution_count": null,
   "metadata": {
    "id": "HECmZqVLu8cO"
   },
   "outputs": [],
   "source": [
    "#open()開啟檔案\n",
    "#  file_Obj=open(file,mode=\"r\")\n",
    "#     r, read; w, write; a, apend; x, write with error note; b, open a file with binary code    \n",
    "#  file_Obj.close()\n",
    "#print()輸出資料到檔案\n",
    "# ＊這個程式要在電腦上跑＊\n",
    "\n",
    "file1 = open(\"/Users/apple/Desktop/python/out1.txt\", mode=\"w\") # MAC 開新檔案取代先前資料\n",
    "#file1 = open(\"d:\\python\\out1.txt\", mode=\"w\") # Windows 開新檔案取代先前資料\n",
    "print(\"Testing for output\", file=file1)\n",
    "file1.close( )\n",
    "file2 = open(\"/Users/apple/Desktop/python/out2.txt\", mode=\"a\") # MAC 開新檔案附加資料後\n",
    "#file2 = open(\"d:\\python\\out2.txt\", mode=\"a\") # Windows 開新檔案附加資料後\n",
    "print(\"Testing for output\", file=file2)\n",
    "file2.close( )"
   ]
  },
  {
   "cell_type": "code",
   "execution_count": null,
   "metadata": {
    "id": "SezgDQv5EMeS"
   },
   "outputs": [],
   "source": [
    "#Exercise 01 寫一個程式，要求使用者輸入3位數數字，捨去個位數數字，輸出。\n",
    "#例如：輸入是103，輸出100; 輸入456,輸出450。"
   ]
  },
  {
   "cell_type": "code",
   "execution_count": null,
   "metadata": {
    "id": "ZzqKFgMoiImw"
   },
   "outputs": [],
   "source": [
    "# 1.去除尾數==> 除以十取整數 ==> /10 , //10, int()\n",
    "# 2.尾數為0==>字串+0 , 乘以十 ==>  print(a,'0')"
   ]
  },
  {
   "cell_type": "code",
   "execution_count": null,
   "metadata": {
    "colab": {
     "base_uri": "https://localhost:8080/",
     "height": 35
    },
    "executionInfo": {
     "elapsed": 562,
     "status": "ok",
     "timestamp": 1588733790384,
     "user": {
      "displayName": "工業科技教育學系陳君瑜",
      "photoUrl": "",
      "userId": "14372196664709609496"
     },
     "user_tz": -480
    },
    "id": "GJ6Hya_f6YjX",
    "outputId": "0f219b6c-6ddb-43e2-d582-b5a05d05258a"
   },
   "outputs": [
    {
     "data": {
      "text/plain": [
       "25"
      ]
     },
     "execution_count": 11,
     "metadata": {
      "tags": []
     },
     "output_type": "execute_result"
    }
   ],
   "source": [
    "a=258//10\n",
    "a"
   ]
  },
  {
   "cell_type": "code",
   "execution_count": null,
   "metadata": {
    "id": "S5FIWI7m-Kko"
   },
   "outputs": [],
   "source": [
    "x=int(input('請輸入數字:'))\n",
    "newx=x//10*10\n",
    "print(x,newx)"
   ]
  },
  {
   "cell_type": "markdown",
   "metadata": {
    "id": "uVY4CQW64_7F"
   },
   "source": []
  },
  {
   "cell_type": "code",
   "execution_count": null,
   "metadata": {
    "colab": {
     "base_uri": "https://localhost:8080/",
     "height": 35
    },
    "executionInfo": {
     "elapsed": 607,
     "status": "ok",
     "timestamp": 1588728101657,
     "user": {
      "displayName": "工業科技教育學系陳君瑜",
      "photoUrl": "",
      "userId": "14372196664709609496"
     },
     "user_tz": -480
    },
    "id": "jknPfFUNkbGm",
    "outputId": "f0be4770-ff77-4efc-c6f8-4e1b3072dfd1"
   },
   "outputs": [
    {
     "data": {
      "text/plain": [
       "3400"
      ]
     },
     "execution_count": 5,
     "metadata": {
      "tags": []
     },
     "output_type": "execute_result"
    }
   ],
   "source": [
    "a=3456\n",
    "a=a//100*100\n",
    "a"
   ]
  },
  {
   "cell_type": "code",
   "execution_count": null,
   "metadata": {
    "id": "QzkNzE8E-ULl"
   },
   "outputs": [],
   "source": [
    "x=int(input('請輸入數字:'))\n",
    "newx=int(x*0.1)*10\n",
    "print(x,newx)"
   ]
  },
  {
   "cell_type": "code",
   "execution_count": null,
   "metadata": {
    "colab": {
     "base_uri": "https://localhost:8080/",
     "height": 69
    },
    "executionInfo": {
     "elapsed": 3559,
     "status": "ok",
     "timestamp": 1588733389582,
     "user": {
      "displayName": "工業科技教育學系陳君瑜",
      "photoUrl": "",
      "userId": "14372196664709609496"
     },
     "user_tz": -480
    },
    "id": "YQ8SJ52H-muM",
    "outputId": "0ec6d9cd-a28e-4f2b-9661-050f3d3aa4f6"
   },
   "outputs": [
    {
     "name": "stdout",
     "output_type": "stream",
     "text": [
      "請輸入數字:456\n",
      "newx0\n",
      "456,450\n"
     ]
    }
   ],
   "source": [
    "x=int(input('請輸入數字:'))\n",
    "newx=x*0.1\n",
    "print(\"%d,%d0\" %(x,newx))"
   ]
  },
  {
   "cell_type": "code",
   "execution_count": null,
   "metadata": {
    "id": "F65-WMPn-zUd"
   },
   "outputs": [],
   "source": []
  }
 ],
 "metadata": {
  "colab": {
   "authorship_tag": "ABX9TyMcX0q6Ey4OL6L9jOKCOAWs",
   "collapsed_sections": [],
   "name": "202103AdditionalRemarks.ipynb",
   "provenance": [
    {
     "file_id": "1cdwA5g0gVdxLNSDmntOgf615Ons7MMgc",
     "timestamp": 1618924208155
    }
   ]
  },
  "kernelspec": {
   "display_name": "Python 3",
   "language": "python",
   "name": "python3"
  },
  "language_info": {
   "codemirror_mode": {
    "name": "ipython",
    "version": 3
   },
   "file_extension": ".py",
   "mimetype": "text/x-python",
   "name": "python",
   "nbconvert_exporter": "python",
   "pygments_lexer": "ipython3",
   "version": "3.8.6"
  }
 },
 "nbformat": 4,
 "nbformat_minor": 1
}
