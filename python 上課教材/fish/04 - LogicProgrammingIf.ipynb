{
 "cells": [
  {
   "cell_type": "markdown",
   "metadata": {
    "id": "FovupfDpbKeF"
   },
   "source": [
    "# 04 Logic Programming 簡介 I\n",
    "\n",
    "***(一)03簡報補充 P2-P10***"
   ]
  },
  {
   "cell_type": "markdown",
   "metadata": {
    "id": "BrNulPV2cYIh"
   },
   "source": [
    "\n",
    "***(二)關係運算子（比較運算子）*** \n",
    "\n",
    "Relational operator（Comparison operator）\n"
   ]
  },
  {
   "cell_type": "markdown",
   "metadata": {
    "id": "zTdWb-TKdKrA"
   },
   "source": [
    "大於 > \n",
    "\n",
    "大於或等於 >= \n",
    "\n",
    "小於 < \n",
    "\n",
    "小於或等於 <=\n",
    "\n",
    "等於 ==\n",
    "\n",
    "不等於 !="
   ]
  },
  {
   "cell_type": "code",
   "execution_count": null,
   "metadata": {
    "colab": {
     "base_uri": "https://localhost:8080/",
     "height": 35
    },
    "executionInfo": {
     "elapsed": 689,
     "status": "ok",
     "timestamp": 1588734032193,
     "user": {
      "displayName": "工業科技教育學系陳君瑜",
      "photoUrl": "",
      "userId": "14372196664709609496"
     },
     "user_tz": -480
    },
    "id": "gZDPqBwYd_Uf",
    "outputId": "de48d342-ff0e-4572-ec5d-959b763e3fe2"
   },
   "outputs": [
    {
     "name": "stdout",
     "output_type": "stream",
     "text": [
      "True\n"
     ]
    }
   ],
   "source": [
    "x=10>8\n",
    "print(x)"
   ]
  },
  {
   "cell_type": "code",
   "execution_count": null,
   "metadata": {
    "colab": {
     "base_uri": "https://localhost:8080/",
     "height": 35
    },
    "executionInfo": {
     "elapsed": 674,
     "status": "ok",
     "timestamp": 1588734046806,
     "user": {
      "displayName": "工業科技教育學系陳君瑜",
      "photoUrl": "",
      "userId": "14372196664709609496"
     },
     "user_tz": -480
    },
    "id": "QTjuf901ec8R",
    "outputId": "d382a78e-6223-4634-dd5a-4981dfdcce3f"
   },
   "outputs": [
    {
     "name": "stdout",
     "output_type": "stream",
     "text": [
      "True\n"
     ]
    }
   ],
   "source": [
    "x=10>=10\n",
    "print(x)"
   ]
  },
  {
   "cell_type": "code",
   "execution_count": null,
   "metadata": {
    "colab": {
     "base_uri": "https://localhost:8080/",
     "height": 35
    },
    "executionInfo": {
     "elapsed": 680,
     "status": "ok",
     "timestamp": 1588734051412,
     "user": {
      "displayName": "工業科技教育學系陳君瑜",
      "photoUrl": "",
      "userId": "14372196664709609496"
     },
     "user_tz": -480
    },
    "id": "AhhYzLJ3e56J",
    "outputId": "f6a19113-aa30-45e0-bc34-52a10db78ae9"
   },
   "outputs": [
    {
     "name": "stdout",
     "output_type": "stream",
     "text": [
      "True\n"
     ]
    }
   ],
   "source": [
    "x=10<20\n",
    "print(x)"
   ]
  },
  {
   "cell_type": "code",
   "execution_count": null,
   "metadata": {
    "colab": {
     "base_uri": "https://localhost:8080/",
     "height": 35
    },
    "executionInfo": {
     "elapsed": 692,
     "status": "ok",
     "timestamp": 1588734059897,
     "user": {
      "displayName": "工業科技教育學系陳君瑜",
      "photoUrl": "",
      "userId": "14372196664709609496"
     },
     "user_tz": -480
    },
    "id": "1h_woYj_engS",
    "outputId": "fd377446-d38e-4046-b3f7-80742d310134"
   },
   "outputs": [
    {
     "name": "stdout",
     "output_type": "stream",
     "text": [
      "False\n"
     ]
    }
   ],
   "source": [
    "x=10==5\n",
    "print(x)"
   ]
  },
  {
   "cell_type": "code",
   "execution_count": null,
   "metadata": {
    "colab": {
     "base_uri": "https://localhost:8080/",
     "height": 35
    },
    "executionInfo": {
     "elapsed": 640,
     "status": "ok",
     "timestamp": 1588734090740,
     "user": {
      "displayName": "工業科技教育學系陳君瑜",
      "photoUrl": "",
      "userId": "14372196664709609496"
     },
     "user_tz": -480
    },
    "id": "aCIYxPluetFf",
    "outputId": "dcf85813-7481-49b8-b006-68443c8b6124"
   },
   "outputs": [
    {
     "name": "stdout",
     "output_type": "stream",
     "text": [
      "False\n"
     ]
    }
   ],
   "source": [
    "x=10!=10\n",
    "print(x)"
   ]
  },
  {
   "cell_type": "markdown",
   "metadata": {
    "id": "rDiVrjONfHBT"
   },
   "source": [
    "\n",
    "***(三)邏輯運算子*** \n",
    "\n",
    "Logic operator\n"
   ]
  },
  {
   "cell_type": "markdown",
   "metadata": {
    "id": "cxfAw5BlfRmm"
   },
   "source": [
    "and  1and1=1 1and0=0 0and1=0 0and0=0 \n",
    "\n",
    "or  1or1=1 1or0=1 0or1=1 0or0=0\n",
    "\n",
    "not  not1=0 not0=1"
   ]
  },
  {
   "cell_type": "code",
   "execution_count": null,
   "metadata": {
    "colab": {
     "base_uri": "https://localhost:8080/",
     "height": 35
    },
    "executionInfo": {
     "elapsed": 669,
     "status": "ok",
     "timestamp": 1588734237613,
     "user": {
      "displayName": "工業科技教育學系陳君瑜",
      "photoUrl": "",
      "userId": "14372196664709609496"
     },
     "user_tz": -480
    },
    "id": "PQwIeUYVffbP",
    "outputId": "bc3c12a1-4770-4788-eecc-229694444924"
   },
   "outputs": [
    {
     "data": {
      "text/plain": [
       "True"
      ]
     },
     "execution_count": 48,
     "metadata": {
      "tags": []
     },
     "output_type": "execute_result"
    }
   ],
   "source": [
    "x=(10>8)and(20>10)\n",
    "x"
   ]
  },
  {
   "cell_type": "code",
   "execution_count": null,
   "metadata": {
    "colab": {
     "base_uri": "https://localhost:8080/",
     "height": 35
    },
    "executionInfo": {
     "elapsed": 676,
     "status": "ok",
     "timestamp": 1588734258968,
     "user": {
      "displayName": "工業科技教育學系陳君瑜",
      "photoUrl": "",
      "userId": "14372196664709609496"
     },
     "user_tz": -480
    },
    "id": "pvQdmXqkf6Xl",
    "outputId": "3c19eb76-68db-4ab7-a361-ec6d73a8b371"
   },
   "outputs": [
    {
     "data": {
      "text/plain": [
       "False"
      ]
     },
     "execution_count": 50,
     "metadata": {
      "tags": []
     },
     "output_type": "execute_result"
    }
   ],
   "source": [
    "x=(10>8)and(20<10)\n",
    "x"
   ]
  },
  {
   "cell_type": "code",
   "execution_count": null,
   "metadata": {
    "colab": {
     "base_uri": "https://localhost:8080/",
     "height": 35
    },
    "executionInfo": {
     "elapsed": 741,
     "status": "ok",
     "timestamp": 1588734277633,
     "user": {
      "displayName": "工業科技教育學系陳君瑜",
      "photoUrl": "",
      "userId": "14372196664709609496"
     },
     "user_tz": -480
    },
    "id": "Up2W2UjFgB1c",
    "outputId": "6fda8a63-8dfe-42ef-adc6-6908abd0fb54"
   },
   "outputs": [
    {
     "data": {
      "text/plain": [
       "False"
      ]
     },
     "execution_count": 52,
     "metadata": {
      "tags": []
     },
     "output_type": "execute_result"
    }
   ],
   "source": [
    "x=(10<8)or(20<10)\n",
    "x"
   ]
  },
  {
   "cell_type": "code",
   "execution_count": null,
   "metadata": {
    "colab": {
     "base_uri": "https://localhost:8080/",
     "height": 35
    },
    "executionInfo": {
     "elapsed": 637,
     "status": "ok",
     "timestamp": 1588734297045,
     "user": {
      "displayName": "工業科技教育學系陳君瑜",
      "photoUrl": "",
      "userId": "14372196664709609496"
     },
     "user_tz": -480
    },
    "id": "tvb4HS1ZgL1-",
    "outputId": "4f7f8308-3b77-4b82-8871-93abb2cad806"
   },
   "outputs": [
    {
     "data": {
      "text/plain": [
       "True"
      ]
     },
     "execution_count": 53,
     "metadata": {
      "tags": []
     },
     "output_type": "execute_result"
    }
   ],
   "source": [
    "x=not(10<8)\n",
    "x"
   ]
  },
  {
   "cell_type": "markdown",
   "metadata": {
    "id": "UAhijd0CcNN0"
   },
   "source": [
    "***(四)IF statement***"
   ]
  },
  {
   "cell_type": "markdown",
   "metadata": {
    "id": "EoqemCt4gUYx"
   },
   "source": [
    "**4-1 if**\n",
    "\n",
    "if(條件判斷）：\n",
    "\n",
    "> 程式區塊\n",
    "\n"
   ]
  },
  {
   "cell_type": "code",
   "execution_count": 2,
   "metadata": {
    "colab": {
     "base_uri": "https://localhost:8080/"
    },
    "executionInfo": {
     "elapsed": 3805,
     "status": "ok",
     "timestamp": 1618924370557,
     "user": {
      "displayName": "工業科技教育學系陳君瑜",
      "photoUrl": "",
      "userId": "14372196664709609496"
     },
     "user_tz": -480
    },
    "id": "V6B3ZYwRaH2F",
    "outputId": "f7eafe78-2d44-4a41-ee28-a670546afcd7"
   },
   "outputs": [
    {
     "name": "stdout",
     "output_type": "stream",
     "text": [
      "請輸入密碼：1234\n",
      "歡迎光臨！\n"
     ]
    }
   ],
   "source": [
    "#課本範例 p2-15 password1.py\n",
    "pw = input(\"請輸入密碼：\")\n",
    "if(pw==\"1234\"):\n",
    "    print(\"歡迎光臨！\")"
   ]
  },
  {
   "cell_type": "code",
   "execution_count": null,
   "metadata": {
    "colab": {
     "base_uri": "https://localhost:8080/",
     "height": 131
    },
    "executionInfo": {
     "elapsed": 1601,
     "status": "error",
     "timestamp": 1588734373856,
     "user": {
      "displayName": "工業科技教育學系陳君瑜",
      "photoUrl": "",
      "userId": "14372196664709609496"
     },
     "user_tz": -480
    },
    "id": "_3Hv2W0Mad3c",
    "outputId": "9f3a78a9-3490-4798-c056-63ac292a830c"
   },
   "outputs": [
    {
     "ename": "IndentationError",
     "evalue": "ignored",
     "output_type": "error",
     "traceback": [
      "\u001b[0;36m  File \u001b[0;32m\"<ipython-input-54-c8711f001078>\"\u001b[0;36m, line \u001b[0;32m6\u001b[0m\n\u001b[0;31m    print(\"需年滿20歲才能買菸酒\")\u001b[0m\n\u001b[0m    ^\u001b[0m\n\u001b[0;31mIndentationError\u001b[0m\u001b[0;31m:\u001b[0m unexpected indent\n"
     ]
    }
   ],
   "source": [
    "age=18\n",
    "x=age<20\n",
    "print(x)\n",
    "if (age<20):\n",
    "  print(\"你年紀太小\")\n",
    "    print(\"需年滿20歲才能買菸酒\")"
   ]
  },
  {
   "cell_type": "code",
   "execution_count": null,
   "metadata": {
    "colab": {
     "base_uri": "https://localhost:8080/",
     "height": 52
    },
    "executionInfo": {
     "elapsed": 637,
     "status": "ok",
     "timestamp": 1588734574617,
     "user": {
      "displayName": "工業科技教育學系陳君瑜",
      "photoUrl": "",
      "userId": "14372196664709609496"
     },
     "user_tz": -480
    },
    "id": "-A54CVNpgp_z",
    "outputId": "34852405-07cf-4122-ce51-8b6344de5891"
   },
   "outputs": [
    {
     "name": "stdout",
     "output_type": "stream",
     "text": [
      "你年紀太小\n",
      "需年滿20歲才能買菸酒\n"
     ]
    }
   ],
   "source": [
    "age=19\n",
    "if (age<20):\n",
    "  print(\"你年紀太小\")\n",
    "  print(\"需年滿20歲才能買菸酒\")\n"
   ]
  },
  {
   "cell_type": "code",
   "execution_count": null,
   "metadata": {
    "colab": {
     "base_uri": "https://localhost:8080/",
     "height": 236
    },
    "executionInfo": {
     "elapsed": 6125,
     "status": "error",
     "timestamp": 1589513531195,
     "user": {
      "displayName": "工業科技教育學系陳君瑜",
      "photoUrl": "",
      "userId": "14372196664709609496"
     },
     "user_tz": -480
    },
    "id": "0ps5Gc8Gg0Wh",
    "outputId": "7df27087-330e-42de-eb0a-fadb3e096f9d"
   },
   "outputs": [
    {
     "name": "stdout",
     "output_type": "stream",
     "text": [
      "請輸入年齡：5\n"
     ]
    },
    {
     "ename": "TypeError",
     "evalue": "ignored",
     "output_type": "error",
     "traceback": [
      "\u001b[0;31m---------------------------------------------------------------------------\u001b[0m",
      "\u001b[0;31mTypeError\u001b[0m                                 Traceback (most recent call last)",
      "\u001b[0;32m<ipython-input-1-339c4b2963f0>\u001b[0m in \u001b[0;36m<module>\u001b[0;34m()\u001b[0m\n\u001b[1;32m      1\u001b[0m \u001b[0mage\u001b[0m\u001b[0;34m=\u001b[0m\u001b[0minput\u001b[0m\u001b[0;34m(\u001b[0m\u001b[0;34m\"請輸入年齡：\"\u001b[0m\u001b[0;34m)\u001b[0m\u001b[0;34m\u001b[0m\u001b[0;34m\u001b[0m\u001b[0m\n\u001b[0;32m----> 2\u001b[0;31m \u001b[0;32mif\u001b[0m \u001b[0;34m(\u001b[0m\u001b[0mage\u001b[0m\u001b[0;34m<\u001b[0m\u001b[0;36m20\u001b[0m\u001b[0;34m)\u001b[0m\u001b[0;34m:\u001b[0m\u001b[0;34m\u001b[0m\u001b[0;34m\u001b[0m\u001b[0m\n\u001b[0m\u001b[1;32m      3\u001b[0m   \u001b[0mprint\u001b[0m\u001b[0;34m(\u001b[0m\u001b[0;34m\"你年紀太小\"\u001b[0m\u001b[0;34m)\u001b[0m\u001b[0;34m\u001b[0m\u001b[0;34m\u001b[0m\u001b[0m\n\u001b[1;32m      4\u001b[0m   \u001b[0mprint\u001b[0m\u001b[0;34m(\u001b[0m\u001b[0;34m\"需年滿20歲才能買菸酒\"\u001b[0m\u001b[0;34m)\u001b[0m\u001b[0;34m\u001b[0m\u001b[0;34m\u001b[0m\u001b[0m\n",
      "\u001b[0;31mTypeError\u001b[0m: '<' not supported between instances of 'str' and 'int'"
     ]
    }
   ],
   "source": [
    "age=input(\"請輸入年齡：\")\n",
    "if (age<20):\n",
    "  print(\"你年紀太小\")\n",
    "  print(\"需年滿20歲才能買菸酒\")"
   ]
  },
  {
   "cell_type": "code",
   "execution_count": null,
   "metadata": {
    "colab": {
     "base_uri": "https://localhost:8080/",
     "height": 69
    },
    "executionInfo": {
     "elapsed": 4211,
     "status": "ok",
     "timestamp": 1588728846834,
     "user": {
      "displayName": "工業科技教育學系陳君瑜",
      "photoUrl": "",
      "userId": "14372196664709609496"
     },
     "user_tz": -480
    },
    "id": "kiakc3YMg_0d",
    "outputId": "01aa87e3-38f1-4514-824f-23a659ef5cdb"
   },
   "outputs": [
    {
     "name": "stdout",
     "output_type": "stream",
     "text": [
      "請輸入任一數值：-89\n",
      "x是負數\n",
      "-89.00的絕對值是89.00\n"
     ]
    }
   ],
   "source": [
    "#輸出絕對值\n",
    "n=input(\"請輸入任一數值：\")\n",
    "x=float(n)\n",
    "y=abs(x)\n",
    "if (x<0):\n",
    "  print(\"x是負數\")\n",
    "print(\"%.2f的絕對值是%.2f\"%(x,y))"
   ]
  },
  {
   "cell_type": "code",
   "execution_count": null,
   "metadata": {
    "id": "Jqmvb6MXpVtS"
   },
   "outputs": [],
   "source": [
    "## Exercise 01\n",
    "## 當室內溫度超過 28 度時，就啟動冷氣運作。"
   ]
  },
  {
   "cell_type": "code",
   "execution_count": null,
   "metadata": {
    "id": "NeNY83LKpxFM"
   },
   "outputs": [],
   "source": [
    "## Exercise 02\n",
    "## 當輸入成績超過 60分 時，就輸出 恭喜及格了。"
   ]
  },
  {
   "cell_type": "markdown",
   "metadata": {
    "id": "9e_ZxH-jkbnD"
   },
   "source": [
    "** 4-2 if else**\n",
    "\n",
    "if(條件判斷）：\n",
    "\n",
    "> 程式區塊一\n",
    "\n",
    "else：\n",
    "\n",
    "> 程式區塊二"
   ]
  },
  {
   "cell_type": "code",
   "execution_count": 3,
   "metadata": {
    "colab": {
     "base_uri": "https://localhost:8080/"
    },
    "executionInfo": {
     "elapsed": 4212,
     "status": "ok",
     "timestamp": 1618924459622,
     "user": {
      "displayName": "工業科技教育學系陳君瑜",
      "photoUrl": "",
      "userId": "14372196664709609496"
     },
     "user_tz": -480
    },
    "id": "Bq8Bxn3mamj1",
    "outputId": "9e47e06c-39f6-4568-c2bf-6e86a5feb9f5"
   },
   "outputs": [
    {
     "name": "stdout",
     "output_type": "stream",
     "text": [
      "請輸入密碼：12\n",
      "密碼錯誤！\n"
     ]
    }
   ],
   "source": [
    "#課本範例 p2-17 password2.py\n",
    "pw = input(\"請輸入密碼：\")\n",
    "if(pw==\"1234\"):\n",
    "    print(\"歡迎光臨！\")\n",
    "else:\n",
    "    print(\"密碼錯誤！\")"
   ]
  },
  {
   "cell_type": "code",
   "execution_count": null,
   "metadata": {
    "id": "WwRAgIxGkbQf"
   },
   "outputs": [],
   "source": [
    "age=input(\"請輸入年齡：\")\n",
    "if (int(age)<20):\n",
    "  print(\"你年紀太小\")\n",
    "  print(\"需年滿20歲才能買菸酒\")\n",
    "else:\n",
    "  print(\"歡迎購買菸酒\")"
   ]
  },
  {
   "cell_type": "code",
   "execution_count": null,
   "metadata": {
    "id": "BAnwzeFKh68W"
   },
   "outputs": [],
   "source": [
    "#奇數偶數的判斷\n",
    "n=input(\"請輸入任一數值n：\")\n",
    "x=int(n)%2\n",
    "if (x==0):\n",
    "  print(\"n是偶數\")\n",
    "else:\n",
    "  print(\"n是奇數\")"
   ]
  },
  {
   "cell_type": "code",
   "execution_count": null,
   "metadata": {
    "id": "kM1-fyEBlaqF"
   },
   "outputs": [],
   "source": [
    "## Exercise 03\n",
    "## 編寫一個程序，詢問用戶有多少人用餐。如果超過8人，就列印一條消息，指出沒有空桌；否則指出有空桌。"
   ]
  },
  {
   "cell_type": "code",
   "execution_count": null,
   "metadata": {
    "id": "FQZXvskXp8gQ"
   },
   "outputs": [],
   "source": [
    "## Exercise 04\n",
    "## 當輸入成績超過 60分 時，就輸出 恭喜及格了。 否則，就輸出 你被當掉了！"
   ]
  },
  {
   "cell_type": "code",
   "execution_count": null,
   "metadata": {
    "id": "3DWJaFVJqNFF"
   },
   "outputs": [],
   "source": [
    "## Exercise 05\n",
    "## 請輸入兩個數字，比較後（用if else的寫法)，列印輸出較大的數字。"
   ]
  },
  {
   "cell_type": "markdown",
   "metadata": {
    "id": "QVAqbi8GlloM"
   },
   "source": [
    "**4-3 if elif else**\n",
    "\n",
    "if(條件判斷一）：\n",
    "\n",
    "> 程式區塊一\n",
    "\n",
    "elif(條件判斷二）：\n",
    "\n",
    "> 程式區塊二\n",
    "\n",
    "...\n",
    "\n",
    "else:\n",
    "> 程式區塊n"
   ]
  },
  {
   "cell_type": "code",
   "execution_count": 4,
   "metadata": {
    "colab": {
     "base_uri": "https://localhost:8080/"
    },
    "executionInfo": {
     "elapsed": 3044,
     "status": "ok",
     "timestamp": 1618924538042,
     "user": {
      "displayName": "工業科技教育學系陳君瑜",
      "photoUrl": "",
      "userId": "14372196664709609496"
     },
     "user_tz": -480
    },
    "id": "oL0GExY0azjW",
    "outputId": "727d2d8b-dd49-4ac7-e8a4-2d5dd57cc991"
   },
   "outputs": [
    {
     "name": "stdout",
     "output_type": "stream",
     "text": [
      "請輸入成績：3\n",
      "丁等\n"
     ]
    }
   ],
   "source": [
    "#課本範例 p2-18 grade.py\n",
    "score = int(input(\"請輸入成績：\"))\n",
    "if(score) >= 90:\n",
    "    print(\"優等\")\n",
    "elif(score) >= 80:\n",
    "    print(\"甲等\")\n",
    "elif(score) >= 70:\n",
    "    print(\"乙等\")\n",
    "elif(score) >= 60:\n",
    "    print(\"丙等\")\n",
    "else:\n",
    "    print(\"丁等\")"
   ]
  },
  {
   "cell_type": "code",
   "execution_count": null,
   "metadata": {
    "colab": {
     "base_uri": "https://localhost:8080/",
     "height": 52
    },
    "executionInfo": {
     "elapsed": 3760,
     "status": "ok",
     "timestamp": 1588731589545,
     "user": {
      "displayName": "工業科技教育學系陳君瑜",
      "photoUrl": "",
      "userId": "14372196664709609496"
     },
     "user_tz": -480
    },
    "id": "GPseY-S3l-RW",
    "outputId": "65582095-8fde-4050-ccef-7825ca745540"
   },
   "outputs": [
    {
     "name": "stdout",
     "output_type": "stream",
     "text": [
      "請輸入電工學考試分數 (1-100)：90\n",
      "成績：A+\n"
     ]
    }
   ],
   "source": [
    "score = int(input('請輸入電工學考試分數 (1-100)：'))\n",
    "\n",
    "if score > 100:\n",
    "    print('請勿亂輸入！')\n",
    "elif score >= 90 and score <= 100:\n",
    "    print('成績：A+')\n",
    "elif score >= 80 and score < 90:\n",
    "    print('成績：B+')\n",
    "elif score >= 70 and score < 80:\n",
    "    print('成績：B')\n",
    "else:\n",
    "    print('成績：C')"
   ]
  },
  {
   "cell_type": "code",
   "execution_count": null,
   "metadata": {
    "colab": {
     "base_uri": "https://localhost:8080/",
     "height": 52
    },
    "executionInfo": {
     "elapsed": 3645,
     "status": "ok",
     "timestamp": 1588731440197,
     "user": {
      "displayName": "工業科技教育學系陳君瑜",
      "photoUrl": "",
      "userId": "14372196664709609496"
     },
     "user_tz": -480
    },
    "id": "1207DQpAmUAr",
    "outputId": "7f5f555d-016e-4577-c251-e2ac9973be4c"
   },
   "outputs": [
    {
     "name": "stdout",
     "output_type": "stream",
     "text": [
      "請輸入電工學考試分數 (1-100)：95\n",
      "成績：A+\n"
     ]
    }
   ],
   "source": [
    "score = int(input('請輸入電工學考試分數 (1-100)：'))\n",
    "\n",
    "if score > 100:\n",
    "    print('請勿亂輸入！')\n",
    "elif score >= 90:\n",
    "    print('成績：A+')\n",
    "elif score >= 80:\n",
    "    print('成績：B+')\n",
    "elif score >= 70:\n",
    "    print('成績：B')\n",
    "else:\n",
    "    print('成績：C')"
   ]
  },
  {
   "cell_type": "code",
   "execution_count": null,
   "metadata": {
    "colab": {
     "base_uri": "https://localhost:8080/",
     "height": 52
    },
    "executionInfo": {
     "elapsed": 2857,
     "status": "ok",
     "timestamp": 1588731448221,
     "user": {
      "displayName": "工業科技教育學系陳君瑜",
      "photoUrl": "",
      "userId": "14372196664709609496"
     },
     "user_tz": -480
    },
    "id": "1z0KME5tmgDu",
    "outputId": "4bc6ac45-c266-4595-967a-1d559fa4c5f7"
   },
   "outputs": [
    {
     "name": "stdout",
     "output_type": "stream",
     "text": [
      "請輸入電工學考試分數 (1-100)：95\n",
      "成績：B\n"
     ]
    }
   ],
   "source": [
    "score = int(input('請輸入電工學考試分數 (1-100)：'))\n",
    "\n",
    "if score > 100:\n",
    "    print('請勿亂輸入！')\n",
    "elif score >= 70:\n",
    "    print('成績：B')\n",
    "elif score >= 80:\n",
    "    print('成績：B+')\n",
    "elif score >= 90:\n",
    "    print('成績：A+')\n",
    "else:\n",
    "    print('成績：C')"
   ]
  },
  {
   "cell_type": "code",
   "execution_count": null,
   "metadata": {
    "colab": {
     "base_uri": "https://localhost:8080/",
     "height": 52
    },
    "executionInfo": {
     "elapsed": 4177,
     "status": "ok",
     "timestamp": 1588736681674,
     "user": {
      "displayName": "工業科技教育學系陳君瑜",
      "photoUrl": "",
      "userId": "14372196664709609496"
     },
     "user_tz": -480
    },
    "id": "705Rjp8Fmqj-",
    "outputId": "bc710051-9f8f-4729-d45d-ada14d1dc31d"
   },
   "outputs": [
    {
     "name": "stdout",
     "output_type": "stream",
     "text": [
      "please enter a number-96.5\n",
      "96.5\n"
     ]
    }
   ],
   "source": [
    "#Exercise06 設計一個程式 ，\n",
    "#如果輸入是負值，則改成正值輸出，如果輸入是正值，則改成負值輸出，\n",
    "#如果輸入非數字，則列出輸入錯誤。\n",
    "a=input(\"please enter a number\")\n",
    "b=a.isnumeric()\n",
    "##a數字 a.isnumeric() true\n",
    "##a非數字 a.isnumeric() false\n",
    "if (not b): ##判斷是否非數字\n",
    " if(a[0]=='-'):  \n",
    "    print(abs(float(a)))\n",
    "  elif(a.find('.')!=-1):\n",
    "    if (float(a)>0): \n",
    "      print(\"-\",float(a))\n",
    "    else:\n",
    "      print(abs(float(a)))\n",
    "  else:\n",
    "    print(\"輸入錯誤\")\n",
    "else: ##判斷正數\n",
    "  print(\"-\",a)\n",
    "\n"
   ]
  },
  {
   "cell_type": "markdown",
   "metadata": {
    "id": "pcFHabhkm9qP"
   },
   "source": [
    "**4-4 巢狀if**\n",
    "\n",
    "if(條件判斷一）：\n",
    "\n",
    ">if(條件判斷Ａ）：\n",
    "\n",
    ">> 程式區塊Ａ\n",
    "\n",
    ">else:\n",
    ">> 程式區塊B\n",
    "\n",
    "else：\n",
    "\n",
    "> 程式區塊二"
   ]
  },
  {
   "cell_type": "code",
   "execution_count": 6,
   "metadata": {
    "colab": {
     "base_uri": "https://localhost:8080/"
    },
    "executionInfo": {
     "elapsed": 6009,
     "status": "ok",
     "timestamp": 1618924666215,
     "user": {
      "displayName": "工業科技教育學系陳君瑜",
      "photoUrl": "",
      "userId": "14372196664709609496"
     },
     "user_tz": -480
    },
    "id": "MDgBboFObKMH",
    "outputId": "30abaafd-9b96-4361-ce41-63545e449dc9"
   },
   "outputs": [
    {
     "name": "stdout",
     "output_type": "stream",
     "text": [
      "請輸入購物金額：45678\n",
      "41110.200000000004 元\n"
     ]
    }
   ],
   "source": [
    "#課本範例 p2-20 discount.py\n",
    "money = int(input(\"請輸入購物金額：\"))\n",
    "if(money >= 10000):\n",
    "    if(money >= 100000):\n",
    "        print(money * 0.8, end=\" 元\\n\")  #八折\n",
    "    elif(money >= 50000):\n",
    "        print(money * 0.85, end=\" 元\\n\")  #八五折\n",
    "    elif(money >= 30000):\n",
    "        print(money * 0.9, end=\" 元\\n\")  #九折\n",
    "    else:\n",
    "        print(money * 0.95, end=\" 元\\n\")  #九五折\n",
    "else:\n",
    "    print(money, end=\" 元\\n\")  #未打折"
   ]
  },
  {
   "cell_type": "code",
   "execution_count": null,
   "metadata": {
    "colab": {
     "base_uri": "https://localhost:8080/",
     "height": 87
    },
    "executionInfo": {
     "elapsed": 15267,
     "status": "ok",
     "timestamp": 1588736963386,
     "user": {
      "displayName": "工業科技教育學系陳君瑜",
      "photoUrl": "",
      "userId": "14372196664709609496"
     },
     "user_tz": -480
    },
    "id": "_Ti-ivN_qyS1",
    "outputId": "b60836ce-4303-4406-b905-261bfe70a94e"
   },
   "outputs": [
    {
     "name": "stdout",
     "output_type": "stream",
     "text": [
      "請輸入性別:女\n",
      "請輸入年齡:32\n",
      "還未達到適婚年齡\n",
      "happy wedding\n"
     ]
    }
   ],
   "source": [
    "# 判斷適婚年齡\n",
    "'''以下題目不涉及性別成見，僅作為練習案例。\n",
    "如果要判斷一個人的適婚年齡，必須先知道他的性別，因為男生和女生的適婚年齡不同。\n",
    "假設我們把男生的適婚年齡設定成30歲，女生的適婚年齡設定為35歲，\n",
    "程式必須先檢查性別，才能夠依照年齡做出正確的判斷。'''\n",
    "# gender是使用者輸入的性別\n",
    "# age是使用者輸入的年齡\n",
    "gender =input(\"請輸入性別:\")\n",
    "age =int(input(\"請輸入年齡:\"))\n",
    "\n",
    "if gender == '男':\n",
    "    if age >= 30:\n",
    "        print('已經到達適婚年齡')\n",
    "    else:\n",
    "        print('還未達到適婚年齡')\n",
    "else:   # 女生的情況\n",
    "    if age >= 35:\n",
    "        print('已經到達適婚年齡')\n",
    "    else:\n",
    "        print('還未達到適婚年齡')\n",
    "print(\"happy wedding\")"
   ]
  },
  {
   "cell_type": "code",
   "execution_count": null,
   "metadata": {
    "id": "Rr2zx-EUn_Fu"
   },
   "outputs": [],
   "source": [
    "# Exercise07 判斷某一年是否為閏年\n",
    "#潤年的條件1, 被4整除\n",
    "#潤年的條件2, 除以100餘數不為0, 或者 除以400於數為0\n",
    "#條件1&條件2均須符合 (and)\n",
    "year=input(\"請輸入年份\")\n"
   ]
  },
  {
   "cell_type": "code",
   "execution_count": null,
   "metadata": {
    "id": "Lmo0k8ThrREe"
   },
   "outputs": [],
   "source": [
    "# Exercise08 溫度轉換\n",
    "#使用者可以先選擇溫度轉換方式\n",
    "#然後輸入一個溫度，可以轉換成另一種溫度。"
   ]
  }
 ],
 "metadata": {
  "colab": {
   "authorship_tag": "ABX9TyPuF8VUW5diu3AtBZVo4qkz",
   "collapsed_sections": [],
   "name": "202104LogicProgrammingIf.ipynb",
   "provenance": [
    {
     "file_id": "1U1o8IkFw7n-1A07jMncdyA4l08rnTZ69",
     "timestamp": 1618924263132
    }
   ]
  },
  "kernelspec": {
   "display_name": "Python 3",
   "language": "python",
   "name": "python3"
  },
  "language_info": {
   "codemirror_mode": {
    "name": "ipython",
    "version": 3
   },
   "file_extension": ".py",
   "mimetype": "text/x-python",
   "name": "python",
   "nbconvert_exporter": "python",
   "pygments_lexer": "ipython3",
   "version": "3.8.10"
  }
 },
 "nbformat": 4,
 "nbformat_minor": 4
}
