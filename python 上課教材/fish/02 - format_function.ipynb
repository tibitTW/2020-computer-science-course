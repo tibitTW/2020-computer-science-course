{
 "cells": [
  {
   "cell_type": "markdown",
   "metadata": {
    "id": "aBf3yYUCp2hT"
   },
   "source": [
    "# 02 Python Basic : format&function"
   ]
  },
  {
   "cell_type": "markdown",
   "metadata": {
    "id": "tpsfYjOvpJpK"
   },
   "source": [
    "課本p2-3\n",
    "***Variable Naming rule:***\n",
    "1. 變數名稱的第一個字母必須是大小寫字母、”_”或中文字。\n",
    "c or Cost, _c or _cost, 成本 or _成本.\n",
    "2. 只能由大小寫字母、數字、”_”或中文組成的變數名稱。\n",
    "coSt, cost1, 8cost, _Cost, 比例%.\n",
    "3. 英文大小寫視為不同變數。\n",
    "變數名稱不能與Python內建的保留字相同。\n",
    "***Python內建保留字：***"
   ]
  },
  {
   "cell_type": "code",
   "execution_count": null,
   "metadata": {
    "id": "aAWNoyNanvAc"
   },
   "outputs": [],
   "source": [
    "import keyword\n",
    "keyword.kwlist\n"
   ]
  },
  {
   "cell_type": "markdown",
   "metadata": {
    "id": "VkQOebONpwK5"
   },
   "source": [
    "***number systems:***\n",
    "\n",
    "Binary: 0 and 1\n",
    "\n",
    "Quaternary: 0-3\n",
    "\n",
    "Octal: 0-7\n",
    "\n",
    "Decimal: 0-9\n",
    "\n",
    "Duodecimal: 0-12\n",
    "\n",
    "Hexadecimal: 0-f (10:a, 11: b, 12:c, 13: d, 14: e, 15: f)\n",
    "Vigesimal: 0-j (Maya civilization)\n",
    "\n",
    "Sexagesimal: 0-59\n",
    "\n"
   ]
  },
  {
   "cell_type": "markdown",
   "metadata": {
    "id": "azDMR4tjqT92"
   },
   "source": [
    "課本p2-6 print()參數格式化\n",
    "\n",
    "***Format***\n",
    "\n",
    "format(variable, specifier)\n"
   ]
  },
  {
   "cell_type": "markdown",
   "metadata": {
    "id": "uIKiFUCUqusy"
   },
   "source": [
    "**Exercise 1**\n"
   ]
  },
  {
   "cell_type": "code",
   "execution_count": null,
   "metadata": {
    "colab": {
     "base_uri": "https://localhost:8080/",
     "height": 102
    },
    "executionInfo": {
     "elapsed": 1106,
     "status": "ok",
     "timestamp": 1587522151378,
     "user": {
      "displayName": "工業科技教育學系陳君瑜",
      "photoUrl": "",
      "userId": "14372196664709609496"
     },
     "user_tz": -480
    },
    "id": "dDfTj87cp1Cm",
    "outputId": "5cc5ef15-a821-4da8-cec4-8f799536a8b5"
   },
   "outputs": [
    {
     "name": "stdout",
     "output_type": "stream",
     "text": [
      "Department  \n",
      "of          \n",
      "Computer    \n",
      "Science     \n",
      "\n"
     ]
    }
   ],
   "source": [
    "print(format('Department', '12s'))\n",
    "print(format('of', '12s'))\n",
    "print(format('Computer', '12s'))\n",
    "print(format('Science', '12s'))\n",
    "print()"
   ]
  },
  {
   "cell_type": "code",
   "execution_count": 7,
   "metadata": {
    "colab": {
     "base_uri": "https://localhost:8080/"
    },
    "executionInfo": {
     "elapsed": 823,
     "status": "ok",
     "timestamp": 1618923210902,
     "user": {
      "displayName": "工業科技教育學系陳君瑜",
      "photoUrl": "",
      "userId": "14372196664709609496"
     },
     "user_tz": -480
    },
    "id": "5oXiMWCbVNk1",
    "outputId": "ca28da19-9936-470c-9922-dab5c06e0a18"
   },
   "outputs": [
    {
     "name": "stdout",
     "output_type": "stream",
     "text": [
      "department         of   computer    science\n"
     ]
    }
   ],
   "source": [
    "print('%10s %10s %10s %10s' %('department', 'of' , 'computer', science))"
   ]
  },
  {
   "cell_type": "markdown",
   "metadata": {
    "id": "awd9MvWpU6E_"
   },
   "source": [
    "**課本練習 format.py (p2-7)**"
   ]
  },
  {
   "cell_type": "code",
   "execution_count": 2,
   "metadata": {
    "colab": {
     "base_uri": "https://localhost:8080/"
    },
    "executionInfo": {
     "elapsed": 1143,
     "status": "ok",
     "timestamp": 1618922998911,
     "user": {
      "displayName": "工業科技教育學系陳君瑜",
      "photoUrl": "",
      "userId": "14372196664709609496"
     },
     "user_tz": -480
    },
    "id": "4p0DTLSHVAG1",
    "outputId": "60c22770-dd2b-45e6-f3a9-b2f04af6606a"
   },
   "outputs": [
    {
     "name": "stdout",
     "output_type": "stream",
     "text": [
      "姓名   座號  國文  數學  英文\n",
      "林大明   1   100    87   79\n",
      "陳阿中   2    74    88  100\n",
      "張小英  11    82    65    8\n"
     ]
    }
   ],
   "source": [
    "print(\"姓名   座號  國文  數學  英文\")\n",
    "print(\"%3s  %2d   %3d   %3d  %3d\" % (\"林大明\", 1, 100, 87, 79))\n",
    "print(\"%3s  %2d   %3d   %3d  %3d\" % (\"陳阿中\", 2, 74, 88, 100))\n",
    "print(\"%3s  %2d   %3d   %3d  %3d\" % (\"張小英\", 11, 82, 65, 8))"
   ]
  },
  {
   "cell_type": "markdown",
   "metadata": {
    "id": "Yfx2Nd3krJ-T"
   },
   "source": [
    "**Exercise 2**"
   ]
  },
  {
   "cell_type": "code",
   "execution_count": null,
   "metadata": {
    "colab": {
     "base_uri": "https://localhost:8080/",
     "height": 34
    },
    "executionInfo": {
     "elapsed": 1160,
     "status": "ok",
     "timestamp": 1587522169640,
     "user": {
      "displayName": "工業科技教育學系陳君瑜",
      "photoUrl": "",
      "userId": "14372196664709609496"
     },
     "user_tz": -480
    },
    "id": "WYTtikMlq4LY",
    "outputId": "5750b4a8-cbaa-45a4-8b64-25fcc14435c1"
   },
   "outputs": [
    {
     "data": {
      "text/plain": [
       "(37.2, 98.96000000000001)"
      ]
     },
     "execution_count": 11,
     "metadata": {
      "tags": []
     },
     "output_type": "execute_result"
    }
   ],
   "source": [
    "# 攝氏溫度轉為華氏溫度\n",
    "c =37.2\n",
    "f = c*1.8+32\n",
    "c,f"
   ]
  },
  {
   "cell_type": "code",
   "execution_count": null,
   "metadata": {
    "colab": {
     "base_uri": "https://localhost:8080/",
     "height": 51
    },
    "executionInfo": {
     "elapsed": 1037,
     "status": "ok",
     "timestamp": 1587527087902,
     "user": {
      "displayName": "工業科技教育學系陳君瑜",
      "photoUrl": "",
      "userId": "14372196664709609496"
     },
     "user_tz": -480
    },
    "id": "1IERa-IRrmVs",
    "outputId": "2bf4615c-5d7a-4a39-dd0d-21094e1d7078"
   },
   "outputs": [
    {
     "name": "stdout",
     "output_type": "stream",
     "text": [
      "攝氏 -15.00 度 ＝ 華氏 98.96 度\n",
      "攝氏-15.000 度 ＝ 華氏 98.960 度\n"
     ]
    }
   ],
   "source": [
    "print('攝氏 %.2f 度 ＝ 華氏 %.2f 度' %(c,f))\n",
    "print(f'攝氏{c:.3f} 度 ＝ 華氏 {f:.3f} 度')"
   ]
  },
  {
   "cell_type": "markdown",
   "metadata": {
    "id": "VxW4Zx4Pskqj"
   },
   "source": [
    "**Exercise 3 一元二次方程式解**"
   ]
  },
  {
   "cell_type": "code",
   "execution_count": null,
   "metadata": {
    "colab": {
     "base_uri": "https://localhost:8080/",
     "height": 51
    },
    "executionInfo": {
     "elapsed": 923,
     "status": "ok",
     "timestamp": 1587522443257,
     "user": {
      "displayName": "工業科技教育學系陳君瑜",
      "photoUrl": "",
      "userId": "14372196664709609496"
     },
     "user_tz": -480
    },
    "id": "zJVo_WM5s9oK",
    "outputId": "f206bc38-2a68-43f1-8d47-ec9bfc97dabb"
   },
   "outputs": [
    {
     "name": "stdout",
     "output_type": "stream",
     "text": [
      "兩個實根分別為：-3.0 and 5.0\n",
      "兩個實根分別為：-3.00 and 5.00\n"
     ]
    }
   ],
   "source": [
    "#  一元二次方程式的解 （四則運算）\n",
    "a=1; b=-2; c=-15\n",
    "d= (b**2)-(4*a*c)\n",
    "s1= (-b-(d**0.5))/(2*a)\n",
    "s2= (-b+(d**0.5))/(2*a)\n",
    "d, s1,s2\n",
    "print('兩個實根分別為：{0} and {1}' .format(s1,s2))\n",
    "print('兩個實根分別為：%.2f and %.2f' %(s1,s2))"
   ]
  },
  {
   "cell_type": "markdown",
   "metadata": {
    "id": "0CETQk75uM5_"
   },
   "source": [
    "***python basic concepts***"
   ]
  },
  {
   "cell_type": "markdown",
   "metadata": {
    "id": "dnIQLBgNuQHW"
   },
   "source": [
    "變數(variable)：可改變內容值。\n",
    "1. 不可能關鍵字：\n",
    "print, sum, pow…\n",
    "2. 英文字母或底線(_)開頭，接下來可為數字、英文字母或底線。\n",
    "5s, $4, &7\n",
    "s5, S5, _SsSs5\n",
    "3. 大小寫有別。\n",
    "4. 看得懂的變數比簡寫好。\n",
    "daily_revenue vs dr\n",
    "4. 等號左邊是變數，等號右邊是數值或公式，等號是指派。\n",
    "    daily_income = (price-cost)*numOcafe\n"
   ]
  },
  {
   "cell_type": "markdown",
   "metadata": {
    "id": "jVAXuqgGulqu"
   },
   "source": [
    "**Exercise4 變數交換**"
   ]
  },
  {
   "cell_type": "code",
   "execution_count": null,
   "metadata": {
    "colab": {
     "base_uri": "https://localhost:8080/",
     "height": 85
    },
    "executionInfo": {
     "elapsed": 968,
     "status": "ok",
     "timestamp": 1587527166546,
     "user": {
      "displayName": "工業科技教育學系陳君瑜",
      "photoUrl": "",
      "userId": "14372196664709609496"
     },
     "user_tz": -480
    },
    "id": "4iasYAlBtG31",
    "outputId": "57cf1923-ec60-41a3-b316-4d9dda7e675d"
   },
   "outputs": [
    {
     "name": "stdout",
     "output_type": "stream",
     "text": [
      "x交換前：5\n",
      "y交換前：10\n",
      "x交換後：10\n",
      "y交換後：5\n"
     ]
    }
   ],
   "source": [
    "#交換兩個變數\n",
    "x=5; y=10\n",
    "print('x交換前：{}'.format(x))\n",
    "print('y交換前：{}'.format(y))\n",
    "print\n",
    "temp=x; x=y; y=temp #透過中間變數\n",
    "print('x交換後：{}'.format(x))\n",
    "print('y交換後：{}'.format(y))\n"
   ]
  },
  {
   "cell_type": "markdown",
   "metadata": {
    "id": "-TQ93Zw2WNs3"
   },
   "source": [
    "**課本p2-8 資料型態轉換**\n",
    "\n",
    "int()\n",
    "\n",
    "float()\n",
    "\n",
    "str()"
   ]
  },
  {
   "cell_type": "code",
   "execution_count": 12,
   "metadata": {
    "colab": {
     "base_uri": "https://localhost:8080/"
    },
    "executionInfo": {
     "elapsed": 471,
     "status": "ok",
     "timestamp": 1618923474597,
     "user": {
      "displayName": "工業科技教育學系陳君瑜",
      "photoUrl": "",
      "userId": "14372196664709609496"
     },
     "user_tz": -480
    },
    "id": "dhtXpYZmWYLx",
    "outputId": "2a3e74f2-1177-4542-d9a3-19afbb81954a"
   },
   "outputs": [
    {
     "name": "stdout",
     "output_type": "stream",
     "text": [
      "12.8\n",
      "6\n"
     ]
    },
    {
     "data": {
      "text/plain": [
       "float"
      ]
     },
     "execution_count": 12,
     "metadata": {
      "tags": []
     },
     "output_type": "execute_result"
    }
   ],
   "source": [
    "num1=5+7.8\n",
    "num2=5+True\n",
    "print(num1)\n",
    "print(num2)\n",
    "type(num1)\n"
   ]
  },
  {
   "cell_type": "code",
   "execution_count": 13,
   "metadata": {
    "colab": {
     "base_uri": "https://localhost:8080/",
     "height": 168
    },
    "executionInfo": {
     "elapsed": 948,
     "status": "error",
     "timestamp": 1618923511235,
     "user": {
      "displayName": "工業科技教育學系陳君瑜",
      "photoUrl": "",
      "userId": "14372196664709609496"
     },
     "user_tz": -480
    },
    "id": "qo5w7WyQXCwI",
    "outputId": "2dfeab75-0d58-4ef4-c8b8-81cc2ef9e166"
   },
   "outputs": [
    {
     "ename": "TypeError",
     "evalue": "ignored",
     "output_type": "error",
     "traceback": [
      "\u001b[0;31m---------------------------------------------------------------------------\u001b[0m",
      "\u001b[0;31mTypeError\u001b[0m                                 Traceback (most recent call last)",
      "\u001b[0;32m<ipython-input-13-0ec3a16bf24a>\u001b[0m in \u001b[0;36m<module>\u001b[0;34m()\u001b[0m\n\u001b[0;32m----> 1\u001b[0;31m \u001b[0mnum3\u001b[0m\u001b[0;34m=\u001b[0m\u001b[0;36m23\u001b[0m\u001b[0;34m+\u001b[0m\u001b[0;34m'67'\u001b[0m\u001b[0;34m\u001b[0m\u001b[0;34m\u001b[0m\u001b[0m\n\u001b[0m",
      "\u001b[0;31mTypeError\u001b[0m: unsupported operand type(s) for +: 'int' and 'str'"
     ]
    }
   ],
   "source": [
    "num3=23+'67'\n"
   ]
  },
  {
   "cell_type": "code",
   "execution_count": 14,
   "metadata": {
    "executionInfo": {
     "elapsed": 823,
     "status": "ok",
     "timestamp": 1618923532021,
     "user": {
      "displayName": "工業科技教育學系陳君瑜",
      "photoUrl": "",
      "userId": "14372196664709609496"
     },
     "user_tz": -480
    },
    "id": "__Kimt0CXHaQ"
   },
   "outputs": [],
   "source": [
    "num3=23+int('67')"
   ]
  },
  {
   "cell_type": "code",
   "execution_count": 20,
   "metadata": {
    "colab": {
     "base_uri": "https://localhost:8080/",
     "height": 185
    },
    "executionInfo": {
     "elapsed": 783,
     "status": "error",
     "timestamp": 1618923700640,
     "user": {
      "displayName": "工業科技教育學系陳君瑜",
      "photoUrl": "",
      "userId": "14372196664709609496"
     },
     "user_tz": -480
    },
    "id": "OdmznmjtXOEw",
    "outputId": "a94d254d-53c1-4e0f-d900-72f8af40dbf6"
   },
   "outputs": [
    {
     "ename": "TypeError",
     "evalue": "ignored",
     "output_type": "error",
     "traceback": [
      "\u001b[0;31m---------------------------------------------------------------------------\u001b[0m",
      "\u001b[0;31mTypeError\u001b[0m                                 Traceback (most recent call last)",
      "\u001b[0;32m<ipython-input-20-3f12c8d5f157>\u001b[0m in \u001b[0;36m<module>\u001b[0;34m()\u001b[0m\n\u001b[1;32m      1\u001b[0m \u001b[0mscore\u001b[0m\u001b[0;34m=\u001b[0m\u001b[0;36m60\u001b[0m\u001b[0;34m\u001b[0m\u001b[0;34m\u001b[0m\u001b[0m\n\u001b[0;32m----> 2\u001b[0;31m \u001b[0mprint\u001b[0m\u001b[0;34m(\u001b[0m\u001b[0;34m'ming\\'s score is:'\u001b[0m\u001b[0;34m+\u001b[0m\u001b[0mscore\u001b[0m\u001b[0;34m)\u001b[0m\u001b[0;34m\u001b[0m\u001b[0;34m\u001b[0m\u001b[0m\n\u001b[0m",
      "\u001b[0;31mTypeError\u001b[0m: can only concatenate str (not \"int\") to str"
     ]
    }
   ],
   "source": [
    "score=60\n",
    "print('ming\\'s score is:'+score)"
   ]
  },
  {
   "cell_type": "code",
   "execution_count": 21,
   "metadata": {
    "colab": {
     "base_uri": "https://localhost:8080/"
    },
    "executionInfo": {
     "elapsed": 802,
     "status": "ok",
     "timestamp": 1618923722515,
     "user": {
      "displayName": "工業科技教育學系陳君瑜",
      "photoUrl": "",
      "userId": "14372196664709609496"
     },
     "user_tz": -480
    },
    "id": "FoJ0Z3GEX2q4",
    "outputId": "29a868a1-415c-40b7-dcf4-0fded75714fa"
   },
   "outputs": [
    {
     "name": "stdout",
     "output_type": "stream",
     "text": [
      "ming's score is:60\n"
     ]
    }
   ],
   "source": [
    "print('ming\\'s score is:'+str(score))"
   ]
  },
  {
   "cell_type": "markdown",
   "metadata": {
    "id": "PiYglGb4xbBP"
   },
   "source": [
    "python 交換方式\n",
    "\n"
   ]
  },
  {
   "cell_type": "code",
   "execution_count": null,
   "metadata": {
    "colab": {
     "base_uri": "https://localhost:8080/",
     "height": 85
    },
    "executionInfo": {
     "elapsed": 934,
     "status": "ok",
     "timestamp": 1587527181200,
     "user": {
      "displayName": "工業科技教育學系陳君瑜",
      "photoUrl": "",
      "userId": "14372196664709609496"
     },
     "user_tz": -480
    },
    "id": "8Lx1b-6axuQ6",
    "outputId": "79f4db77-2b34-4ccc-def0-01d71b8ea530"
   },
   "outputs": [
    {
     "name": "stdout",
     "output_type": "stream",
     "text": [
      "a交換前：100\n",
      "b交換前：50\n",
      "a交換後：50\n",
      "b交換後：100\n"
     ]
    }
   ],
   "source": [
    "#交換兩個變數\n",
    "a=100; b=50\n",
    "print('a交換前：{}'.format(a))\n",
    "print('b交換前：{}'.format(b))\n",
    "print\n",
    "a,b =b,a #python 交換方式\n",
    "print('a交換後：{}'.format(a))\n",
    "print('b交換後：{}'.format(b))"
   ]
  },
  {
   "cell_type": "markdown",
   "metadata": {
    "id": "TGlq384QvWe8"
   },
   "source": [
    "常數(constant)：不可改變內容值。\n",
    "1. Python沒有變數，但可以將變數獨立定義在另一個檔案，以模組使用。\n",
    "Constant in constants.py:\n",
    "PI = 3.1415962\n",
    "GRAVITY = 9.8\n",
    "…\n",
    " import constants\n",
    " print(constants.PI)"
   ]
  },
  {
   "cell_type": "code",
   "execution_count": null,
   "metadata": {
    "id": "luMs9vqfvLkG"
   },
   "outputs": [],
   "source": [
    "import constants\n",
    "print(constants.PI)\n"
   ]
  },
  {
   "cell_type": "markdown",
   "metadata": {
    "id": "iaUrkLppxBVZ"
   },
   "source": [
    "運算式(expression)：\n",
    "\n",
    "變數：daily_income\n",
    "\n",
    "指定運算子：=\n",
    "\n",
    "運算元或算式：\n",
    "\n",
    "(price-cost)*numOcafe\n",
    "\n",
    "Example:\n",
    " price = 10; cost = 2; numOcafe = 800\n",
    "\n",
    " daily_income = (price-cost)*numOcafe\n",
    " \n",
    " str1 = ‘Learning Python’ + ‘ is fun.’"
   ]
  },
  {
   "cell_type": "markdown",
   "metadata": {
    "id": "8xbaD7j5x_n-"
   },
   "source": [
    "\n",
    "**Exercise 5  area of triangle 海龍公式**\n",
    "\n",
    "https://www.google.com/url?sa=i&url=https%3A%2F%2Fblog.xuite.net%2Fa85810321%2Ftwblog%2F116345977-%25E6%25B5%25B7%25E9%25BE%258D%25E5%2585%25AC%25E5%25BC%258F%2BHero%2528n%2529%2526%252339%253Bs%2Bformula&psig=AOvVaw1E3Aygjs1pwLEc4m2q_QhZ&ust=1587543002284000&source=images&cd=vfe&ved=0CAIQjRxqFwoTCOCB6NeI-egCFQAAAAAdAAAAABAO"
   ]
  },
  {
   "cell_type": "code",
   "execution_count": null,
   "metadata": {
    "id": "uwqNcvTIyMK9"
   },
   "outputs": [],
   "source": [
    "#海龍公式\n",
    "a=3; b=6;c=4\n",
    "s=(a+b+c)/2\n",
    "area= (s*(s-a)*(s-b)*(s-c))**0.5\n",
    "print('面積=%0.3f'%area)"
   ]
  },
  {
   "cell_type": "markdown",
   "metadata": {
    "id": "OXhEKdiH0ItQ"
   },
   "source": [
    "**其他：**\n",
    "\n",
    "要注意的是，有時字串很長，可能會連續到下一行時，則需藉助 \\ ，如下敘述所示：\n",
    " \n",
    " str2 = 'Learning Pyhton ' + \\\n",
    "         'is fun'\n",
    " \n",
    " print(str2)"
   ]
  },
  {
   "cell_type": "code",
   "execution_count": null,
   "metadata": {
    "colab": {
     "base_uri": "https://localhost:8080/",
     "height": 34
    },
    "executionInfo": {
     "elapsed": 1434,
     "status": "ok",
     "timestamp": 1587457178357,
     "user": {
      "displayName": "工業科技教育學系陳君瑜",
      "photoUrl": "",
      "userId": "14372196664709609496"
     },
     "user_tz": -480
    },
    "id": "LT_4CS_SzqUc",
    "outputId": "81d48654-d4fa-45f6-fbee-344f6a591415"
   },
   "outputs": [
    {
     "name": "stdout",
     "output_type": "stream",
     "text": [
      "Learning Pyhton is fun\n"
     ]
    }
   ],
   "source": [
    "str2 = 'Learning Pyhton ' + \\\n",
    "         'is fun'\n",
    "print(str2)\n"
   ]
  },
  {
   "cell_type": "markdown",
   "metadata": {
    "id": "yKkUYaaZ0v8Z"
   },
   "source": [
    "# 擴增指定運算子"
   ]
  },
  {
   "cell_type": "code",
   "execution_count": null,
   "metadata": {
    "colab": {
     "base_uri": "https://localhost:8080/",
     "height": 85
    },
    "executionInfo": {
     "elapsed": 912,
     "status": "ok",
     "timestamp": 1587527275852,
     "user": {
      "displayName": "工業科技教育學系陳君瑜",
      "photoUrl": "",
      "userId": "14372196664709609496"
     },
     "user_tz": -480
    },
    "id": "fJjPWNS_0fDV",
    "outputId": "132a6e67-87d4-4a1a-aa97-1736a4e4d560"
   },
   "outputs": [
    {
     "name": "stdout",
     "output_type": "stream",
     "text": [
      "12\n",
      "60\n",
      "20\n",
      "2\n"
     ]
    }
   ],
   "source": [
    " a = 10\n",
    " a += 2 #a=a+2\n",
    " print(a)\n",
    "\n",
    " a *= 5 #a=a*5\n",
    " print(a)\n",
    "\n",
    " a //= 3 #a=a//3\n",
    " print(a)\n",
    "\n",
    " a %= 6 #a=a%6\n",
    " print(a)\n"
   ]
  },
  {
   "cell_type": "markdown",
   "metadata": {
    "id": "h3HMl4cJ1A15"
   },
   "source": [
    "**課本2-9 輸入函式input()**"
   ]
  },
  {
   "cell_type": "code",
   "execution_count": null,
   "metadata": {
    "id": "WYrutTEU05eX"
   },
   "outputs": [],
   "source": [
    "k = eval(input())\n",
    "k\n",
    "print(k)"
   ]
  },
  {
   "cell_type": "code",
   "execution_count": 22,
   "metadata": {
    "colab": {
     "base_uri": "https://localhost:8080/",
     "height": 69
    },
    "executionInfo": {
     "elapsed": 6267,
     "status": "ok",
     "timestamp": 1618923782008,
     "user": {
      "displayName": "工業科技教育學系陳君瑜",
      "photoUrl": "",
      "userId": "14372196664709609496"
     },
     "user_tz": -480
    },
    "id": "lu9Vvr6b1TRz",
    "outputId": "0f6e7d0c-31b3-4b6c-c138-3bfc9de6618a"
   },
   "outputs": [
    {
     "name": "stdout",
     "output_type": "stream",
     "text": [
      "Please enter an integer: 34\n",
      "34\n"
     ]
    },
    {
     "data": {
      "application/vnd.google.colaboratory.intrinsic+json": {
       "type": "string"
      },
      "text/plain": [
       "'34'"
      ]
     },
     "execution_count": 22,
     "metadata": {
      "tags": []
     },
     "output_type": "execute_result"
    }
   ],
   "source": [
    "str2 = input('Please enter an integer: ')\n",
    "print(str2)\n",
    "str2"
   ]
  },
  {
   "cell_type": "code",
   "execution_count": 23,
   "metadata": {
    "colab": {
     "base_uri": "https://localhost:8080/",
     "height": 202
    },
    "executionInfo": {
     "elapsed": 13780,
     "status": "error",
     "timestamp": 1618923803992,
     "user": {
      "displayName": "工業科技教育學系陳君瑜",
      "photoUrl": "",
      "userId": "14372196664709609496"
     },
     "user_tz": -480
    },
    "id": "ZWwQtTQJ1onG",
    "outputId": "6f73a1b9-91e6-4e1c-dd26-218cc7860df3"
   },
   "outputs": [
    {
     "name": "stdout",
     "output_type": "stream",
     "text": [
      "Please enter an integer: 3\n"
     ]
    },
    {
     "ename": "TypeError",
     "evalue": "ignored",
     "output_type": "error",
     "traceback": [
      "\u001b[0;31m---------------------------------------------------------------------------\u001b[0m",
      "\u001b[0;31mTypeError\u001b[0m                                 Traceback (most recent call last)",
      "\u001b[0;32m<ipython-input-23-ea9fefc90003>\u001b[0m in \u001b[0;36m<module>\u001b[0;34m()\u001b[0m\n\u001b[1;32m      1\u001b[0m \u001b[0mstr2\u001b[0m \u001b[0;34m=\u001b[0m \u001b[0minput\u001b[0m\u001b[0;34m(\u001b[0m\u001b[0;34m'Please enter an integer: '\u001b[0m\u001b[0;34m)\u001b[0m\u001b[0;34m\u001b[0m\u001b[0;34m\u001b[0m\u001b[0m\n\u001b[0;32m----> 2\u001b[0;31m \u001b[0mnum\u001b[0m \u001b[0;34m=\u001b[0m \u001b[0mstr2\u001b[0m \u001b[0;34m+\u001b[0m \u001b[0;36m100\u001b[0m\u001b[0;34m\u001b[0m\u001b[0;34m\u001b[0m\u001b[0m\n\u001b[0m",
      "\u001b[0;31mTypeError\u001b[0m: can only concatenate str (not \"int\") to str"
     ]
    }
   ],
   "source": [
    "str2 = input('Please enter an integer: ')\n",
    "num = str2 + 100"
   ]
  },
  {
   "cell_type": "markdown",
   "metadata": {
    "id": "lGHLRAuJ15eC"
   },
   "source": [
    "此錯誤是因為str2 是字串與數值100 無法相加的緣故，因此需要有一機制將字串轉換為數值"
   ]
  },
  {
   "cell_type": "code",
   "execution_count": 24,
   "metadata": {
    "colab": {
     "base_uri": "https://localhost:8080/"
    },
    "executionInfo": {
     "elapsed": 5098,
     "status": "ok",
     "timestamp": 1618923840848,
     "user": {
      "displayName": "工業科技教育學系陳君瑜",
      "photoUrl": "",
      "userId": "14372196664709609496"
     },
     "user_tz": -480
    },
    "id": "HzsK-QAC12Lr",
    "outputId": "96a14f86-5c1e-4679-dfec-fcb8ec4c2c6f"
   },
   "outputs": [
    {
     "name": "stdout",
     "output_type": "stream",
     "text": [
      "Please enter an integer: 6\n",
      "86\n"
     ]
    }
   ],
   "source": [
    "str2 = eval(input('Please enter an integer: '))\n",
    "num = str2 + 80\n",
    "print(num)"
   ]
  },
  {
   "cell_type": "markdown",
   "metadata": {
    "id": "ndPx5eFt2SHm"
   },
   "source": [
    "**程式練習**\n",
    "\n",
    "請輸入三個數值，然後計算其總和與平均數，並加以輸出。\n",
    "此練習請大家自己練習完成。"
   ]
  },
  {
   "cell_type": "code",
   "execution_count": 25,
   "metadata": {
    "colab": {
     "base_uri": "https://localhost:8080/"
    },
    "executionInfo": {
     "elapsed": 8921,
     "status": "ok",
     "timestamp": 1618924120514,
     "user": {
      "displayName": "工業科技教育學系陳君瑜",
      "photoUrl": "",
      "userId": "14372196664709609496"
     },
     "user_tz": -480
    },
    "id": "GKPcvCn3ZBQO",
    "outputId": "4f9574a5-3779-4283-c5d3-4bbb7d6711e6"
   },
   "outputs": [
    {
     "name": "stdout",
     "output_type": "stream",
     "text": [
      "請輸入國文成績：34\n",
      "請輸入數學成績：56\n",
      "請輸入英文成績：75\n",
      "成績總分：165，平均成績：55.00\n"
     ]
    }
   ],
   "source": [
    "#課本練習 p2-13 score.py\n",
    "\n",
    "nat = input(\"請輸入國文成績：\")\n",
    "math = input(\"請輸入數學成績：\")\n",
    "eng = input(\"請輸入英文成績：\")\n",
    "sum = int(nat) + int(math) + int(eng)  #輸入值需轉換為整數\n",
    "average = sum / 3\n",
    "print(\"成績總分：%d，平均成績：%5.2f\" % (sum, average))"
   ]
  },
  {
   "cell_type": "markdown",
   "metadata": {
    "id": "i5UunyeK2_gq"
   },
   "source": [
    "**Exercise6:  CAFE BUSINESS**\n",
    "\n",
    "Input a number of 'daily café sale' and output daily net profit.\n",
    "\n",
    "Price of a cup of café = 10\n",
    "\n",
    "Cost of a cup of café = 2\n",
    "\n",
    "Daily rent of Café shop = 3000\n",
    "\n",
    "Daily human cost = 2000\n",
    "\n",
    "Daily opening cost = 500\n",
    "\n",
    "\n"
   ]
  },
  {
   "cell_type": "markdown",
   "metadata": {
    "id": "qs52xR-v3eSh"
   },
   "source": [
    "***FUNCTIONS***"
   ]
  },
  {
   "cell_type": "markdown",
   "metadata": {
    "id": "WtsAcTZysABn"
   },
   "source": [
    "Build-in functions:\n",
    "\n",
    "https://killer0001.blogspot.com/2017/12/4-python-function.html"
   ]
  },
  {
   "cell_type": "markdown",
   "metadata": {
    "id": "R3XiP6ros5Ms"
   },
   "source": [
    "Math functions 常用數學函式:\n",
    "\n",
    "Python 中常用數學函式，使用前需載入 math 模組\n",
    "\n",
    "import  math\n",
    "\n",
    "0.常數：\n",
    "\n",
    "（1） math.e    =  2.71828...\n",
    "（2） math.pi    = 3.141592...\n",
    "\n",
    "1.指數：\n",
    "\n",
    "（1）  math.pow(2, 10)    ==  2^10\n",
    "\n",
    "擴充套件 :  math.pow(2, 3, 3)  ==  2^3%3 = 2        #  取模指數\n",
    "\n",
    "（2） math.exp( 10 )    == e^10\n",
    "\n",
    "（3） math.sqrt( 10 )   == 10^0.5 == math.pow(10, 0.5)\n",
    "\n",
    "2.對數：  \n",
    "（1）  math.log(  數值 [， 底數] )       # 底數值缺失則預設為以 math.e為底數\n",
    "\n",
    "math.log(4,  2)     ==  log24  = 2\n",
    "\n",
    "math.log(math.e)   ==  ln e =  1\n",
    "\n",
    "3.取整 :\n",
    "\n",
    "（1）math.ceil( 4.2 )  == 5    # 向上取整\n",
    "\n",
    "（2）math.floor( 4.2 ) == 4  # 向下取整\n",
    "\n",
    "4.三角函式：\n",
    "\n",
    "（1） math.degrees( math.pi )  == 180.0    # 弧度換角度\n",
    "\n",
    "（2） math.radians( 60.0 )  == math.pi/3  = 1.04..      # 角度換弧度 【注意】：所有函式的引數都是弧度值\n",
    "\n",
    "（3） math.sin(math.pi/6) == 1/2  # sin( )\n",
    "\n",
    "（4） math.cos(math.pi/3) == 1/2 #  cos( )\n",
    "\n",
    "（5） math.tan(math.pi/4) == 1     #  tan( )\n",
    "\n"
   ]
  },
  {
   "cell_type": "markdown",
   "metadata": {
    "id": "6ILKdbBaumRP"
   },
   "source": [
    "Exercise7 : 三角函數\n"
   ]
  },
  {
   "cell_type": "code",
   "execution_count": null,
   "metadata": {
    "colab": {
     "base_uri": "https://localhost:8080/",
     "height": 34
    },
    "executionInfo": {
     "elapsed": 1199,
     "status": "ok",
     "timestamp": 1587472727470,
     "user": {
      "displayName": "工業科技教育學系陳君瑜",
      "photoUrl": "",
      "userId": "14372196664709609496"
     },
     "user_tz": -480
    },
    "id": "rKK8ph393iOQ",
    "outputId": "98b51376-baab-461c-f4d4-a2c19a4da773"
   },
   "outputs": [
    {
     "name": "stdout",
     "output_type": "stream",
     "text": [
      "Sin(30)= 0.49999999999999994\n"
     ]
    }
   ],
   "source": [
    "# 度數的三角函數\n",
    "import math #使用三角函數前先引入math 套件\n",
    "\n",
    "def dsin(theta): #自訂副程式 dsin(theta) 引數是度數\n",
    "  a=math.pi/(180/theta)\n",
    "  return math.sin(a)\n",
    "  \n",
    "print('Sin(30)=',dsin(30))"
   ]
  },
  {
   "cell_type": "code",
   "execution_count": null,
   "metadata": {
    "id": "7VVQz-DSvWWy"
   },
   "outputs": [],
   "source": [
    "# 度數的三角函數\n",
    "import math #使用三角函數前先引入math 套件\n",
    "\n",
    "def dsin(theta): #自訂副程式 dsin(theta) 引數是度數\n",
    "  a=math.pi/(180/theta)\n",
    "  return math.sin(a)\n",
    "\n",
    "print('Sin(30)=',dsin(30))\n",
    "print('Sin(45)=',dsin(45))\n",
    "print('Sin(60)=',dsin(60))\n",
    "\n",
    "stra=str(dsin(30))\n",
    "print(stra[0:7])"
   ]
  },
  {
   "cell_type": "markdown",
   "metadata": {
    "id": "1NPFFXQ8wZbW"
   },
   "source": [
    "***Bonus1 兩點直線距離***\n",
    "完成加分\n",
    "1.   Input two-point coordinates (x1,y1) and (x2,y2)\n",
    "2.   Calculate the distance between two points\n",
    "3.   Print two-point coordinates and distance\n",
    "\n",
    "Test: X1=2, y1=1,x2=5.5, y2=8\n",
    "\n",
    "Distance= 7.82623792\n",
    "\n"
   ]
  },
  {
   "cell_type": "markdown",
   "metadata": {
    "id": "9UpvzIuzxH7O"
   },
   "source": [
    "***Bonus2 計算N邊形面積*** \n",
    "完成加分\n",
    "1. Area = (N * S2)/(4*tan(Pi/n))\n",
    "2. S為邊長\n",
    "3. test: N=5, s=6.5, area=72.69017488"
   ]
  },
  {
   "cell_type": "code",
   "execution_count": null,
   "metadata": {
    "colab": {
     "base_uri": "https://localhost:8080/",
     "height": 68
    },
    "executionInfo": {
     "elapsed": 8806,
     "status": "ok",
     "timestamp": 1589892229397,
     "user": {
      "displayName": "工業科技教育學系陳君瑜",
      "photoUrl": "",
      "userId": "14372196664709609496"
     },
     "user_tz": -480
    },
    "id": "Tr1nGR_K9NyD",
    "outputId": "18d78652-8669-4a22-f5e3-143020f696d0"
   },
   "outputs": [
    {
     "name": "stdout",
     "output_type": "stream",
     "text": [
      "8\n",
      "6\n",
      "Area = 173.8234\n"
     ]
    }
   ],
   "source": [
    "import math\n",
    "n = eval(input())\n",
    "s = eval(input())\n",
    "Area=(n*(s**2))/(4*math.tan(math.pi/n))\n",
    "print(\"Area = %.4f\"%(Area))"
   ]
  },
  {
   "cell_type": "markdown",
   "metadata": {
    "id": "qT9eUnYyxidz"
   },
   "source": [
    "***Bonus3 改寫前述 exercise5的海龍公式***\n",
    "完成加分\n",
    "1. 可以輸入三邊長\n",
    "2. 用math.sqrt()"
   ]
  }
 ],
 "metadata": {
  "colab": {
   "authorship_tag": "ABX9TyNE9nCn4k5GF5pPNXr/ENTb",
   "collapsed_sections": [],
   "name": "202102format&function.ipynb",
   "provenance": [
    {
     "file_id": "1ftuyBLQ4F2hzJ7-nX3kGeTjpfGj2SnMx",
     "timestamp": 1618922657575
    }
   ],
   "toc_visible": true
  },
  "kernelspec": {
   "display_name": "Python 3",
   "language": "python",
   "name": "python3"
  },
  "language_info": {
   "codemirror_mode": {
    "name": "ipython",
    "version": 3
   },
   "file_extension": ".py",
   "mimetype": "text/x-python",
   "name": "python",
   "nbconvert_exporter": "python",
   "pygments_lexer": "ipython3",
   "version": "3.8.10"
  }
 },
 "nbformat": 4,
 "nbformat_minor": 4
}
