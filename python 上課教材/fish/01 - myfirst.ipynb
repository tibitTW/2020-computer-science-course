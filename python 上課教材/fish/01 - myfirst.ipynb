{
 "cells": [
  {
   "cell_type": "markdown",
   "metadata": {
    "id": "gMHb327LqI39"
   },
   "source": [
    "# 01 Python Basic : myfirst "
   ]
  },
  {
   "cell_type": "markdown",
   "metadata": {
    "id": "txN9czQ2aZej"
   },
   "source": [
    "***檢視安裝套件與版本***"
   ]
  },
  {
   "cell_type": "code",
   "execution_count": null,
   "metadata": {
    "id": "5XoLpyh_gaX6"
   },
   "outputs": [],
   "source": [
    "print(hello)"
   ]
  },
  {
   "cell_type": "code",
   "execution_count": null,
   "metadata": {
    "id": "oZmxnJwj2A_R"
   },
   "outputs": [],
   "source": [
    "print (\"hello\")"
   ]
  },
  {
   "cell_type": "code",
   "execution_count": null,
   "metadata": {
    "id": "B3A-e41n2Q7A"
   },
   "outputs": [],
   "source": [
    "!pip list"
   ]
  },
  {
   "cell_type": "code",
   "execution_count": null,
   "metadata": {
    "id": "KBYeaeTD2SvT"
   },
   "outputs": [],
   "source": [
    "!pip install --upgrade pygame\n"
   ]
  },
  {
   "cell_type": "code",
   "execution_count": null,
   "metadata": {
    "id": "SK3c90j72kNx"
   },
   "outputs": [],
   "source": [
    "!python -V"
   ]
  },
  {
   "cell_type": "markdown",
   "metadata": {
    "id": "WHchfzQPahk9"
   },
   "source": [
    "# ***第一個小程式***"
   ]
  },
  {
   "cell_type": "code",
   "execution_count": null,
   "metadata": {
    "colab": {
     "base_uri": "https://localhost:8080/",
     "height": 51
    },
    "executionInfo": {
     "elapsed": 1119,
     "status": "ok",
     "timestamp": 1587524427342,
     "user": {
      "displayName": "工業科技教育學系陳君瑜",
      "photoUrl": "",
      "userId": "14372196664709609496"
     },
     "user_tz": -480
    },
    "id": "8izW1yRlU4SW",
    "outputId": "7b587f70-3d33-4dcd-c525-e790b98d78f4"
   },
   "outputs": [
    {
     "name": "stdout",
     "output_type": "stream",
     "text": [
      "sum123\n",
      "49\n"
     ]
    }
   ],
   "source": [
    "a=15\n",
    "b=34\n",
    "sum=a+b\n",
    "print(\"sum123\")\n",
    "print(sum)"
   ]
  },
  {
   "cell_type": "code",
   "execution_count": null,
   "metadata": {
    "colab": {
     "base_uri": "https://localhost:8080/",
     "height": 34
    },
    "executionInfo": {
     "elapsed": 997,
     "status": "ok",
     "timestamp": 1587519435138,
     "user": {
      "displayName": "工業科技教育學系陳君瑜",
      "photoUrl": "",
      "userId": "14372196664709609496"
     },
     "user_tz": -480
    },
    "id": "K3mNlyzyYo_-",
    "outputId": "28c1e697-c4c7-4feb-fdd0-92af53950c6c"
   },
   "outputs": [
    {
     "data": {
      "text/plain": [
       "(12, 34, 46)"
      ]
     },
     "execution_count": 9,
     "metadata": {
      "tags": []
     },
     "output_type": "execute_result"
    }
   ],
   "source": [
    "a, b, sum"
   ]
  },
  {
   "cell_type": "code",
   "execution_count": 6,
   "metadata": {
    "executionInfo": {
     "elapsed": 683,
     "status": "ok",
     "timestamp": 1618922561428,
     "user": {
      "displayName": "工業科技教育學系陳君瑜",
      "photoUrl": "",
      "userId": "14372196664709609496"
     },
     "user_tz": -480
    },
    "id": "FffNgkXnTHKZ"
   },
   "outputs": [],
   "source": [
    "#課本page 2-3\n",
    "a=b=c=20\n",
    "age,name=5,\"小小兵\"\n",
    "del c"
   ]
  },
  {
   "cell_type": "code",
   "execution_count": null,
   "metadata": {
    "id": "YX6rHiCnYtxK"
   },
   "outputs": [],
   "source": [
    "print(\"Summary=\", sum)"
   ]
  },
  {
   "cell_type": "code",
   "execution_count": null,
   "metadata": {
    "colab": {
     "base_uri": "https://localhost:8080/",
     "height": 34
    },
    "executionInfo": {
     "elapsed": 1003,
     "status": "ok",
     "timestamp": 1587524936292,
     "user": {
      "displayName": "工業科技教育學系陳君瑜",
      "photoUrl": "",
      "userId": "14372196664709609496"
     },
     "user_tz": -480
    },
    "id": "OcIwsTX52-Os",
    "outputId": "748ba5de-986d-4c57-8877-1a9641b88e6b"
   },
   "outputs": [
    {
     "name": "stdout",
     "output_type": "stream",
     "text": [
      "a=3,b=6,c=9\n"
     ]
    }
   ],
   "source": [
    "print(\"a=3,b=6,c=9\")"
   ]
  },
  {
   "cell_type": "code",
   "execution_count": null,
   "metadata": {
    "colab": {
     "base_uri": "https://localhost:8080/",
     "height": 34
    },
    "executionInfo": {
     "elapsed": 906,
     "status": "ok",
     "timestamp": 1587525068265,
     "user": {
      "displayName": "工業科技教育學系陳君瑜",
      "photoUrl": "",
      "userId": "14372196664709609496"
     },
     "user_tz": -480
    },
    "id": "QG3-dPLT3Idf",
    "outputId": "a20265e6-b2cc-4fb0-d12e-118b80c06015"
   },
   "outputs": [
    {
     "name": "stdout",
     "output_type": "stream",
     "text": [
      "b=34, aaa=15, c=49\n"
     ]
    }
   ],
   "source": [
    "print(\"b=%d, aaa=%d, c=%d\" %(b,a,sum))"
   ]
  },
  {
   "cell_type": "code",
   "execution_count": null,
   "metadata": {
    "colab": {
     "base_uri": "https://localhost:8080/",
     "height": 34
    },
    "executionInfo": {
     "elapsed": 977,
     "status": "ok",
     "timestamp": 1587524430194,
     "user": {
      "displayName": "工業科技教育學系陳君瑜",
      "photoUrl": "",
      "userId": "14372196664709609496"
     },
     "user_tz": -480
    },
    "id": "aXJxTxtbZh2d",
    "outputId": "a006e91f-3047-4048-9b4d-de94d0c0ddaf"
   },
   "outputs": [
    {
     "name": "stdout",
     "output_type": "stream",
     "text": [
      "a=15,b=34,Summary=49\n"
     ]
    }
   ],
   "source": [
    "print(\"a=%d,b=%d,Summary=%d\" %(a,b,sum))"
   ]
  },
  {
   "cell_type": "code",
   "execution_count": null,
   "metadata": {
    "id": "5cHpsfb1TCq1"
   },
   "outputs": [],
   "source": []
  },
  {
   "cell_type": "markdown",
   "metadata": {
    "id": "1ntUaZGRf2fx"
   },
   "source": [
    "# BUG"
   ]
  },
  {
   "cell_type": "markdown",
   "metadata": {
    "id": "sfirf4sRaUoB"
   },
   "source": [
    "***BUG1. 語法錯誤! syntax error***"
   ]
  },
  {
   "cell_type": "code",
   "execution_count": null,
   "metadata": {
    "id": "hDp50HwLalzV"
   },
   "outputs": [],
   "source": [
    "print(A rolling stone gathers no moss )"
   ]
  },
  {
   "cell_type": "code",
   "execution_count": null,
   "metadata": {
    "id": "9FrFEs-VbNCT"
   },
   "outputs": [],
   "source": [
    "print('A rolling stone gathers no moss' )"
   ]
  },
  {
   "cell_type": "markdown",
   "metadata": {
    "id": "0i-rRHqWbXnn"
   },
   "source": [
    "*** BUG2. 執行期間錯誤! runtime error***\n",
    "\n",
    "1 / 0 運算式就會產生執行期間的錯誤。\n",
    "\n",
    "數學運算的加、減、乘、除於Python的寫法是 +、-、*、/"
   ]
  },
  {
   "cell_type": "code",
   "execution_count": null,
   "metadata": {
    "id": "SEZWCiZdbVZn"
   },
   "outputs": [],
   "source": [
    "print(1/0)"
   ]
  },
  {
   "cell_type": "code",
   "execution_count": null,
   "metadata": {
    "colab": {
     "base_uri": "https://localhost:8080/",
     "height": 68
    },
    "executionInfo": {
     "elapsed": 1048,
     "status": "ok",
     "timestamp": 1587525592241,
     "user": {
      "displayName": "工業科技教育學系陳君瑜",
      "photoUrl": "",
      "userId": "14372196664709609496"
     },
     "user_tz": -480
    },
    "id": "nCMgVseJ3xFK",
    "outputId": "ec8696ea-eead-4f25-ecf2-2836011ecc42"
   },
   "outputs": [
    {
     "name": "stdout",
     "output_type": "stream",
     "text": [
      "20.0\n",
      "10.0\n",
      "6.666666666666667\n"
     ]
    }
   ],
   "source": [
    "for i in range(1,4):\n",
    "  print(20/i)\n"
   ]
  },
  {
   "cell_type": "markdown",
   "metadata": {
    "id": "l382UkU_boS2"
   },
   "source": [
    "***BUG3. 邏輯錯誤! logic error***"
   ]
  },
  {
   "cell_type": "code",
   "execution_count": null,
   "metadata": {
    "id": "TEm1GQeebiZh"
   },
   "outputs": [],
   "source": [
    "#convert F to C\n",
    "print('80F= %3.3f C' %(5/9*80-32))"
   ]
  },
  {
   "cell_type": "code",
   "execution_count": null,
   "metadata": {
    "id": "T8lFOurTbwH8"
   },
   "outputs": [],
   "source": [
    "#convert F to C\n",
    "print('80F= %.2f C' %(5/9*(80-32)))\n",
    "print('250F= %.2f C' %(5/9*(250-32)))"
   ]
  },
  {
   "cell_type": "markdown",
   "metadata": {
    "id": "69ii9neHc99H"
   },
   "source": [
    "\n",
    "\n",
    "# ***my first python code***\n",
    "\n",
    "一杯咖啡賣10元，成本2元，每天賣800杯。\n",
    "\n",
    "請問每日營收(daily income)與毛利(daily gross profit)為多少？"
   ]
  },
  {
   "cell_type": "code",
   "execution_count": 1,
   "metadata": {
    "colab": {
     "base_uri": "https://localhost:8080/"
    },
    "executionInfo": {
     "elapsed": 918,
     "status": "ok",
     "timestamp": 1618922167981,
     "user": {
      "displayName": "工業科技教育學系陳君瑜",
      "photoUrl": "",
      "userId": "14372196664709609496"
     },
     "user_tz": -480
    },
    "id": "-Jq64zqpcOua",
    "outputId": "a4f4a813-85b5-4b64-8ab3-2ad69b8c338c"
   },
   "outputs": [
    {
     "name": "stdout",
     "output_type": "stream",
     "text": [
      "daily income: 8000\n",
      "daily gross profit: 6400\n"
     ]
    }
   ],
   "source": [
    "# p:price per cup, c:cost, n:number of cafe sale per day\n",
    "p=10; c=2; n=800\n",
    "# i: daily income\n",
    "i=p*n\n",
    "print ('daily income: %3d'%i)\n",
    "# ni: daily gross profit\n",
    "ni= (p-c)*n\n",
    "print ('daily gross profit: %3d'%ni)"
   ]
  },
  {
   "cell_type": "code",
   "execution_count": 3,
   "metadata": {
    "colab": {
     "base_uri": "https://localhost:8080/"
    },
    "executionInfo": {
     "elapsed": 677,
     "status": "ok",
     "timestamp": 1618922225429,
     "user": {
      "displayName": "工業科技教育學系陳君瑜",
      "photoUrl": "",
      "userId": "14372196664709609496"
     },
     "user_tz": -480
    },
    "id": "C_fszcZORs2-",
    "outputId": "ad5cbe54-d20a-4e8d-f474-5a652f140dbf"
   },
   "outputs": [
    {
     "name": "stdout",
     "output_type": "stream",
     "text": [
      "daily income: 8000\n",
      "daily gross profit:  6400\n"
     ]
    }
   ],
   "source": [
    "# print格式用法 f\n",
    "print(f'daily income: {i}')\n",
    "print(f'daily gross profit:  {ni}')"
   ]
  },
  {
   "cell_type": "code",
   "execution_count": 4,
   "metadata": {
    "colab": {
     "base_uri": "https://localhost:8080/"
    },
    "executionInfo": {
     "elapsed": 670,
     "status": "ok",
     "timestamp": 1618922300629,
     "user": {
      "displayName": "工業科技教育學系陳君瑜",
      "photoUrl": "",
      "userId": "14372196664709609496"
     },
     "user_tz": -480
    },
    "id": "XRqVal9wSTmD",
    "outputId": "54b3a19b-2f44-4c70-8dbc-f4490ab25357"
   },
   "outputs": [
    {
     "name": "stdout",
     "output_type": "stream",
     "text": [
      "daily income: 8000\n",
      "daily gross profit: 6400\n"
     ]
    }
   ],
   "source": [
    "# print格式用法 .format\n",
    "print('daily income: {}'.format(i))\n",
    "print('daily gross profit: {}'.format(ni))"
   ]
  },
  {
   "cell_type": "code",
   "execution_count": null,
   "metadata": {
    "id": "xm6vB2N37pL4"
   },
   "outputs": [],
   "source": []
  }
 ],
 "metadata": {
  "colab": {
   "authorship_tag": "ABX9TyP++BT4+xYyW7Vh6hVlf6Qv",
   "collapsed_sections": [],
   "name": "202101myfirst.ipynb",
   "provenance": [
    {
     "file_id": "1BI64ohP4f4-g4POIkR7GtRHUjTdnRWzK",
     "timestamp": 1618921984265
    }
   ],
   "toc_visible": true
  },
  "kernelspec": {
   "display_name": "Python 3",
   "language": "python",
   "name": "python3"
  },
  "language_info": {
   "codemirror_mode": {
    "name": "ipython",
    "version": 3
   },
   "file_extension": ".py",
   "mimetype": "text/x-python",
   "name": "python",
   "nbconvert_exporter": "python",
   "pygments_lexer": "ipython3",
   "version": "3.8.6"
  }
 },
 "nbformat": 4,
 "nbformat_minor": 1
}
