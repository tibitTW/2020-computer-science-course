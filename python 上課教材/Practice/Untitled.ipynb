{
 "cells": [
  {
   "cell_type": "code",
   "execution_count": 1,
   "id": "a2749a13-93f8-46a4-9a7e-5ad23fea67aa",
   "metadata": {},
   "outputs": [
    {
     "name": "stdout",
     "output_type": "stream",
     "text": [
      "490 ms ± 143 ms per loop (mean ± std. dev. of 7 runs, 1 loop each)\n"
     ]
    }
   ],
   "source": [
    "%%timeit\n",
    "a = 0\n",
    "for i in range(10000000):\n",
    "    a += 1"
   ]
  },
  {
   "cell_type": "code",
   "execution_count": 2,
   "id": "990715f0-01c4-4a17-ad3b-dc123bc45864",
   "metadata": {},
   "outputs": [
    {
     "name": "stdout",
     "output_type": "stream",
     "text": [
      "606 ms ± 24.7 ms per loop (mean ± std. dev. of 7 runs, 1 loop each)\n"
     ]
    }
   ],
   "source": [
    "%%timeit\n",
    "a = []\n",
    "for i in range(10000000):\n",
    "    a.append(0)"
   ]
  },
  {
   "cell_type": "code",
   "execution_count": null,
   "id": "640e7e5c-da15-4947-838b-c301c2e3fb1e",
   "metadata": {},
   "outputs": [],
   "source": []
  }
 ],
 "metadata": {
  "kernelspec": {
   "display_name": "Python 3",
   "language": "python",
   "name": "python3"
  },
  "language_info": {
   "codemirror_mode": {
    "name": "ipython",
    "version": 3
   },
   "file_extension": ".py",
   "mimetype": "text/x-python",
   "name": "python",
   "nbconvert_exporter": "python",
   "pygments_lexer": "ipython3",
   "version": "3.8.10"
  }
 },
 "nbformat": 4,
 "nbformat_minor": 5
}
