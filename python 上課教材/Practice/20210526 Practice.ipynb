{
 "cells": [
  {
   "cell_type": "markdown",
   "id": "27892834",
   "metadata": {},
   "source": [
    "# 1\n",
    "\n",
    "下面有一個陣列`nameList`，裡面儲存了一些英文名字。請把`nameList`內的這些名字儲存到文字檔`name.txt`中，一行放一個名字"
   ]
  },
  {
   "cell_type": "code",
   "execution_count": 3,
   "id": "85440bb9-1e57-439b-9f3d-ea8acb83da36",
   "metadata": {},
   "outputs": [],
   "source": [
    "nameList = ['Jacob',\n",
    "     'Charlie',\n",
    "     'Thomas',\n",
    "     'George',\n",
    "     'Oscar',\n",
    "     'Amelia',\n",
    "     'William',\n",
    "     'Olivia',\n",
    "     'Isla',\n",
    "     'Emily',\n",
    "     'Poppy',\n",
    "     'James',\n",
    "     'Jessica',\n",
    "     'Ava',\n",
    "     'Isabella',\n",
    "     'Lily',\n",
    "     'Sophie']\n",
    "\n",
    "# write your code below\n"
   ]
  },
  {
   "cell_type": "markdown",
   "id": "6deb9fec-4b36-4cf0-bc0b-9086d52bd1bf",
   "metadata": {},
   "source": [
    "# 2\n",
    "\n",
    "建立一個檔案`1.txt`，內容如下 :\n",
    "\n",
    "* 1.txt\n",
    "\n",
    "\n",
    "> The  \n",
    "> quick  \n",
    "> brown  \n",
    "> fox  \n",
    "> jumps  \n",
    "> over  \n",
    "> the  \n",
    "> lazy  \n",
    "> dog\n",
    "\n",
    "\n",
    "請用程式將這個檔案的每一行讀取出來並輸出(`print()`)，每個單字之間留一個空格\n",
    "\n",
    "* 輸出範例 :\n",
    "\n",
    "```\n",
    "The quick brown fox jumps over the lazy dog\n",
    "```"
   ]
  },
  {
   "cell_type": "markdown",
   "id": "786a4108-8a0b-4da5-87ef-6ec4c95b09ef",
   "metadata": {},
   "source": [
    "# 3\n",
    "\n",
    "找出1~100之間的所有質數(用python寫)，並把找到的數字存到檔案`prime.txt`中，一行只放一個數字\n",
    "\n",
    "`prime.txt` 應該會長這樣:\n",
    "\n",
    "> 2  \n",
    "> 3  \n",
    "> 5  \n",
    "> 7  \n",
    "> 11  \n",
    "> 13  \n",
    "> ...(省略)  \n",
    "> 97  "
   ]
  },
  {
   "cell_type": "code",
   "execution_count": null,
   "id": "829dc988-64e9-4a88-8833-405e9a183c9c",
   "metadata": {},
   "outputs": [],
   "source": []
  }
 ],
 "metadata": {
  "kernelspec": {
   "display_name": "Python 3.8.3 64-bit",
   "language": "python",
   "name": "python38364bit77bb13c7d6434690befce17b6bae7706"
  },
  "language_info": {
   "codemirror_mode": {
    "name": "ipython",
    "version": 3
   },
   "file_extension": ".py",
   "mimetype": "text/x-python",
   "name": "python",
   "nbconvert_exporter": "python",
   "pygments_lexer": "ipython3",
   "version": "3.8.10"
  },
  "metadata": {
   "interpreter": {
    "hash": "59e6ca1d8e5ff34c756f5b41d408e2331385b4ce0474aed8d6e918b3c1a89964"
   }
  }
 },
 "nbformat": 4,
 "nbformat_minor": 5
}
