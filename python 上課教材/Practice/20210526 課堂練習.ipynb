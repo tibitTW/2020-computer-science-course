{
 "cells": [
  {
   "cell_type": "code",
   "execution_count": 6,
   "id": "57358bd2-19e9-49b2-b91a-a7003ebcd154",
   "metadata": {},
   "outputs": [],
   "source": [
    "# 計算N階層\n",
    "def fac(n):\n",
    "    if n == 0: return 1\n",
    "    if n == 1: return 1\n",
    "    \n",
    "    return n * fac(n-1)"
   ]
  },
  {
   "cell_type": "code",
   "execution_count": 8,
   "id": "f1c1beb4-46cc-49e0-a786-e14bdaf767f4",
   "metadata": {},
   "outputs": [
    {
     "name": "stdout",
     "output_type": "stream",
     "text": [
      "1\n",
      "1\n",
      "2\n",
      "6\n",
      "24\n",
      "120\n",
      "720\n",
      "5040\n",
      "40320\n",
      "362880\n"
     ]
    }
   ],
   "source": [
    "# 測試\n",
    "for i in range(10):\n",
    "    print(fac(i))"
   ]
  },
  {
   "cell_type": "code",
   "execution_count": 30,
   "id": "7c798560-14d9-4c68-be39-907e22649b1d",
   "metadata": {},
   "outputs": [],
   "source": [
    "# 計算N階層的其他方式\n",
    "def fac2(n):\n",
    "    res = 1\n",
    "    for i in range(2, n+1):\n",
    "        res = res * i\n",
    "    \n",
    "    return res"
   ]
  },
  {
   "cell_type": "code",
   "execution_count": null,
   "id": "e80ababe-ba79-4ff6-ad23-9353fae18dcf",
   "metadata": {},
   "outputs": [],
   "source": [
    "# 計算N階層的其他方式\n",
    "def fac3(n):\n",
    "    res = 1\n",
    "    i = 2\n",
    "    while i <= n:\n",
    "        res = res * i\n",
    "        i += 1\n",
    "        \n",
    "    return res"
   ]
  },
  {
   "cell_type": "markdown",
   "id": "63e16491-1f0e-4727-8674-25558f4ffd27",
   "metadata": {},
   "source": [
    "---"
   ]
  },
  {
   "cell_type": "code",
   "execution_count": 54,
   "id": "4122a0c7-3a44-41c6-9989-600692b499cc",
   "metadata": {},
   "outputs": [],
   "source": [
    "# 數字反轉(用字串)\n",
    "def numberReverse(n):\n",
    "    n = str(n)\n",
    "    res = ''\n",
    "    for i in range(len(n)):\n",
    "        res += n[len(n)-i-1]\n",
    "    return int(res)"
   ]
  },
  {
   "cell_type": "code",
   "execution_count": 55,
   "id": "8000fc31-8c66-403b-9dd1-368726e616d7",
   "metadata": {},
   "outputs": [],
   "source": [
    "# 數字反轉(用字串)\n",
    "def numberReverseByString(n):\n",
    "    n = str(n)\n",
    "    res = ''\n",
    "    for i in range(len(n)):\n",
    "        res += n[-1 * (i + 1)]\n",
    "    return int(res)"
   ]
  },
  {
   "cell_type": "code",
   "execution_count": 56,
   "id": "0ceeaf8e-ee1a-4327-bbca-393a85ec8427",
   "metadata": {},
   "outputs": [],
   "source": [
    "# 數字反轉(用陣列)\n",
    "def numberReverse1(n):\n",
    "    n = str(n)\n",
    "    res = []\n",
    "    for i in range(len(n)):\n",
    "        res.append(n[len(n)-i-1])\n",
    "    return int(''.join(res))"
   ]
  },
  {
   "cell_type": "code",
   "execution_count": 57,
   "id": "e2577aa0-0b70-4718-90da-d7bff47d7ba4",
   "metadata": {},
   "outputs": [],
   "source": [
    "# 數字反轉(用除法)\n",
    "def numberReverse2(n):\n",
    "    res = 0\n",
    "    while n:\n",
    "        res *= 10\n",
    "        res += n % 10\n",
    "        n //= 10\n",
    "    \n",
    "    return res"
   ]
  },
  {
   "cell_type": "code",
   "execution_count": 58,
   "id": "6f5f2c79-008e-4fff-829f-ed73bc438ab2",
   "metadata": {},
   "outputs": [
    {
     "name": "stdout",
     "output_type": "stream",
     "text": [
      "321\n",
      "321\n",
      "4321\n",
      "54321\n"
     ]
    }
   ],
   "source": [
    "print(numberReverse(123))\n",
    "print(numberReverse1(123))\n",
    "print(numberReverse2(1234))\n",
    "print(numberReverseByString(12345))"
   ]
  }
 ],
 "metadata": {
  "kernelspec": {
   "display_name": "Python 3",
   "language": "python",
   "name": "python3"
  },
  "language_info": {
   "codemirror_mode": {
    "name": "ipython",
    "version": 3
   },
   "file_extension": ".py",
   "mimetype": "text/x-python",
   "name": "python",
   "nbconvert_exporter": "python",
   "pygments_lexer": "ipython3",
   "version": "3.8.10"
  }
 },
 "nbformat": 4,
 "nbformat_minor": 5
}
