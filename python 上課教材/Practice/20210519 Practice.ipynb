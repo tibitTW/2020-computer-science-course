{
 "cells": [
  {
   "cell_type": "markdown",
   "id": "e3a75002-df7f-46b4-a1e9-bda9dc8c0f8a",
   "metadata": {},
   "source": [
    "# 1\n",
    "\n",
    "建立一個函式`calculateRangeSum()`，參數為兩個整數`a`及`b`(也可以取其他的名字)，回傳(`return`)這兩個數之間(包含這兩個數字)所有整數的和\n",
    "\n",
    "* example 1\n",
    "\n",
    "    * Input \n",
    "\n",
    "    > `calculateRangeSum(3, 5)`\n",
    "    \n",
    "    * Output\n",
    "    \n",
    "    > `12`\n",
    "\n",
    "* example 2\n",
    "\n",
    "    * Input \n",
    "\n",
    "    > `calculateRangeSum(1, 10)`\n",
    "    \n",
    "    * Output\n",
    "    \n",
    "    > `55`"
   ]
  },
  {
   "cell_type": "code",
   "execution_count": null,
   "id": "cd8301c2-37d2-43c2-8d07-df8749858744",
   "metadata": {},
   "outputs": [],
   "source": [
    "def calculateRangeSum(a, b):\n",
    "    pass\n",
    "    # your code here"
   ]
  },
  {
   "cell_type": "code",
   "execution_count": null,
   "id": "ff16c289-de5e-4ab9-baf8-83f8d3b2b290",
   "metadata": {},
   "outputs": [],
   "source": [
    "# 可以執行這個區塊測試，看看結果是否都印出 True\n",
    "print(calculateRangeSum(3, 5) == 12)\n",
    "print(calculateRangeSum(1, 10) == 55)\n",
    "print(calculateRangeSum(345, 734512) == 269754246988)"
   ]
  },
  {
   "cell_type": "markdown",
   "id": "168279d6-331f-4b2e-9fc2-05b29b1b7fba",
   "metadata": {},
   "source": [
    "# 2\n",
    "\n",
    "建立一個函式`calculateRectArea()`，參數為一個方形的寬`width`及高`height`。將此方形的寬、高及面積輸出(用下面的格式)\n",
    "\n",
    "* 輸入範例\n",
    "\n",
    "> 3  \n",
    "> 5\n",
    "\n",
    "* 輸出範例\n",
    "\n",
    "> Rect shape : 3 x 5  \n",
    "> Rect area : 15"
   ]
  },
  {
   "cell_type": "code",
   "execution_count": null,
   "id": "61ced2d4-7a90-46ce-827a-43b3d0c29145",
   "metadata": {},
   "outputs": [],
   "source": [
    "def calculateRectArea(width, height):\n",
    "    pass\n",
    "    # your code here"
   ]
  },
  {
   "cell_type": "markdown",
   "id": "f8aa89dc-59d7-429c-991b-0444cf94ed96",
   "metadata": {},
   "source": [
    "# 3\n",
    "\n",
    "費波那契數列如下:  \n",
    "`1, 1, 2, 3, 5, 8, 13, 21, 34, 55, 89, ...`\n",
    "\n",
    "在數學內費波那契數列使用遞迴的方式定義。令$F_n$為費波那契數列的第$n$項，則有以下規則:\n",
    "\n",
    "#### $F_0 = 1$\n",
    "#### $F_1 = 1$\n",
    "#### $F_n = F_{n-1} + F_{n-2}$ for n > 1\n",
    "\n",
    "請設計一個函式`fib(n)`，回傳費波那契數列第`n`項的值"
   ]
  },
  {
   "cell_type": "code",
   "execution_count": null,
   "id": "a81bbf47-3a1b-451d-bd24-ef1074a19300",
   "metadata": {},
   "outputs": [],
   "source": [
    "def fib(n):\n",
    "    pass\n",
    "    # your code here"
   ]
  }
 ],
 "metadata": {
  "kernelspec": {
   "display_name": "Python 3.8.3 64-bit",
   "language": "python",
   "name": "python38364bit77bb13c7d6434690befce17b6bae7706"
  },
  "language_info": {
   "codemirror_mode": {
    "name": "ipython",
    "version": 3
   },
   "file_extension": ".py",
   "mimetype": "text/x-python",
   "name": "python",
   "nbconvert_exporter": "python",
   "pygments_lexer": "ipython3",
   "version": "3.8.10"
  },
  "metadata": {
   "interpreter": {
    "hash": "59e6ca1d8e5ff34c756f5b41d408e2331385b4ce0474aed8d6e918b3c1a89964"
   }
  }
 },
 "nbformat": 4,
 "nbformat_minor": 5
}
