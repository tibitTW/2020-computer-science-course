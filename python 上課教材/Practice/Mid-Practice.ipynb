{
 "cells": [
  {
   "cell_type": "markdown",
   "metadata": {},
   "source": [
    "# Basic"
   ]
  },
  {
   "cell_type": "markdown",
   "metadata": {},
   "source": [
    "## 1\n",
    "\n",
    "有一個一元三次方程式為 :\n",
    "\n",
    "$f(x) = x^3 + 3x^2 - 12x + 27$\n",
    "\n",
    "請寫一段程式，讓使用者輸入$x$的值，之後輸出$f(x)$的結果\n",
    "\n",
    "* **輸入說明**\n",
    "\n",
    "> 輸入資料為一行，包含一個整數`x`\n",
    "\n",
    "* **輸出說明**\n",
    "\n",
    "> $f(x)$ 計算出來的結果\n",
    "\n",
    "* **example 1**\n",
    "\n",
    "    * Input\n",
    "    \n",
    "    > `3`\n",
    "    \n",
    "    * Output\n",
    "    \n",
    "    > `45`\n",
    "\n",
    "* **example 2**\n",
    "\n",
    "    * Input\n",
    "    \n",
    "    > `486`\n",
    "    \n",
    "    * Output\n",
    "    \n",
    "    > `115494039`"
   ]
  },
  {
   "cell_type": "code",
   "execution_count": null,
   "metadata": {},
   "outputs": [],
   "source": [
    "# write down your code here\n"
   ]
  },
  {
   "cell_type": "markdown",
   "metadata": {
    "tags": []
   },
   "source": [
    "## 2\n",
    "\n",
    "使用者輸入`A`、`B`、`C`三個數，請判斷三個數字的大小並輸出判斷結果\n",
    "\n",
    "* **輸入說明**\n",
    "\n",
    "> 輸入共有三行，每行有一個整數，分別為`A`、`B`、`C`的值\n",
    "\n",
    "* **輸出說明**\n",
    "\n",
    "> `A`、`B`、`C`相對的大小關係，由大到小排序，如`A > B > C`\n",
    "\n",
    "* **example 1**\n",
    "\n",
    "    * Input\n",
    "    \n",
    "    > `3`  \n",
    "    > `2`  \n",
    "    > `1`\n",
    "    \n",
    "    * Output\n",
    "    \n",
    "    > `A > B > C`\n",
    "\n",
    "* **example 2**\n",
    "\n",
    "    * Input\n",
    "    \n",
    "    > `123`  \n",
    "    > `821`  \n",
    "    > `589`\n",
    "    \n",
    "    * Output\n",
    "    \n",
    "    > `B > C > A`"
   ]
  },
  {
   "cell_type": "code",
   "execution_count": null,
   "metadata": {},
   "outputs": [],
   "source": [
    "# write down your code here\n"
   ]
  },
  {
   "cell_type": "markdown",
   "metadata": {},
   "source": [
    "## 3\n",
    "\n",
    "使用者輸入兩個數`a`與`b`，計算`a` `b`之間所有數(包含`a`跟`b`)平方值的和\n",
    "\n",
    "* **輸入說明**\n",
    "\n",
    "> 輸入共有兩行，每一行有一個整數，分別為`a`與`b`的值(`a` 恆小於 `b`)\n",
    "\n",
    "* **輸出說明**\n",
    "\n",
    "> `a` `b`之間所有數(包含`a`跟`b`)平方值的和\n",
    "\n",
    "* **example 1**\n",
    "\n",
    "    * Input\n",
    "    \n",
    "    > `3`  \n",
    "    > `5`  \n",
    "    \n",
    "    * Output\n",
    "    \n",
    "    > `50`\n",
    "    \n",
    "    * Explanation\n",
    "    \n",
    "    $3^2 + 4^2 + 5^2 = 9 + 16 + 25 = 50$\n",
    "    \n",
    "* **example 2**\n",
    "\n",
    "    * Input\n",
    "    \n",
    "    > `7`  \n",
    "    > `12`  \n",
    "    \n",
    "    * Output\n",
    "    \n",
    "    > `559`\n",
    "    \n",
    "    * Explanation\n",
    "    \n",
    "    $7^2 + 8^2 + 9^2 + 10^2 + 11^2 + 12^2 = 49 + 64 + 81 + 100 + 121 + 144 = 559$"
   ]
  },
  {
   "cell_type": "code",
   "execution_count": null,
   "metadata": {},
   "outputs": [],
   "source": [
    "# write down your code here\n"
   ]
  },
  {
   "cell_type": "markdown",
   "metadata": {},
   "source": [
    "## 4\n",
    "\n",
    "使用者輸入一個數`n`，判斷此數字是否是質數\n",
    "\n",
    "* **輸入說明**\n",
    "\n",
    "> 輸入有一行，第一行有一個整數為`a`的值\n",
    "\n",
    "* **輸出說明**\n",
    "\n",
    "> 如果`a`是質數，則輸出`YES`，否則輸出`NO`\n",
    "\n",
    "* **example 1**\n",
    "\n",
    "    * Input\n",
    "    \n",
    "    > `3`\n",
    "    \n",
    "    * Output\n",
    "    \n",
    "    > `YES`\n",
    "    \n",
    "* **example 2**\n",
    "\n",
    "    * Input\n",
    "    \n",
    "    > `19319394129319`  \n",
    "    \n",
    "    * Output\n",
    "    \n",
    "    > `YES`"
   ]
  },
  {
   "cell_type": "code",
   "execution_count": null,
   "metadata": {},
   "outputs": [],
   "source": [
    "# write down your code here\n"
   ]
  },
  {
   "cell_type": "markdown",
   "metadata": {},
   "source": [
    "# Bonus"
   ]
  },
  {
   "cell_type": "markdown",
   "metadata": {},
   "source": [
    "## *\n",
    "\n",
    "近幾年新冠病毒肆虐，某國開發了一款APP來檢測國民的安全。此APP會為每個國民產生一個隨機ID，以此ID代表每個人的身分。\n",
    "現在需要施打疫苗，而由於疫苗數量不足，在下表內的10個人中只有3個人能施打疫苗，因此決定採用以下的規則來判斷該讓誰先施打。  \n",
    "此規則為積分制，符合某個條件即可獲得對應的分數。計算每個人的總分之後，再按照分數的高低排出積分前三名，此前三個人可以施打疫苗。\n",
    "\n",
    "規則如下 :  \n",
    "\n",
    "1. 如果ID的尾數(即個位數)是3，則可以獲得3分 (i.e. 1931023905123)\n",
    "2. 如果ID可以被3整除且不能被7整除，則可以獲得5分 (i.e. 848186611854)\n",
    "3. 如果ID的每一位數中0~9的每個數字至少都出現一次，則獲得7分 (i.e. 5967148372012)\n",
    "\n",
    "| 名稱 | 隨機ID |\n",
    "| --- | --- |\n",
    "| Barbara | 596847301923 |\n",
    "| Joseph | 615752795213 |\n",
    "| Jessica | 485203425813 |\n",
    "| Sarah | 498900394888 |\n",
    "| Karen | 909511833569 |\n",
    "| Mary | 128312320310 |\n",
    "| John | 769544958264 |\n",
    "| Jennifer | 997996590716 |\n",
    "| Michael | 848186691852 |\n",
    "| William | 794582867301 |\n",
    "\n",
    "表中的十個人已經用`id_dict`紀錄他們的名字及隨機ID  \n",
    "\n",
    "* **輸出格式**\n",
    "\n",
    "> 輸出能施打疫苗的三人姓名"
   ]
  },
  {
   "cell_type": "code",
   "execution_count": null,
   "metadata": {},
   "outputs": [],
   "source": [
    "id_dict = {\n",
    "    'Barbara' : 596847301923,\n",
    "    'Joseph' : 615752795213,\n",
    "    'Jessica' : 485203425813,\n",
    "    'Sarah' : 498900394888,\n",
    "    'Karen' : 909511833569,\n",
    "    'Mary' : 128312320310,\n",
    "    'John' : 769544958264,\n",
    "    'Jennifer' : 997996590716,\n",
    "    'Michael' : 848186691852,\n",
    "    'William' : 794582867301\n",
    "}\n",
    "\n",
    "# write down your code here\n"
   ]
  }
 ],
 "metadata": {
  "kernelspec": {
   "display_name": "Python 3",
   "language": "python",
   "name": "python3"
  },
  "language_info": {
   "codemirror_mode": {
    "name": "ipython",
    "version": 3
   },
   "file_extension": ".py",
   "mimetype": "text/x-python",
   "name": "python",
   "nbconvert_exporter": "python",
   "pygments_lexer": "ipython3",
   "version": "3.8.10"
  },
  "toc-autonumbering": false
 },
 "nbformat": 4,
 "nbformat_minor": 4
}
