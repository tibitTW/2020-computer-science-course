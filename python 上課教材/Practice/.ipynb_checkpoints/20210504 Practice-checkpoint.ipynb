{
 "cells": [
  {
   "cell_type": "markdown",
   "metadata": {},
   "source": [
    "# 1"
   ]
  },
  {
   "cell_type": "markdown",
   "metadata": {},
   "source": [
    "現在我們有一個儲存世界各地一些城市的陣列\n",
    "\n",
    "`city_list:list` -> 存放城市的名稱的陣列  \n",
    "`print_city_list():function` -> 輸出`city_list`的內容\n",
    "\n",
    "執行下方的區塊可以看到`print_city_list()`執行的結果"
   ]
  },
  {
   "cell_type": "code",
   "execution_count": null,
   "metadata": {},
   "outputs": [],
   "source": [
    "def print_city_list():\n",
    "    for i, city in enumerate(city_list):\n",
    "        print(f'{i}\\t{city}')\n",
    "        \n",
    "city_list = ['Taipei', 'New York', 'Paris', 'London']\n",
    "print_city_list()"
   ]
  },
  {
   "cell_type": "markdown",
   "metadata": {},
   "source": [
    "### 1.1\n",
    "\n",
    "在此陣列的最後加上一個新的城市 : `Rome`  \n",
    "增加後使用`print_city_list()`來輸出陣列目前的內容\n",
    "\n",
    "> Hint : `list.append()`"
   ]
  },
  {
   "cell_type": "code",
   "execution_count": null,
   "metadata": {},
   "outputs": [],
   "source": [
    "# your code here\n"
   ]
  },
  {
   "cell_type": "markdown",
   "metadata": {},
   "source": [
    "### 1.2\n",
    "\n",
    "在陣列中`New York`跟`Paris`之間插入一個新的城市 : `Tokyo`  \n",
    "同樣使用`print_city_list()`查看陣列的內容\n",
    "\n",
    "> Hint : `list.insert()`"
   ]
  },
  {
   "cell_type": "code",
   "execution_count": null,
   "metadata": {},
   "outputs": [],
   "source": [
    "# your code here\n"
   ]
  },
  {
   "cell_type": "markdown",
   "metadata": {},
   "source": [
    "### 1.3\n",
    "\n",
    "刪除陣列中任一個一開始就存在的城市(`Taipei`/`New York`/`Paris`/`London`選一個)  \n",
    "刪除後輸出陣列的內容\n",
    "\n",
    "> Hint :  `list.pop()` / `list.remove()`"
   ]
  },
  {
   "cell_type": "code",
   "execution_count": null,
   "metadata": {},
   "outputs": [],
   "source": [
    "# your code here\n"
   ]
  },
  {
   "cell_type": "markdown",
   "metadata": {},
   "source": [
    "# 2"
   ]
  },
  {
   "cell_type": "markdown",
   "metadata": {},
   "source": [
    "現在有一個陣列 `grade_list` 紀錄3年A班的期中考成績  \n",
    "\n",
    "成績名單格式如下 :\n",
    "\n",
    "`[姓名, 國文成績, 數學成績, 英文成績]`"
   ]
  },
  {
   "cell_type": "code",
   "execution_count": null,
   "metadata": {},
   "outputs": [],
   "source": [
    "grade_list = [\n",
    "    ['James', 93, 74, 79],\n",
    "    ['Mary', 94, 90, 94],\n",
    "    ['John', 72, 84, 75],\n",
    "    ['Patricia', 83, 71, 86],\n",
    "    ['Robert', 83, 86, 74],\n",
    "    ['Jennifer', 95, 92, 85],\n",
    "    ['Michael', 93, 83, 95],\n",
    "    ['Linda', 95, 93, 76],\n",
    "    ['William', 70, 78, 89],\n",
    "    ['Elizabeth', 76, 79, 95],\n",
    "    ['David', 90, 93, 81],\n",
    "    ['Barbara', 77, 73, 72],\n",
    "    ['Richard', 84, 76, 82],\n",
    "    ['Susan', 78, 75, 70],\n",
    "    ['Joseph', 85, 90, 76],\n",
    "    ['Jessica', 93, 76, 85],\n",
    "    ['Thomas', 70, 75, 80],\n",
    "    ['Sarah', 93, 75, 84],\n",
    "    ['Charles', 85, 95, 83],\n",
    "    ['Karen', 94, 77, 72]\n",
    "]"
   ]
  },
  {
   "cell_type": "markdown",
   "metadata": {},
   "source": [
    "### 2.1\n",
    "\n",
    "使用for迴圈輸出每個人的名稱及他的國文成績  \n",
    "\n",
    "格式 :  \n",
    "\n",
    "姓名 - 成績\n",
    "\n",
    "範例 : \n",
    "\n",
    "```\n",
    "James - 93\n",
    "Mary - 94\n",
    "John - 72\n",
    "...\n",
    "```\n",
    "\n",
    "* bonus : 使用格式化輸出控制輸出格式，名字設定為8格長\n",
    "\n",
    "    輸出範例 :\n",
    "\n",
    "    ```\n",
    "    James    - 93\n",
    "    Mary     - 94\n",
    "    John     - 72\n",
    "    ...\n",
    "    ```"
   ]
  },
  {
   "cell_type": "code",
   "execution_count": null,
   "metadata": {},
   "outputs": [],
   "source": [
    "# your code here\n"
   ]
  },
  {
   "cell_type": "markdown",
   "metadata": {},
   "source": [
    "### 2.2\n",
    "\n",
    "計算每個人三科的平均成績，取到小數點後兩位\n",
    "\n",
    "範例格式 :\n",
    "\n",
    "```\n",
    "James : 92.33\n",
    "Mery : 82.70\n",
    "...\n",
    "```\n",
    "\n",
    "* bonus : 使用格式化輸出控制輸出格式，名字設定為8格長並靠右\n",
    "\n",
    "    輸出範例 : \n",
    "\n",
    "    ```\n",
    "    James    : 92.33\n",
    "    Mery     : 82.70\n",
    "    ...\n",
    "    ```"
   ]
  },
  {
   "cell_type": "code",
   "execution_count": null,
   "metadata": {},
   "outputs": [],
   "source": [
    "# your code here\n"
   ]
  },
  {
   "cell_type": "markdown",
   "metadata": {},
   "source": [
    "### 2.3 (Bonus)\n",
    "\n",
    "計算並輸出此班數學成績的最高分、最低分及平均數\n",
    "\n",
    "範例格式 :  \n",
    "\n",
    "```\n",
    "Max : 97\n",
    "Min : 72\n",
    "Avg : 86\n",
    "```"
   ]
  },
  {
   "cell_type": "code",
   "execution_count": null,
   "metadata": {},
   "outputs": [],
   "source": [
    "# your code here\n"
   ]
  }
 ],
 "metadata": {
  "kernelspec": {
   "display_name": "Python 3",
   "language": "python",
   "name": "python3"
  },
  "language_info": {
   "codemirror_mode": {
    "name": "ipython",
    "version": 3
   },
   "file_extension": ".py",
   "mimetype": "text/x-python",
   "name": "python",
   "nbconvert_exporter": "python",
   "pygments_lexer": "ipython3",
   "version": "3.8.6"
  }
 },
 "nbformat": 4,
 "nbformat_minor": 4
}
