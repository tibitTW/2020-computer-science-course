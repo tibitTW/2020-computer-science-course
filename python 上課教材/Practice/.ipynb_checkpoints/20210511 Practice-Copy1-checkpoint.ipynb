{
 "cells": [
  {
   "cell_type": "markdown",
   "id": "013242a0",
   "metadata": {},
   "source": [
    "# 1"
   ]
  },
  {
   "cell_type": "markdown",
   "id": "4a4289f0-b23f-4fac-8cc9-940dd08393a5",
   "metadata": {},
   "source": [
    "### 1.1\n",
    "\n",
    "建立一個名為`myList`的`list`及`myTuple`的`tuple`，內容元素都是`9, 5, 2, 7`四個數  \n",
    "建立之後分別將`mylist`及`myTuple`的內容輸出\n",
    "\n",
    "* Output:\n",
    "\n",
    "```python\n",
    "[9, 5, 2, 7]\n",
    "(9, 5, 2, 7)\n",
    "```"
   ]
  },
  {
   "cell_type": "code",
   "execution_count": null,
   "id": "cf4799f6-fc32-4276-82de-6c9c54495c34",
   "metadata": {},
   "outputs": [],
   "source": [
    "# your code here\n"
   ]
  },
  {
   "cell_type": "markdown",
   "id": "b1dd9008-b3b2-4b8c-b1cb-ca69ef7e8547",
   "metadata": {},
   "source": [
    "### 1.2\n",
    "\n",
    "嘗試將`myList`中的`5`替換成`1`並輸出結果"
   ]
  },
  {
   "cell_type": "code",
   "execution_count": null,
   "id": "4786edc0-325d-4371-b4a0-8fc541657e16",
   "metadata": {},
   "outputs": [],
   "source": [
    "# your code here\n"
   ]
  },
  {
   "cell_type": "markdown",
   "id": "33b86f08-34db-461c-b4e3-e0f7a9eccf08",
   "metadata": {},
   "source": [
    "### 1.3\n",
    "\n",
    "嘗試將`myTuple`中的`5`替換成`1`並輸出結果"
   ]
  },
  {
   "cell_type": "code",
   "execution_count": null,
   "id": "6c16f6df-1597-442e-801c-8b0a268431be",
   "metadata": {},
   "outputs": [],
   "source": [
    "# your code here\n"
   ]
  },
  {
   "cell_type": "markdown",
   "id": "2638742c-d6b6-48f7-b19b-7504b208ba67",
   "metadata": {},
   "source": [
    "# 2"
   ]
  },
  {
   "cell_type": "markdown",
   "id": "6e22acda-0486-4b11-9cf8-43f5c68070c6",
   "metadata": {},
   "source": [
    "2021年5/7~5/20期間，全X一部分優惠商品的價格如下:\n",
    "\n",
    "| 品項 | 價格(元) |\n",
    "| --- | --- |\n",
    "|桂格大燕麥片(2600g/盒) | 298 |\n",
    "|一匙靈超濃縮洗衣粉(1.9kg/盒) | 98 |\n",
    "|柏克金三月啤酒(6入) | 187 |\n",
    "|Cheers氣泡水(590ml/瓶) | 21 |\n",
    "|台鹽海洋鹼性離子水(1500ml/瓶) | 35 |\n",
    "|春風抽取式衛生紙(10入/組) | 99 |\n",
    "|奧利奧夾心餅乾(133g/盒) | 36 |\n",
    "|福樂高鈣牛乳(1892ml/瓶) | 109 |\n",
    "|盛香珍Dr.Q蒟蒻(265g/包) | 42 |\n",
    "\n",
    "這些價格紀錄在`price_dict`這個`dict`容器裡面。  \n",
    "以下是阿梅的購物清單，請利用`price_dict`找出她共需要花多少錢\n",
    "\n",
    "* 桂格大燕麥片 x 2盒\n",
    "* Cheers氣泡水  x 4瓶\n",
    "* 福樂高鈣牛乳  x 2瓶\n",
    "* 春風衛生紙  x 2組(共20入)"
   ]
  },
  {
   "cell_type": "code",
   "execution_count": null,
   "id": "3aa888d7-998c-4c9c-98b8-3811189b2b9b",
   "metadata": {},
   "outputs": [],
   "source": [
    "price_dict = {\n",
    "    '桂格大燕麥片': 298,\n",
    "    '一匙靈超濃縮洗衣粉': 98,\n",
    "    '柏克金三月啤酒': 187,\n",
    "    'Cheers氣泡水': 21,\n",
    "    '台鹽海洋鹼性離子水': 35,\n",
    "    '春風抽取式衛生紙': 99,\n",
    "    '奧利奧夾心餅乾': 36,\n",
    "    '福樂高鈣牛乳': 109,\n",
    "    '盛香珍Dr.Q蒟蒻': 42\n",
    "}\n",
    "\n",
    "# your code here\n"
   ]
  },
  {
   "cell_type": "markdown",
   "id": "3f1a1184-4aad-450d-979c-221a021f2e03",
   "metadata": {},
   "source": [
    "# 3"
   ]
  },
  {
   "cell_type": "markdown",
   "id": "dbc4411b-d399-4cac-be81-e57dac9a9818",
   "metadata": {},
   "source": [
    "還記得上個禮拜的3年A班的期中成績表嗎?現在改用一個`dict`來記錄他們的成績"
   ]
  },
  {
   "cell_type": "code",
   "execution_count": 13,
   "id": "d99859ea-fe3c-4247-8aba-5e44ca4895f9",
   "metadata": {},
   "outputs": [],
   "source": [
    "grade_dict = {\n",
    "    'James': {'國文': 93, '英文': 74, '數學': 79},\n",
    "     'Mary': {'國文': 94, '英文': 92, '數學': 94},\n",
    "     'John': {'國文': 72, '英文': 84, '數學': 92},\n",
    "     'Patricia': {'國文': 83, '英文': 71, '數學': 86},\n",
    "     'Robert': {'國文': 92, '英文': 87, '數學': 74},\n",
    "     'Jennifer': {'國文': 95, '英文': 92, '數學': 85},\n",
    "     'Michael': {'國文': 93, '英文': 83, '數學': 95},\n",
    "     'Linda': {'國文': 95, '英文': 93, '數學': 76},\n",
    "     'William': {'國文': 70, '英文': 78, '數學': 89},\n",
    "     'Elizabeth': {'國文': 76, '英文': 79, '數學': 92},\n",
    "     'David': {'國文': 90, '英文': 93, '數學': 81},\n",
    "     'Barbara': {'國文': 77, '英文': 73, '數學': 72},\n",
    "     'Richard': {'國文': 84, '英文': 92, '數學': 82},\n",
    "     'Susan': {'國文': 78, '英文': 75, '數學': 70},\n",
    "     'Joseph': {'國文': 85, '英文': 90, '數學': 76},\n",
    "     'Jessica': {'國文': 93, '英文': 76, '數學': 85},\n",
    "     'Thomas': {'國文': 70, '英文': 92, '數學': 80},\n",
    "     'Sarah': {'國文': 93, '英文': 75, '數學': 92},\n",
    "     'Charles': {'國文': 85, '英文': 95, '數學': 83},\n",
    "     'Karen': {'國文': 92, '英文': 77, '數學': 72}\n",
    "}"
   ]
  },
  {
   "cell_type": "code",
   "execution_count": 22,
   "id": "535d763b-b46b-4548-9c43-b9529acea4ae",
   "metadata": {},
   "outputs": [
    {
     "data": {
      "text/plain": [
       "{'James': {'國文': 93, '英文': 74, '數學': 79, '總成績': 167},\n",
       " 'Mary': {'國文': 94, '英文': 92, '數學': 94, '總成績': 186},\n",
       " 'John': {'國文': 72, '英文': 84, '數學': 92, '總成績': 156},\n",
       " 'Patricia': {'國文': 83, '英文': 71, '數學': 86, '總成績': 154},\n",
       " 'Robert': {'國文': 92, '英文': 87, '數學': 74, '總成績': 179},\n",
       " 'Jennifer': {'國文': 95, '英文': 92, '數學': 85, '總成績': 187},\n",
       " 'Michael': {'國文': 93, '英文': 83, '數學': 95, '總成績': 176},\n",
       " 'Linda': {'國文': 95, '英文': 93, '數學': 76, '總成績': 188},\n",
       " 'William': {'國文': 70, '英文': 78, '數學': 89, '總成績': 148},\n",
       " 'Elizabeth': {'國文': 76, '英文': 79, '數學': 92, '總成績': 155},\n",
       " 'David': {'國文': 90, '英文': 93, '數學': 81, '總成績': 183},\n",
       " 'Barbara': {'國文': 77, '英文': 73, '數學': 72, '總成績': 150},\n",
       " 'Richard': {'國文': 84, '英文': 92, '數學': 82, '總成績': 176},\n",
       " 'Susan': {'國文': 78, '英文': 75, '數學': 70, '總成績': 153},\n",
       " 'Joseph': {'國文': 85, '英文': 90, '數學': 76, '總成績': 175},\n",
       " 'Jessica': {'國文': 93, '英文': 76, '數學': 85, '總成績': 169},\n",
       " 'Thomas': {'國文': 70, '英文': 92, '數學': 80, '總成績': 162},\n",
       " 'Sarah': {'國文': 93, '英文': 75, '數學': 92, '總成績': 168},\n",
       " 'Charles': {'國文': 85, '英文': 95, '數學': 83, '總成績': 180},\n",
       " 'Karen': {'國文': 92, '英文': 77, '數學': 72, '總成績': 169}}"
      ]
     },
     "execution_count": 22,
     "metadata": {},
     "output_type": "execute_result"
    }
   ],
   "source": [
    "for key in grade_dict:\n",
    "    grade_dict[key]['總成績'] = sum(list(grade_dict[key].values())[:2])\n",
    "    \n",
    "grade_dict"
   ]
  },
  {
   "cell_type": "markdown",
   "id": "e35eadf2-1397-4365-b9ba-28eee296762f",
   "metadata": {},
   "source": [
    "### 3.1\n",
    "\n",
    "輸出`David`的英文成績及`Patricia`的英文成績，並比較誰的成績比較高"
   ]
  },
  {
   "cell_type": "code",
   "execution_count": 5,
   "id": "b39858f9-d9d8-408e-a8db-95de7d7f383b",
   "metadata": {},
   "outputs": [
    {
     "name": "stdout",
     "output_type": "stream",
     "text": [
      "Help on built-in function values:\n",
      "\n",
      "values(...) method of builtins.dict instance\n",
      "    D.values() -> an object providing a view on D's values\n",
      "\n"
     ]
    }
   ],
   "source": [
    "# your code here\n"
   ]
  },
  {
   "cell_type": "markdown",
   "id": "081c6add-8b20-4424-9f97-8f76dc52affb",
   "metadata": {},
   "source": [
    "### 3.2\n",
    "\n",
    "輸出3年A班共有幾個人的成績為92分(任何科目都算)\n",
    "\n",
    "> hint:`dict.values()`  \n",
    "> (也可以用其他方法)"
   ]
  },
  {
   "cell_type": "code",
   "execution_count": null,
   "id": "e6c9bb46-c0c8-49aa-b0bb-51ab296e7c81",
   "metadata": {},
   "outputs": [],
   "source": [
    "# your code here\n"
   ]
  },
  {
   "cell_type": "markdown",
   "id": "ab5082c9-3d1f-4fa1-93d4-5e6f2e07d5b3",
   "metadata": {},
   "source": [
    "### 3.3 (Bonus)\n",
    "\n",
    "計算每個人的總成績，並將總成績加到每個`child dict`內。最後輸出`grade_dict`的內容\n",
    "\n",
    "例如，James的成績`dict`長得像這樣 : `{'國文': 93, '英文': 74, '數學': 79, '總成績': 246}`"
   ]
  },
  {
   "cell_type": "code",
   "execution_count": null,
   "id": "b78bb6a5-a3e8-4b1b-a054-c31721c12acd",
   "metadata": {},
   "outputs": [],
   "source": [
    "# your code here\n"
   ]
  },
  {
   "cell_type": "markdown",
   "id": "cb9a6c95-4621-4378-8d28-83e60fbdc0b9",
   "metadata": {},
   "source": [
    "# 4"
   ]
  },
  {
   "cell_type": "markdown",
   "id": "e3a75002-df7f-46b4-a1e9-bda9dc8c0f8a",
   "metadata": {},
   "source": [
    "建立一個函式`calculateRangeSum()`，參數為兩個整數`a`及`b`(也可以取其他的名字)，回傳(`return`)這兩個數之間(包含這兩個數字)所有整數的和\n",
    "\n",
    "* example 1\n",
    "\n",
    "    * Input \n",
    "\n",
    "    > `calculateRangeSum(3, 5)`\n",
    "    \n",
    "    * Output\n",
    "    \n",
    "    > `12`\n",
    "\n",
    "* example 2\n",
    "\n",
    "    * Input \n",
    "\n",
    "    > `calculateRangeSum(1, 10)`\n",
    "    \n",
    "    * Output\n",
    "    \n",
    "    > `55`\n",
    "\n"
   ]
  },
  {
   "cell_type": "code",
   "execution_count": null,
   "id": "cd8301c2-37d2-43c2-8d07-df8749858744",
   "metadata": {},
   "outputs": [],
   "source": [
    "def calculateRangeSum(a:int, b:int):\n",
    "    pass\n",
    "    # your code here"
   ]
  },
  {
   "cell_type": "code",
   "execution_count": null,
   "id": "ff16c289-de5e-4ab9-baf8-83f8d3b2b290",
   "metadata": {},
   "outputs": [],
   "source": [
    "print(calculateRangeSum(3, 5) == 12)\n",
    "print(calculateRangeSum(1, 10) == 55)\n",
    "print(calculateRangeSum(345, 734512) == 269754246988)"
   ]
  },
  {
   "cell_type": "markdown",
   "id": "f0237cf0-3f6f-482c-a691-626be9edd674",
   "metadata": {},
   "source": [
    "# 5"
   ]
  },
  {
   "cell_type": "markdown",
   "id": "f8aa89dc-59d7-429c-991b-0444cf94ed96",
   "metadata": {},
   "source": [
    "費波那契數列如下:  \n",
    "`1, 1, 2, 3, 5, 8, 13, 21, 34, 55, 89, ...`\n",
    "\n",
    "在數學內費波那契數列使用遞迴的方式定義。令$F_n$為費波那契數列的第$n$項，則有以下規則:\n",
    "\n",
    "#### $F_0 = 1$\n",
    "#### $F_1 = 1$\n",
    "#### $F_n = F_{n-1} + F_{n-2}$ for n > 1\n",
    "\n",
    "請設計一個函式`fib(n)`，回傳費波那契數列第`n`項的值"
   ]
  },
  {
   "cell_type": "code",
   "execution_count": null,
   "id": "a81bbf47-3a1b-451d-bd24-ef1074a19300",
   "metadata": {},
   "outputs": [],
   "source": [
    "def fib(n):\n",
    "    pass\n",
    "    # your code here"
   ]
  }
 ],
 "metadata": {
  "kernelspec": {
   "display_name": "Python 3.8.3 64-bit",
   "language": "python",
   "name": "python38364bit77bb13c7d6434690befce17b6bae7706"
  },
  "language_info": {
   "codemirror_mode": {
    "name": "ipython",
    "version": 3
   },
   "file_extension": ".py",
   "mimetype": "text/x-python",
   "name": "python",
   "nbconvert_exporter": "python",
   "pygments_lexer": "ipython3",
   "version": "3.8.10"
  },
  "metadata": {
   "interpreter": {
    "hash": "59e6ca1d8e5ff34c756f5b41d408e2331385b4ce0474aed8d6e918b3c1a89964"
   }
  }
 },
 "nbformat": 4,
 "nbformat_minor": 5
}
