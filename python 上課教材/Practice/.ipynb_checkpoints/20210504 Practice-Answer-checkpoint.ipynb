{
 "cells": [
  {
   "cell_type": "markdown",
   "metadata": {},
   "source": [
    "# 1"
   ]
  },
  {
   "cell_type": "markdown",
   "metadata": {},
   "source": [
    "現在我們有一個儲存世界各地一些城市的陣列\n",
    "\n",
    "`city_list:list` -> 存放城市的名稱的陣列  \n",
    "`print_city_list():function` -> 輸出`city_list`的內容\n",
    "\n",
    "執行下方的區塊可以看到`print_city_list()`執行的結果"
   ]
  },
  {
   "cell_type": "code",
   "execution_count": 26,
   "metadata": {},
   "outputs": [
    {
     "name": "stdout",
     "output_type": "stream",
     "text": [
      "0\tTaipei\n",
      "1\tNew York\n",
      "2\tParis\n",
      "3\tLondon\n"
     ]
    }
   ],
   "source": [
    "def print_city_list():\n",
    "    for i, city in enumerate(city_list):\n",
    "        print(f'{i}\\t{city}')\n",
    "        \n",
    "city_list = ['Taipei', 'New York', 'Paris', 'London']\n",
    "print_city_list()"
   ]
  },
  {
   "cell_type": "markdown",
   "metadata": {},
   "source": [
    "### 1.1\n",
    "\n",
    "在此陣列的最後加上一個新的城市 : `Rome`  \n",
    "增加後使用`print_city_list()`來輸出陣列目前的內容\n",
    "\n",
    "> Hint : `list.append()`"
   ]
  },
  {
   "cell_type": "code",
   "execution_count": 27,
   "metadata": {},
   "outputs": [
    {
     "name": "stdout",
     "output_type": "stream",
     "text": [
      "0\tTaipei\n",
      "1\tNew York\n",
      "2\tParis\n",
      "3\tLondon\n",
      "4\tRome\n"
     ]
    }
   ],
   "source": [
    "# your code here\n",
    "city_list.append('Rome')\n",
    "print_city_list()"
   ]
  },
  {
   "cell_type": "markdown",
   "metadata": {},
   "source": [
    "### 1.2\n",
    "\n",
    "在陣列中`New York`跟`Paris`之間插入一個新的城市 : `Tokyo`  \n",
    "同樣使用`print_city_list()`查看陣列的內容\n",
    "\n",
    "> Hint : `list.insert()`"
   ]
  },
  {
   "cell_type": "code",
   "execution_count": 22,
   "metadata": {},
   "outputs": [
    {
     "name": "stdout",
     "output_type": "stream",
     "text": [
      "0\tTaipei\n",
      "1\tNew York\n",
      "2\tTokyo\n",
      "3\tParis\n",
      "4\tLondon\n",
      "5\tRome\n"
     ]
    }
   ],
   "source": [
    "# your code here\n",
    "city_list.insert(2, 'Tokyo')\n",
    "print_city_list()"
   ]
  },
  {
   "cell_type": "code",
   "execution_count": 18,
   "metadata": {},
   "outputs": [
    {
     "name": "stdout",
     "output_type": "stream",
     "text": [
      "0\tTaipei\n",
      "1\tNew York\n",
      "2\tTokyo\n",
      "3\tParis\n",
      "4\tLondon\n",
      "5\tRome\n"
     ]
    }
   ],
   "source": [
    "# version 2\n",
    "# 如果不知道 New York 的位置，可以用 list.index 查詢\n",
    "\n",
    "idx = city_list.index('New York')\n",
    "city_list.insert(idx+1, 'Tokyo')\n",
    "print_city_list()"
   ]
  },
  {
   "cell_type": "code",
   "execution_count": 25,
   "metadata": {},
   "outputs": [
    {
     "name": "stdout",
     "output_type": "stream",
     "text": [
      "0\tTaipei\n",
      "1\tNew York\n",
      "2\tTokyo\n",
      "3\tParis\n",
      "4\tLondon\n",
      "5\tRome\n"
     ]
    }
   ],
   "source": [
    "# version 3\n",
    "# 或直接用 Paris 的位置\n",
    "\n",
    "idx = city_list.index('Paris')\n",
    "city_list.insert(idx, 'Tokyo')\n",
    "print_city_list()"
   ]
  },
  {
   "cell_type": "code",
   "execution_count": 32,
   "metadata": {},
   "outputs": [
    {
     "name": "stdout",
     "output_type": "stream",
     "text": [
      "0\tTaipei\n",
      "1\tNew York\n",
      "2\tTokyo\n",
      "3\tTokyo\n",
      "4\tTokyo\n",
      "5\tTokyo\n",
      "6\tParis\n",
      "7\tLondon\n",
      "8\tRome\n"
     ]
    }
   ],
   "source": [
    "# version 4\n",
    "# version 3 的簡化\n",
    "\n",
    "city_list.insert(city_list.index('Paris'), 'Tokyo')\n",
    "print_city_list()"
   ]
  },
  {
   "cell_type": "markdown",
   "metadata": {},
   "source": [
    "### 1.3\n",
    "\n",
    "刪除陣列中任一個一開始就存在的城市(`Taipei`/`New York`/`Paris`/`London`選一個)  \n",
    "刪除後輸出陣列的內容\n",
    "\n",
    "> Hint :  `list.pop()` / `list.remove()`"
   ]
  },
  {
   "cell_type": "code",
   "execution_count": 9,
   "metadata": {},
   "outputs": [
    {
     "name": "stdout",
     "output_type": "stream",
     "text": [
      "0\tNew York\n",
      "1\tTokyo\n",
      "2\tParis\n",
      "3\tLondon\n",
      "4\tRome\n"
     ]
    }
   ],
   "source": [
    "# your code here\n",
    "city_list.pop(0)\n",
    "print_city_list()"
   ]
  },
  {
   "cell_type": "code",
   "execution_count": 33,
   "metadata": {},
   "outputs": [
    {
     "name": "stdout",
     "output_type": "stream",
     "text": [
      "0\tTaipei\n",
      "1\tNew York\n",
      "2\tTokyo\n",
      "3\tTokyo\n",
      "4\tTokyo\n",
      "5\tTokyo\n",
      "6\tParis\n",
      "7\tRome\n"
     ]
    }
   ],
   "source": [
    "# list.remove() version\n",
    "city_list.remove('London')\n",
    "print_city_list()"
   ]
  },
  {
   "cell_type": "markdown",
   "metadata": {},
   "source": [
    "### `list.pop()` v.s. `lsit.remove()`\n",
    "\n",
    "* `list.pop()` : 參數是要移除內容的位置(index)\n",
    "* `list.remove()` : 參數是要移除的內容\n",
    "\n",
    "i.e. 用這題的內容，`city_list.pop(0)` = `city_list.remove('Taipei')`"
   ]
  },
  {
   "cell_type": "markdown",
   "metadata": {},
   "source": [
    "# 2"
   ]
  },
  {
   "cell_type": "markdown",
   "metadata": {},
   "source": [
    "現在有一個陣列 `grade_list` 紀錄3年A班的期中考成績  \n",
    "\n",
    "成績名單格式如下 :\n",
    "\n",
    "`[姓名, 國文成績, 數學成績, 英文成績]`"
   ]
  },
  {
   "cell_type": "code",
   "execution_count": 11,
   "metadata": {},
   "outputs": [],
   "source": [
    "grade_list = [\n",
    "    ['James', 93, 74, 79],\n",
    "    ['Mary', 94, 90, 94],\n",
    "    ['John', 72, 84, 75],\n",
    "    ['Patricia', 83, 71, 86],\n",
    "    ['Robert', 83, 86, 74],\n",
    "    ['Jennifer', 95, 92, 85],\n",
    "    ['Michael', 93, 83, 95],\n",
    "    ['Linda', 95, 93, 76],\n",
    "    ['William', 70, 78, 89],\n",
    "    ['Elizabeth', 76, 79, 95],\n",
    "    ['David', 90, 93, 81],\n",
    "    ['Barbara', 77, 73, 72],\n",
    "    ['Richard', 84, 76, 82],\n",
    "    ['Susan', 78, 75, 70],\n",
    "    ['Joseph', 85, 90, 76],\n",
    "    ['Jessica', 93, 76, 85],\n",
    "    ['Thomas', 70, 75, 80],\n",
    "    ['Sarah', 93, 75, 84],\n",
    "    ['Charles', 85, 95, 83],\n",
    "    ['Karen', 94, 77, 72]\n",
    "]"
   ]
  },
  {
   "cell_type": "markdown",
   "metadata": {},
   "source": [
    "### 2.1\n",
    "\n",
    "使用for迴圈輸出每個人的名稱及他的國文成績  \n",
    "\n",
    "格式 :  \n",
    "\n",
    "姓名 - 成績\n",
    "\n",
    "範例 : \n",
    "\n",
    "```\n",
    "James - 93\n",
    "Mary - 94\n",
    "John - 72\n",
    "...\n",
    "```\n",
    "\n",
    "* bonus : 使用格式化輸出控制輸出格式，名字設定為8格長\n",
    "\n",
    "    輸出範例 :\n",
    "\n",
    "    ```\n",
    "    James    - 93\n",
    "    Mary     - 94\n",
    "    John     - 72\n",
    "    ...\n",
    "    ```"
   ]
  },
  {
   "cell_type": "code",
   "execution_count": 12,
   "metadata": {},
   "outputs": [
    {
     "name": "stdout",
     "output_type": "stream",
     "text": [
      "James    - 93\n",
      "Mary     - 94\n",
      "John     - 72\n",
      "Patricia - 83\n",
      "Robert   - 83\n",
      "Jennifer - 95\n",
      "Michael  - 93\n",
      "Linda    - 95\n",
      "William  - 70\n",
      "Elizabeth- 76\n",
      "David    - 90\n",
      "Barbara  - 77\n",
      "Richard  - 84\n",
      "Susan    - 78\n",
      "Joseph   - 85\n",
      "Jessica  - 93\n",
      "Thomas   - 70\n",
      "Sarah    - 93\n",
      "Charles  - 85\n",
      "Karen    - 94\n"
     ]
    }
   ],
   "source": [
    "# your code here\n",
    "for grade in grade_list:\n",
    "    print(f'{grade[0]:9s}- {grade[1]}')"
   ]
  },
  {
   "cell_type": "markdown",
   "metadata": {},
   "source": [
    "### 2.2\n",
    "\n",
    "計算每個人三科的平均成績，取到小數點後兩位\n",
    "\n",
    "範例格式 :\n",
    "\n",
    "```\n",
    "James : 92.33\n",
    "Mery : 82.70\n",
    "...\n",
    "```\n",
    "\n",
    "* bonus : 使用格式化輸出控制輸出格式，名字設定為8格長並靠右\n",
    "\n",
    "    輸出範例 : \n",
    "\n",
    "    ```\n",
    "    James    : 92.33\n",
    "    Mery     : 82.70\n",
    "    ...\n",
    "    ```"
   ]
  },
  {
   "cell_type": "code",
   "execution_count": 14,
   "metadata": {},
   "outputs": [
    {
     "name": "stdout",
     "output_type": "stream",
     "text": [
      "James    : 82.00\n",
      "Mary     : 92.67\n",
      "John     : 77.00\n",
      "Patricia : 80.00\n",
      "Robert   : 81.00\n",
      "Jennifer : 90.67\n",
      "Michael  : 90.33\n",
      "Linda    : 88.00\n",
      "William  : 79.00\n",
      "Elizabeth: 83.33\n",
      "David    : 88.00\n",
      "Barbara  : 74.00\n",
      "Richard  : 80.67\n",
      "Susan    : 74.33\n",
      "Joseph   : 83.67\n",
      "Jessica  : 84.67\n",
      "Thomas   : 75.00\n",
      "Sarah    : 84.00\n",
      "Charles  : 87.67\n",
      "Karen    : 81.00\n"
     ]
    }
   ],
   "source": [
    "# your code here\n",
    "for grade in grade_list:\n",
    "    avg = (grade[1] + grade[2] + grade[3]) / 3\n",
    "    print(f'{grade[0]:9s}: {avg:.2f}')"
   ]
  },
  {
   "cell_type": "markdown",
   "metadata": {},
   "source": [
    "### 2.3 (Bonus)\n",
    "\n",
    "計算並輸出此班數學成績的最高分、最低分及平均數\n",
    "\n",
    "範例格式 :  \n",
    "\n",
    "```\n",
    "Max : 97\n",
    "Min : 72\n",
    "Avg : 86\n",
    "```"
   ]
  },
  {
   "cell_type": "code",
   "execution_count": 15,
   "metadata": {},
   "outputs": [
    {
     "name": "stdout",
     "output_type": "stream",
     "text": [
      "Max : 95\n",
      "Min : 71\n",
      "Avg : 81.75\n"
     ]
    }
   ],
   "source": [
    "# your code here\n",
    "Max = 0\n",
    "Min = 100\n",
    "Avg = 0\n",
    "for grade in grade_list:\n",
    "    m = grade[2]\n",
    "    if m > Max:\n",
    "        Max = m\n",
    "    if m < Min:\n",
    "        Min = m\n",
    "    Avg += m\n",
    "    \n",
    "Avg /= 20\n",
    "\n",
    "print('Max :', Max)\n",
    "print('Min :', Min)\n",
    "print('Avg :', Avg)"
   ]
  },
  {
   "cell_type": "code",
   "execution_count": 38,
   "metadata": {},
   "outputs": [
    {
     "name": "stdout",
     "output_type": "stream",
     "text": [
      "[74, 90, 84, 71, 86, 92, 83, 93, 78, 79, 93, 73, 76, 75, 90, 76, 75, 75, 95, 77]\n",
      "Max : 95\n",
      "Min : 71\n",
      "Avg : 81.75\n"
     ]
    }
   ],
   "source": [
    "# version 2\n",
    "\n",
    "# 先把數學的部分抓到一個陣列再做處理\n",
    "\n",
    "math_grade = []\n",
    "for grade in grade_list:\n",
    "    math_grade.append(grade[2])\n",
    "    \n",
    "print(math_grade) # 驗證沒做錯\n",
    "\n",
    "print('Max :', max(math_grade))\n",
    "print('Min :', min(math_grade))\n",
    "print('Avg :', sum(math_grade) / len(math_grade))"
   ]
  },
  {
   "cell_type": "code",
   "execution_count": 39,
   "metadata": {},
   "outputs": [
    {
     "name": "stdout",
     "output_type": "stream",
     "text": [
      "Max : 95\n",
      "Min : 71\n",
      "Avg : 81.75\n"
     ]
    }
   ],
   "source": [
    "# version 2 advanced\n",
    "\n",
    "math_grade = [grade[2] for grade in grade_list]\n",
    "\n",
    "print('Max :', max(math_grade))\n",
    "print('Min :', min(math_grade))\n",
    "print('Avg :', sum(math_grade) / len(math_grade))"
   ]
  },
  {
   "cell_type": "markdown",
   "metadata": {},
   "source": [
    "### explanation\n",
    "\n",
    "```python\n",
    "list1 = [1, 2, 3, 4]\n",
    "list2 = []\n",
    "\n",
    "for num in list1:\n",
    "    list2.append(num ** 2)\n",
    "    \n",
    "# list2 = [1, 4, 9, 16]\n",
    "```\n",
    "\n",
    "上述code把`list1`的每一項都平方，之後放到`list2`\n",
    "\n",
    "而可以簡化寫成 :\n",
    "\n",
    "```python\n",
    "list1 = [1, 2, 3, 4]\n",
    "list2 = [n ** 2 for n in list1]\n",
    "```\n",
    "\n",
    "#### 語法 : `新串列名稱 = [舊串列內容的處理 for 舊串列的內容 in 舊串列]`"
   ]
  },
  {
   "cell_type": "code",
   "execution_count": 41,
   "metadata": {},
   "outputs": [
    {
     "name": "stdout",
     "output_type": "stream",
     "text": [
      "[0, 1, 2, 3, 4]\n",
      "[-1, 1, 3, 5, 7]\n"
     ]
    }
   ],
   "source": [
    "# example\n",
    "\n",
    "exList1 = [i for i in range(5)]\n",
    "print(exList1)\n",
    "\n",
    "exList2 = [2 * i - 1 for i in exList1]\n",
    "print(exList2)"
   ]
  }
 ],
 "metadata": {
  "kernelspec": {
   "display_name": "Python 3",
   "language": "python",
   "name": "python3"
  },
  "language_info": {
   "codemirror_mode": {
    "name": "ipython",
    "version": 3
   },
   "file_extension": ".py",
   "mimetype": "text/x-python",
   "name": "python",
   "nbconvert_exporter": "python",
   "pygments_lexer": "ipython3",
   "version": "3.8.10"
  }
 },
 "nbformat": 4,
 "nbformat_minor": 4
}
