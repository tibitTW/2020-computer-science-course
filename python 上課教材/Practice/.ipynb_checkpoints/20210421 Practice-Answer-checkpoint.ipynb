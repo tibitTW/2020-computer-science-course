{
 "cells": [
  {
   "cell_type": "markdown",
   "metadata": {},
   "source": [
    "# 1"
   ]
  },
  {
   "cell_type": "code",
   "execution_count": 2,
   "metadata": {},
   "outputs": [
    {
     "name": "stdout",
     "output_type": "stream",
     "text": [
      "3.141592653589793\n"
     ]
    }
   ],
   "source": [
    "from math import pi\n",
    "\n",
    "print(pi)"
   ]
  },
  {
   "cell_type": "code",
   "execution_count": 3,
   "metadata": {},
   "outputs": [
    {
     "name": "stdout",
     "output_type": "stream",
     "text": [
      "半徑為5的圓面積為 : 78.53981633974483\n"
     ]
    }
   ],
   "source": [
    "circle_radius = 5\n",
    "\n",
    "# 補完沒寫好的程式碼\n",
    "\n",
    "area = circle_radius ** 2 * pi\n",
    "\n",
    "print(f'半徑為{circle_radius}的圓面積為 : {area}')"
   ]
  },
  {
   "cell_type": "markdown",
   "metadata": {},
   "source": [
    "# 2"
   ]
  },
  {
   "cell_type": "markdown",
   "metadata": {},
   "source": [
    "一杯咖啡賣5美元，成本1.5美元，每天賣400杯。\n",
    "\n",
    "請問每月(設30天)營收(daily income)與毛利(daily gross profit)為多少？\n",
    "\n",
    "輸出格式(For example) :\n",
    "\n",
    "> 每月營收為 : 300美元\n",
    "> 每月毛利為 : 150美元"
   ]
  },
  {
   "cell_type": "code",
   "execution_count": 4,
   "metadata": {},
   "outputs": [
    {
     "name": "stdout",
     "output_type": "stream",
     "text": [
      "每月營收為 : 60000美元, 每月毛利為 : 42000.0美元\n"
     ]
    }
   ],
   "source": [
    "coffee_price = 5\n",
    "coffee_cost = 1.5\n",
    "\n",
    "coffee_sells_per_day = 400\n",
    "\n",
    "\n",
    "# 補完下面的程式碼\n",
    "\n",
    "# 營收 = 總獲利\n",
    "monthly_income = (coffee_price * 400) * 30\n",
    "# 毛利 = 總獲利 - 總支出\n",
    "monthly_gross_profit = ((coffee_price - coffee_cost) * 400) * 30\n",
    "\n",
    "print(f'每月營收為 : {monthly_income}美元, 每月毛利為 : {monthly_gross_profit}美元')"
   ]
  },
  {
   "cell_type": "markdown",
   "metadata": {},
   "source": [
    "# 3"
   ]
  },
  {
   "cell_type": "markdown",
   "metadata": {},
   "source": [
    "使用者會輸入三個成績(整數)，計算出三個成績的平均值。平均值取到小數點後兩位。\n",
    "\n",
    "輸出範例 :\n",
    "\n",
    "> 成績平均為 : 89.53"
   ]
  },
  {
   "cell_type": "code",
   "execution_count": 5,
   "metadata": {},
   "outputs": [
    {
     "name": "stdin",
     "output_type": "stream",
     "text": [
      "請輸入成績1 :  80\n",
      "請輸入成績2 :  80\n",
      "請輸入成績3 :  81\n"
     ]
    },
    {
     "name": "stdout",
     "output_type": "stream",
     "text": [
      "成績平均為 : 80.33\n"
     ]
    }
   ],
   "source": [
    "first_grade = input('請輸入成績1 : ')\n",
    "second_grade = input('請輸入成績2 : ')\n",
    "third_grade = input('請輸入成績3 : ')\n",
    "\n",
    "# write your code below\n",
    "\n",
    "average_grade = sum([int(first_grade), int(second_grade), int(third_grade)]) / 3\n",
    "print(f'成績平均為 : {average_grade:.2f}')"
   ]
  }
 ],
 "metadata": {
  "kernelspec": {
   "display_name": "Python 3",
   "language": "python",
   "name": "python3"
  },
  "language_info": {
   "codemirror_mode": {
    "name": "ipython",
    "version": 3
   },
   "file_extension": ".py",
   "mimetype": "text/x-python",
   "name": "python",
   "nbconvert_exporter": "python",
   "pygments_lexer": "ipython3",
   "version": "3.8.10"
  }
 },
 "nbformat": 4,
 "nbformat_minor": 4
}
