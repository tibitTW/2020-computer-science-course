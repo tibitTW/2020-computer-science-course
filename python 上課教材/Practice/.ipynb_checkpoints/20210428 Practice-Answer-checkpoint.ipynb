{
 "cells": [
  {
   "cell_type": "markdown",
   "metadata": {},
   "source": [
    "# Practice 1\n",
    "\n",
    "已知函數f(x)為 :\n",
    "\n",
    "### $ f(x) = cos(x) + sin(x) ^ 2 - 2tan(x) $\n",
    "\n",
    "* 使用者輸入兩個數`A`和`B`，輸出f(A)及f(B)取到小數點後四位的結果，並判斷f(A)與f(B)的計算結果何者較大。\n",
    "\n",
    "    1. f(A) > f(B) : 輸出 `f(A) > f(B)`\n",
    "    2. f(A) = f(B) : 輸出 `f(A) = f(B)`\n",
    "    3. f(A) < f(B) : 輸出 `f(A) < f(B)`\n",
    "\n",
    "\n",
    "* Example 1(粗體為使用者輸入)\n",
    "\n",
    "> 輸入A的值 : **3**  \n",
    "> 輸入B的值 : **5**  \n",
    "> f(A) = -0.6850, f(B) = 7.9642, f(A) < f(B)"
   ]
  },
  {
   "cell_type": "code",
   "execution_count": 1,
   "metadata": {},
   "outputs": [
    {
     "name": "stdin",
     "output_type": "stream",
     "text": [
      "輸入A的值 :  3\n",
      "輸入B的值 :  5\n"
     ]
    },
    {
     "name": "stdout",
     "output_type": "stream",
     "text": [
      "f(A) = -0.6850, f(B) = 7.9642, f(A) < f(B)\n"
     ]
    }
   ],
   "source": [
    "from numpy import cos, sin, tan\n",
    "\n",
    "def fun1(x):\n",
    "    return cos(x) + sin(x)**2 - 2*tan(x)\n",
    "\n",
    "A = int(input('輸入A的值 : '))\n",
    "B = int(input('輸入B的值 : '))\n",
    "f_of_A = fun1(A)\n",
    "f_of_B = fun1(B)\n",
    "\n",
    "print(f'f(A) = {f_of_A:.4f}, f(B) = {f_of_B:.4f}, ', end='')\n",
    "\n",
    "# complete your code below\n",
    "if f_of_A > f_of_B:\n",
    "    print('f(A) > f(B)')\n",
    "elif f_of_A == f_of_B:\n",
    "    print('f(A) = f(B)')\n",
    "else:\n",
    "    print('f(A) < f(B)')"
   ]
  },
  {
   "cell_type": "markdown",
   "metadata": {},
   "source": [
    "---"
   ]
  },
  {
   "cell_type": "markdown",
   "metadata": {},
   "source": [
    "# Practice 2\n",
    "\n",
    "使用者輸入一個年份，判斷該年份是否為閏年。如果是則輸出`YES`，否則輸出`NO`\n",
    "\n",
    "* 閏年條件 :\n",
    "\n",
    "    1. 如果年份能被4整除則為閏年\n",
    "    2. 如果年份能被100整除但不能被400整除，則不是閏年\n",
    "    3. 如果年份能被100整除，也能被400整除，則為閏年\n",
    "\n",
    "* Example 1\n",
    "\n",
    "> 請輸入年份(西元) : **1945**  \n",
    "> NO"
   ]
  },
  {
   "cell_type": "code",
   "execution_count": 7,
   "metadata": {},
   "outputs": [
    {
     "name": "stdin",
     "output_type": "stream",
     "text": [
      "請輸入年份(西元) :  102312\n"
     ]
    },
    {
     "name": "stdout",
     "output_type": "stream",
     "text": [
      "YES\n"
     ]
    }
   ],
   "source": [
    "year = int(input('請輸入年份(西元) : '))\n",
    "\n",
    "# write your code below\n",
    "if year % 400 == 0:\n",
    "    print('YES')\n",
    "elif year % 100 == 0:\n",
    "    print('NO')\n",
    "elif year % 4 == 0:\n",
    "    print('YES')\n",
    "else:\n",
    "    print('NO')"
   ]
  },
  {
   "cell_type": "code",
   "execution_count": 10,
   "metadata": {},
   "outputs": [
    {
     "name": "stdin",
     "output_type": "stream",
     "text": [
      "請輸入年份(西元) :  1200\n"
     ]
    },
    {
     "name": "stdout",
     "output_type": "stream",
     "text": [
      "YES\n"
     ]
    }
   ],
   "source": [
    "# solution version 2\n",
    "year = int(input('請輸入年份(西元) : '))\n",
    "\n",
    "# write your code below\n",
    "if not year % 400:\n",
    "    print('YES')\n",
    "elif not year % 100:\n",
    "    print('NO')\n",
    "elif not year % 4:\n",
    "    print('YES')\n",
    "else:\n",
    "    print('NO')"
   ]
  },
  {
   "cell_type": "markdown",
   "metadata": {},
   "source": [
    "**Solution 2 explanation**\n",
    "\n",
    "```python\n",
    "year % 400 == 0\n",
    "```\n",
    "\n",
    "結果有兩種可能 :\n",
    "\n",
    "1. year 　整除於400 : 結果為布林值`True`\n",
    "2. year 不整除於400 : 結果為布林值`False`\n",
    "\n",
    "```python\n",
    "year % 400\n",
    "```\n",
    "\n",
    "結果為`year`除以400的餘數\n",
    "\n",
    "---\n",
    "\n",
    "而如果寫 :\n",
    "\n",
    "```python\n",
    "if year % 400:\n",
    "    # 如果 year 除以 400 的餘數不為零，執行這部分的程式\n",
    "    print('year不為400的倍數')\n",
    "else:\n",
    "    # 如果 year 整除於 400，執行這部分的程式\n",
    "    print('year整除於400')\n",
    "```\n",
    "\n",
    "可以直接判斷`year`能否整除於400 (就不需要用 `==`)\n",
    "因此如果再加上`not`反轉 :\n",
    "\n",
    "```python\n",
    "if not year%400:\n",
    "    # 如果 year 整除於 400\n",
    "    # -> year % 400 為 0 \n",
    "    # ->-> not year % 400 為True (轉成布林值)\n",
    "    print('year 整除於 400')\n",
    "```"
   ]
  },
  {
   "cell_type": "markdown",
   "metadata": {},
   "source": [
    "---"
   ]
  },
  {
   "cell_type": "markdown",
   "metadata": {},
   "source": [
    "# Practice 3\n",
    "\n",
    "輸出1~20的一次方、二次方和三次方\n",
    "\n",
    "輸出結果(可以練習格式化輸出) :\n",
    "\n",
    "```\n",
    " 1^1 :    1   1^2 :    1   1^3 :    1\n",
    " 2^1 :    2   2^2 :    4   2^3 :    8\n",
    " 3^1 :    3   3^2 :    9   3^3 :   27\n",
    " 4^1 :    4   4^2 :   16   4^3 :   64\n",
    " 5^1 :    5   5^2 :   25   5^3 :  125\n",
    " 6^1 :    6   6^2 :   36   6^3 :  216\n",
    " 7^1 :    7   7^2 :   49   7^3 :  343\n",
    " 8^1 :    8   8^2 :   64   8^3 :  512\n",
    " 9^1 :    9   9^2 :   81   9^3 :  729\n",
    "10^1 :   10  10^2 :  100  10^3 : 1000\n",
    "11^1 :   11  11^2 :  121  11^3 : 1331\n",
    "12^1 :   12  12^2 :  144  12^3 : 1728\n",
    "13^1 :   13  13^2 :  169  13^3 : 2197\n",
    "14^1 :   14  14^2 :  196  14^3 : 2744\n",
    "15^1 :   15  15^2 :  225  15^3 : 3375\n",
    "16^1 :   16  16^2 :  256  16^3 : 4096\n",
    "17^1 :   17  17^2 :  289  17^3 : 4913\n",
    "18^1 :   18  18^2 :  324  18^3 : 5832\n",
    "19^1 :   19  19^2 :  361  19^3 : 6859\n",
    "20^1 :   20  20^2 :  400  20^3 : 8000\n",
    "```"
   ]
  },
  {
   "cell_type": "code",
   "execution_count": 24,
   "metadata": {},
   "outputs": [
    {
     "name": "stdout",
     "output_type": "stream",
     "text": [
      " 1^1 :   1\t 1^2 :   1\t 1^3 :   1\n",
      " 2^1 :   2\t 2^2 :   4\t 2^3 :   8\n",
      " 3^1 :   3\t 3^2 :   9\t 3^3 :  27\n",
      " 4^1 :   4\t 4^2 :  16\t 4^3 :  64\n",
      " 5^1 :   5\t 5^2 :  25\t 5^3 : 125\n",
      " 6^1 :   6\t 6^2 :  36\t 6^3 : 216\n",
      " 7^1 :   7\t 7^2 :  49\t 7^3 : 343\n",
      " 8^1 :   8\t 8^2 :  64\t 8^3 : 512\n",
      " 9^1 :   9\t 9^2 :  81\t 9^3 : 729\n",
      "10^1 :  10\t10^2 : 100\t10^3 :1000\n",
      "11^1 :  11\t11^2 : 121\t11^3 :1331\n",
      "12^1 :  12\t12^2 : 144\t12^3 :1728\n",
      "13^1 :  13\t13^2 : 169\t13^3 :2197\n",
      "14^1 :  14\t14^2 : 196\t14^3 :2744\n",
      "15^1 :  15\t15^2 : 225\t15^3 :3375\n",
      "16^1 :  16\t16^2 : 256\t16^3 :4096\n",
      "17^1 :  17\t17^2 : 289\t17^3 :4913\n",
      "18^1 :  18\t18^2 : 324\t18^3 :5832\n",
      "19^1 :  19\t19^2 : 361\t19^3 :6859\n",
      "20^1 :  20\t20^2 : 400\t20^3 :8000\n"
     ]
    }
   ],
   "source": [
    "for i in range(1, 21):\n",
    "    # write your code below\n",
    "    print(f'{i:2d}^1 :{i:4d}\\t{i:2d}^2 :{i**2:4d}\\t{i:2d}^3 :{i**3:4d}')\n",
    "    \n",
    "    \n",
    "# '\\t' 是tab字元，一種特殊字元\n",
    "# 兩行的空白差距不大時會自動對齊"
   ]
  },
  {
   "cell_type": "code",
   "execution_count": 23,
   "metadata": {},
   "outputs": [
    {
     "name": "stdout",
     "output_type": "stream",
     "text": [
      "a\tbbb\n",
      "aa\tbbb\n",
      "aaa\tbbb\n",
      "aaaa\tbbb\n",
      "aaaaa\tbbb\n",
      "aaaaaa\tbbb\n",
      "aaaaaaa\tbbb\n"
     ]
    }
   ],
   "source": [
    "# '\\t' 範例\n",
    "\n",
    "print('a\\tbbb')\n",
    "print('aa\\tbbb')\n",
    "print('aaa\\tbbb')\n",
    "print('aaaa\\tbbb')\n",
    "print('aaaaa\\tbbb')\n",
    "print('aaaaaa\\tbbb')\n",
    "print('aaaaaaa\\tbbb')"
   ]
  },
  {
   "cell_type": "markdown",
   "metadata": {},
   "source": [
    "---"
   ]
  },
  {
   "cell_type": "markdown",
   "metadata": {},
   "source": [
    "# Bonus\n",
    "\n",
    "你是一個RPG遊戲內的商人，需要判斷勇者有沒有足夠的金幣買想買的東西。\n",
    "如果勇者可以買到想要的裝備，請輸出勇者剩餘的金幣，否則請輸出`NO`\n",
    "\n",
    "* 裝備列表 :\n",
    "\n",
    "| 裝備名稱     | 價錢 |\n",
    "| ------------ | ---- |\n",
    "| 機工刃       | 300  |\n",
    "| 究極之刃     | 600  |\n",
    "| 寒冰烙印     | 1000 |\n",
    "| 神劍巴魯蒙克 | 5000 | \n",
    "\n",
    "\n",
    "* Example 1(粗體為使用者輸入的內容) :\n",
    "\n",
    "> 請輸入擁有的金幣量 : **3000**  \n",
    "> 請輸入想買東西的代號(1.機工刃 2.究極之刃 3.寒冰烙印 4.神劍巴魯蒙克) : **3**  \n",
    "> 結帳成功!餘額2000元  \n",
    "\n",
    "* Example 2 :\n",
    "\n",
    "> 請輸入擁有的金幣量 : **4500**  \n",
    "> 請輸入想買東西的代號(1.機工刃 2.究極之刃 3.寒冰烙印 4.神劍巴魯蒙克) : **4**  \n",
    "> NO\n"
   ]
  },
  {
   "cell_type": "code",
   "execution_count": 25,
   "metadata": {},
   "outputs": [
    {
     "name": "stdin",
     "output_type": "stream",
     "text": [
      "請輸入擁有的金幣量 :  3000000\n",
      "請輸入想買東西的代號(1.機工刃 2.究極之刃 3.寒冰烙印 4.神劍巴魯蒙克) :  1\n"
     ]
    },
    {
     "name": "stdout",
     "output_type": "stream",
     "text": [
      "結帳成功!餘額2999700元\n"
     ]
    }
   ],
   "source": [
    "format_check = True\n",
    "coin_amount = input('請輸入擁有的金幣量 : ')\n",
    "try:\n",
    "    coin_amount = int(coin_amount)\n",
    "except Exception:\n",
    "    print('輸入格式錯誤!')\n",
    "    format_check = False\n",
    "\n",
    "if format_check:\n",
    "    item_id = input('請輸入想買東西的代號(1.機工刃 2.究極之刃 3.寒冰烙印 4.神劍巴魯蒙克) : ')\n",
    "    try:\n",
    "        item_id = int(item_id)\n",
    "        format_check = True\n",
    "    except Exception:\n",
    "        print('輸入格式錯誤!')\n",
    "        format_check = False\n",
    "\n",
    "    if item_id > 4 or item_id < 1:\n",
    "        print('輸入代號不符!')\n",
    "        format_check = False\n",
    "    \n",
    "if format_check:\n",
    "    # write your code below\n",
    "    if item_id == 1:\n",
    "        if coin_amount > 300:\n",
    "            print(f'結帳成功!餘額{coin_amount - 300}元')\n",
    "        else:\n",
    "            print('NO')\n",
    "    if item_id == 2:\n",
    "        if coin_amount > 600:\n",
    "            print(f'結帳成功!餘額{coin_amount - 600}元')\n",
    "        else:\n",
    "            print('NO')        \n",
    "    if item_id == 3:\n",
    "        if coin_amount > 1000:\n",
    "            print(f'結帳成功!餘額{coin_amount - 1000}元')\n",
    "        else:\n",
    "            print('NO')\n",
    "    if item_id == 4:\n",
    "        if coin_amount > 1500:\n",
    "            print(f'結帳成功!餘額{coin_amount - 1500}元')\n",
    "        else:\n",
    "            print('NO')"
   ]
  },
  {
   "cell_type": "markdown",
   "metadata": {},
   "source": [
    "### 後面有幾個不同版本，基本上只改22行後 : `if format_check:` 之後的code"
   ]
  },
  {
   "cell_type": "code",
   "execution_count": 28,
   "metadata": {},
   "outputs": [
    {
     "name": "stdin",
     "output_type": "stream",
     "text": [
      "請輸入擁有的金幣量 :  12031023401241\n",
      "請輸入想買東西的代號(1.機工刃 2.究極之刃 3.寒冰烙印 4.神劍巴魯蒙克) :  2\n"
     ]
    },
    {
     "name": "stdout",
     "output_type": "stream",
     "text": [
      "結帳成功!餘額12031023400641元\n"
     ]
    }
   ],
   "source": [
    "# version 2\n",
    "\n",
    "format_check = True\n",
    "coin_amount = input('請輸入擁有的金幣量 : ')\n",
    "try:\n",
    "    coin_amount = int(coin_amount)\n",
    "except Exception:\n",
    "    print('輸入格式錯誤!')\n",
    "    format_check = False\n",
    "\n",
    "if format_check:\n",
    "    item_id = input('請輸入想買東西的代號(1.機工刃 2.究極之刃 3.寒冰烙印 4.神劍巴魯蒙克) : ')\n",
    "    try:\n",
    "        item_id = int(item_id)\n",
    "        format_check = True\n",
    "    except Exception:\n",
    "        print('輸入格式錯誤!')\n",
    "        format_check = False\n",
    "\n",
    "    if item_id > 4 or item_id < 1:\n",
    "        print('輸入代號不符!')\n",
    "        format_check = False\n",
    "    \n",
    "if format_check:\n",
    "    # write your code below\n",
    "    if item_id == 1:\n",
    "        price = 300\n",
    "    if item_id == 2:\n",
    "        price = 600\n",
    "    if item_id == 3:\n",
    "        price = 1000\n",
    "    if item_id == 4:\n",
    "        price = 1500\n",
    "        \n",
    "    if coin_amount > price:\n",
    "        print(f'結帳成功!餘額{coin_amount - price}元')\n",
    "    else:\n",
    "        print('NO')"
   ]
  },
  {
   "cell_type": "markdown",
   "metadata": {},
   "source": [
    "### **version 3 有點進階，可以看看就好or之後再提問**"
   ]
  },
  {
   "cell_type": "code",
   "execution_count": null,
   "metadata": {},
   "outputs": [],
   "source": [
    "# version 3\n",
    "\n",
    "format_check = True\n",
    "coin_amount = input('請輸入擁有的金幣量 : ')\n",
    "try:\n",
    "    coin_amount = int(coin_amount)\n",
    "except Exception:\n",
    "    print('輸入格式錯誤!')\n",
    "    format_check = False\n",
    "\n",
    "if format_check:\n",
    "    item_id = input('請輸入想買東西的代號(1.機工刃 2.究極之刃 3.寒冰烙印 4.神劍巴魯蒙克) : ')\n",
    "    try:\n",
    "        item_id = int(item_id)\n",
    "        format_check = True\n",
    "    except Exception:\n",
    "        print('輸入格式錯誤!')\n",
    "        format_check = False\n",
    "\n",
    "    if item_id > 4 or item_id < 1:\n",
    "        print('輸入代號不符!')\n",
    "        format_check = False\n",
    "    \n",
    "if format_check:\n",
    "    # write your code below\n",
    "    price_list = [0, 300, 600, 1000, 1500]\n",
    "    # price_list[0]不會用到，直接用 price_list[item_id] 程式比較好看\n",
    "    \n",
    "    # price_list = [300, 600, 1000, 1500]的話，取值用 price_list[item_id-1]\n",
    "\n",
    "    price = price_list[item_id]\n",
    "        \n",
    "    if coin_amount > price:\n",
    "        print(f'結帳成功!餘額{coin_amount - price}元')\n",
    "    else:\n",
    "        print('NO')"
   ]
  },
  {
   "cell_type": "code",
   "execution_count": null,
   "metadata": {},
   "outputs": [],
   "source": []
  }
 ],
 "metadata": {
  "kernelspec": {
   "display_name": "Python 3",
   "language": "python",
   "name": "python3"
  },
  "language_info": {
   "codemirror_mode": {
    "name": "ipython",
    "version": 3
   },
   "file_extension": ".py",
   "mimetype": "text/x-python",
   "name": "python",
   "nbconvert_exporter": "python",
   "pygments_lexer": "ipython3",
   "version": "3.8.10"
  }
 },
 "nbformat": 4,
 "nbformat_minor": 4
}
