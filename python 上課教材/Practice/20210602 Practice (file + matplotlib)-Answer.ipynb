{
 "cells": [
  {
   "cell_type": "markdown",
   "id": "40d0cfe3-416a-425c-be71-4c5d8dbc6100",
   "metadata": {},
   "source": [
    "# 檔案處理"
   ]
  },
  {
   "cell_type": "markdown",
   "id": "27892834",
   "metadata": {},
   "source": [
    "# 1\n",
    "\n",
    "下面有一個陣列`nameList`，裡面儲存了一些英文名字。請把`nameList`內的這些名字儲存到文字檔`name.txt`中，一行放一個名字"
   ]
  },
  {
   "cell_type": "code",
   "execution_count": 3,
   "id": "85440bb9-1e57-439b-9f3d-ea8acb83da36",
   "metadata": {},
   "outputs": [],
   "source": [
    "nameList = ['Jacob',\n",
    "     'Charlie',\n",
    "     'Thomas',\n",
    "     'George',\n",
    "     'Oscar',\n",
    "     'Amelia',\n",
    "     'William',\n",
    "     'Olivia',\n",
    "     'Isla',\n",
    "     'Emily',\n",
    "     'Poppy',\n",
    "     'James',\n",
    "     'Jessica',\n",
    "     'Ava',\n",
    "     'Isabella',\n",
    "     'Lily',\n",
    "     'Sophie']\n",
    "\n",
    "# write your code below\n",
    "with open('name.txt', 'w') as f:\n",
    "    for name in nameList:\n",
    "        f.write(name + '\\n')"
   ]
  },
  {
   "cell_type": "code",
   "execution_count": 3,
   "id": "7b7528b2-a71c-43a0-83d0-f1b46794df9a",
   "metadata": {},
   "outputs": [],
   "source": [
    "nameList = ['Jacob',\n",
    "     'Charlie',\n",
    "     'Thomas',\n",
    "     'George',\n",
    "     'Oscar',\n",
    "     'Amelia',\n",
    "     'William',\n",
    "     'Olivia',\n",
    "     'Isla',\n",
    "     'Emily',\n",
    "     'Poppy',\n",
    "     'James',\n",
    "     'Jessica',\n",
    "     'Ava',\n",
    "     'Isabella',\n",
    "     'Lily',\n",
    "     'Sophie']\n",
    "\n",
    "f = open(\"name.txt\", \"w\")\n",
    "\n",
    "for i in range(len(nameList)):\n",
    "    f.write(nameList[i] + \"\\n\")\n",
    "\n",
    "f.close()"
   ]
  },
  {
   "cell_type": "code",
   "execution_count": 2,
   "id": "ed2108a0-c870-4b15-bb97-3adfc58c3c16",
   "metadata": {},
   "outputs": [],
   "source": [
    "nameList = ['Jacob',\n",
    "     'Charlie',\n",
    "     'Thomas',\n",
    "     'George',\n",
    "     'Oscar',\n",
    "     'Amelia',\n",
    "     'William',\n",
    "     'Olivia',\n",
    "     'Isla',\n",
    "     'Emily',\n",
    "     'Poppy',\n",
    "     'James',\n",
    "     'Jessica',\n",
    "     'Ava',\n",
    "     'Isabella',\n",
    "     'Lily',\n",
    "     'Sophie']\n",
    "\n",
    "# write your code below\n",
    "with open('name.txt', 'w') as f:\n",
    "    f.write('\\n'.join(nameList))"
   ]
  },
  {
   "cell_type": "markdown",
   "id": "6deb9fec-4b36-4cf0-bc0b-9086d52bd1bf",
   "metadata": {},
   "source": [
    "# 2\n",
    "\n",
    "建立一個檔案`1.txt`，內容如下 :\n",
    "\n",
    "* 1.txt\n",
    "\n",
    "\n",
    "> The  \n",
    "> quick  \n",
    "> brown  \n",
    "> fox  \n",
    "> jumps  \n",
    "> over  \n",
    "> the  \n",
    "> lazy  \n",
    "> dog\n",
    "\n",
    "\n",
    "請用程式將這個檔案的每一行讀取出來並輸出(`print()`)，每個單字之間留一個空格\n",
    "\n",
    "* 輸出範例 :\n",
    "\n",
    "```\n",
    "The quick brown fox jumps over the lazy dog\n",
    "```"
   ]
  },
  {
   "cell_type": "code",
   "execution_count": null,
   "id": "4673ca53-f99e-4317-ab92-fc085d886dd5",
   "metadata": {},
   "outputs": [],
   "source": [
    "f.read()\n",
    "f.readlines()"
   ]
  },
  {
   "cell_type": "code",
   "execution_count": 14,
   "id": "b9f4594f-8d24-4127-ac96-e1dd0d70cfe6",
   "metadata": {},
   "outputs": [
    {
     "name": "stdout",
     "output_type": "stream",
     "text": [
      "The quick brown fox jumps over the lazy dog\n"
     ]
    }
   ],
   "source": [
    "f = open('1.txt', 'r')\n",
    "text = f.readlines()\n",
    "f.close()\n",
    "\n",
    "for line in text[:-1]:\n",
    "    print(line[:-1], end = ' ')\n",
    "    \n",
    "print(text[-1])"
   ]
  },
  {
   "cell_type": "code",
   "execution_count": 17,
   "id": "c96d1dae-4633-4030-953b-6c110fce2dde",
   "metadata": {},
   "outputs": [
    {
     "name": "stdout",
     "output_type": "stream",
     "text": [
      "The quick brown fox jumps over the lazy dog "
     ]
    }
   ],
   "source": [
    "f = open('1.txt', 'r')\n",
    "text = f.readlines()\n",
    "f.close()\n",
    "\n",
    "for line in text:\n",
    "    print(line.strip(), end = ' ')"
   ]
  },
  {
   "cell_type": "code",
   "execution_count": 15,
   "id": "765b60b9-6861-44ea-9b0b-677858e081da",
   "metadata": {},
   "outputs": [
    {
     "data": {
      "text/plain": [
       "'asjlfdjfldsfsalj jl ajsl'"
      ]
     },
     "execution_count": 15,
     "metadata": {},
     "output_type": "execute_result"
    }
   ],
   "source": [
    "str1 = \"\\n\\tasjlfdjfldsfsalj jl ajsl   \"\n",
    "\n",
    "str1.strip()"
   ]
  },
  {
   "cell_type": "code",
   "execution_count": 31,
   "id": "c075445e-fabe-4341-9f9b-f79501bc0e74",
   "metadata": {
    "tags": []
   },
   "outputs": [
    {
     "name": "stdout",
     "output_type": "stream",
     "text": [
      "The quick brown fox jumps over the lazy dog\n"
     ]
    }
   ],
   "source": [
    "# write your code below\n",
    "with open('1.txt') as f:\n",
    "    print(f.read().replace('\\n', ' '))"
   ]
  },
  {
   "cell_type": "code",
   "execution_count": 28,
   "id": "7a0d0285-670d-4ac4-82f1-bf6a916553ab",
   "metadata": {},
   "outputs": [
    {
     "data": {
      "text/plain": [
       "'a---b---c---d'"
      ]
     },
     "execution_count": 28,
     "metadata": {},
     "output_type": "execute_result"
    }
   ],
   "source": [
    "\"a b c d\".replace(\" \", \"---\")"
   ]
  },
  {
   "cell_type": "markdown",
   "id": "d8abb33d-9a2f-44c7-8bc2-40690eeb85c6",
   "metadata": {},
   "source": [
    "---\n",
    "\n",
    "# matplotlib 畫圖"
   ]
  },
  {
   "cell_type": "markdown",
   "id": "75b14624-39fa-4b26-8aa9-e0f7f40a8713",
   "metadata": {},
   "source": [
    "# 1\n",
    "\n",
    "用下面提供的`x`跟`y`畫出折線圖，將折線顏色改成`#87FFD8`\n",
    "\n",
    "應該會長這樣 :\n",
    "\n",
    "![img1](https://i.imgur.com/hKux5vG.png)"
   ]
  },
  {
   "cell_type": "code",
   "execution_count": 33,
   "id": "8e339674-7211-45d9-b910-cfb90c01106b",
   "metadata": {},
   "outputs": [
    {
     "data": {
      "text/plain": [
       "[<matplotlib.lines.Line2D at 0x2b50c23e1c0>]"
      ]
     },
     "execution_count": 33,
     "metadata": {},
     "output_type": "execute_result"
    },
    {
     "data": {
      "image/png": "[encoded data removed]",
      "text/plain": [
       "<Figure size 432x288 with 1 Axes>"
      ]
     },
     "metadata": {
      "needs_background": "light"
     },
     "output_type": "display_data"
    }
   ],
   "source": [
    "import numpy as np\n",
    "import matplotlib.pyplot as plt\n",
    "\n",
    "x = np.arange(0, 10, 0.01)\n",
    "y = np.cos(x) + np.random.random(1000) * 0.1 - 0.05\n",
    "\n",
    "# write your code below\n",
    "plt.plot(x, y, '#87FFD8')"
   ]
  },
  {
   "cell_type": "markdown",
   "id": "b0c61ffb-c44b-409c-a964-c877f59ce6c5",
   "metadata": {},
   "source": [
    "# 2 \n",
    "\n",
    "`x`, `y`, `y2` 三個`list`的內容如下 :\n",
    "\n",
    "* `x`\n",
    "\n",
    "```python\n",
    "[-5.0, -4.9, -4.8, -4.7000003, -4.6000004, -4.5000005, -4.4000006, -4.3000007, -4.200001, -4.100001, -4.000001, -3.900001, -3.8000011, -3.7000012, -3.6000013, -3.5000014, -3.4000015, -3.3000016, -3.2000017, -3.1000018, -3.000002, -2.900002, -2.800002, -2.7000022, -2.6000023, -2.5000024, -2.4000025, -2.3000026, -2.2000027, -2.1000028, -2.0000029, -1.900003, -1.800003, -1.7000031, -1.6000032, -1.5000033, -1.4000034, -1.3000035, -1.2000036, -1.1000037, -1.0000038, -0.9000039, -0.800004, -0.7000041, -0.6000042, -0.5000043, -0.4000044, -0.30000448, -0.20000458, -0.10000467, -4.7683716e-06, 0.099995136, 0.19999504, 0.29999495, 0.39999485, 0.49999475, 0.59999466, 0.69999456, 0.79999447, 0.8999944, 0.9999943, 1.0999942, 1.1999941, 1.299994, 1.3999939, 1.4999938, 1.5999937, 1.6999936, 1.7999935, 1.8999934, 1.9999933, 2.0999932, 2.1999931, 2.299993, 2.399993, 2.4999928, 2.5999928, 2.6999927, 2.7999926, 2.8999925, 2.9999924, 3.0999928, 3.1999922, 3.2999916, 3.399992, 3.4999924, 3.5999918, 3.6999912, 3.7999916, 3.899992, 3.9999914, 4.099991, 4.199991, 4.2999916, 4.399991, 4.4999905, 4.599991, 4.699991, 4.7999907, 4.89999]\n",
    "```\n",
    "\n",
    "* `y`\n",
    "\n",
    "```python\n",
    "[0.45, 0.4401, 0.4304, 0.42090002, 0.41160005, 0.40250003, 0.39360005, 0.38490003, 0.37640005, 0.36810008, 0.36000007, 0.35210007, 0.3444001, 0.3369001, 0.3296001, 0.3225001, 0.3156001, 0.30890012, 0.3024001, 0.2961001, 0.2900001, 0.28410012, 0.27840012, 0.2729001, 0.26760012, 0.2625001, 0.25760013, 0.25290012, 0.24840012, 0.24410012, 0.24000011, 0.2361001, 0.23240012, 0.2289001, 0.22560011, 0.2225001, 0.2196001, 0.2169001, 0.21440008, 0.21210009, 0.21000008, 0.20810008, 0.20640007, 0.20490006, 0.20360005, 0.20250005, 0.20160004, 0.20090003, 0.20040002, 0.20010002, 0.2, 0.20009999, 0.20039998, 0.20089997, 0.20159996, 0.20249996, 0.20359994, 0.20489992, 0.20639992, 0.2080999, 0.20999989, 0.21209988, 0.21439986, 0.21689984, 0.21959983, 0.22249982, 0.2255998, 0.22889978, 0.23239976, 0.23609975, 0.23999974, 0.24409972, 0.2483997, 0.25289968, 0.25759965, 0.26249963, 0.2675996, 0.2728996, 0.2783996, 0.28409958, 0.28999954, 0.29609954, 0.30239952, 0.30889946, 0.31559944, 0.32249945, 0.3295994, 0.33689934, 0.34439936, 0.35209936, 0.3599993, 0.36809927, 0.37639928, 0.38489926, 0.3935992, 0.40249914, 0.41159916, 0.42089918, 0.4303991, 0.44009903]\n",
    "```\n",
    "\n",
    "* `y2`\n",
    "\n",
    "```python\n",
    "[1.25, 1.2005, 1.1520001, 1.1045002, 1.0580002, 1.0125002, 0.96800023, 0.9245003, 0.8820004, 0.84050035, 0.80000037, 0.76050043, 0.7220005, 0.68450046, 0.6480005, 0.61250055, 0.5780005, 0.5445005, 0.51200056, 0.48050055, 0.45000058, 0.42050058, 0.3920006, 0.3645006, 0.3380006, 0.3125006, 0.28800058, 0.2645006, 0.24200058, 0.22050059, 0.20000057, 0.18050057, 0.16200055, 0.14450054, 0.12800053, 0.1125005, 0.09800048, 0.084500454, 0.07200044, 0.06050041, 0.05000038, 0.040500354, 0.032000322, 0.024500286, 0.01800025, 0.012500214, 0.0080001755, 0.0045001344, 0.0020000916, 0.00050004676, 1.1368684e-12, 0.00049995136, 0.001999901, 0.0044998485, 0.007999795, 0.012499738, 0.017999679, 0.02449962, 0.03199956, 0.040499493, 0.049999427, 0.06049936, 0.07199929, 0.08449922, 0.09799915, 0.11249907, 0.127999, 0.14449891, 0.16199884, 0.18049876, 0.19999866, 0.22049859, 0.24199848, 0.2644984, 0.2879983, 0.3124982, 0.33799812, 0.36449802, 0.3919979, 0.4204978, 0.44999772, 0.48049775, 0.5119975, 0.54449725, 0.57799727, 0.6124973, 0.6479971, 0.68449676, 0.72199684, 0.76049685, 0.79999655, 0.84049624, 0.88199633, 0.92449635, 0.96799606, 1.0124958, 1.0579958, 1.1044959, 1.1519955, 1.2004951]\n",
    "```\n",
    "\n",
    "請用`x`分別對應`y`及`y2`，畫出兩條對應的圖形(顏色不限)\n",
    "\n",
    "結果應該會長這樣 :\n",
    "\n",
    "![](https://i.imgur.com/WTcccuY.png)"
   ]
  },
  {
   "cell_type": "code",
   "execution_count": 42,
   "id": "9dceaa31-a49b-49a7-96bf-b7838c488268",
   "metadata": {},
   "outputs": [
    {
     "data": {
      "text/plain": [
       "[<matplotlib.lines.Line2D at 0x2b50c5f9bb0>]"
      ]
     },
     "execution_count": 42,
     "metadata": {},
     "output_type": "execute_result"
    },
    {
     "data": {
      "image/png": "[encoded data removed]",
      "text/plain": [
       "<Figure size 432x288 with 1 Axes>"
      ]
     },
     "metadata": {
      "needs_background": "light"
     },
     "output_type": "display_data"
    }
   ],
   "source": [
    "# write your code here\n",
    "x = [-5.0, -4.9, -4.8, -4.7000003, -4.6000004, -4.5000005, -4.4000006, -4.3000007, -4.200001, -4.100001, -4.000001, -3.900001, -3.8000011, -3.7000012, -3.6000013, -3.5000014, -3.4000015, -3.3000016, -3.2000017, -3.1000018, -3.000002, -2.900002, -2.800002, -2.7000022, -2.6000023, -2.5000024, -2.4000025, -2.3000026, -2.2000027, -2.1000028, -2.0000029, -1.900003, -1.800003, -1.7000031, -1.6000032, -1.5000033, -1.4000034, -1.3000035, -1.2000036, -1.1000037, -1.0000038, -0.9000039, -0.800004, -0.7000041, -0.6000042, -0.5000043, -0.4000044, -0.30000448, -0.20000458, -0.10000467, -4.7683716e-06, 0.099995136, 0.19999504, 0.29999495, 0.39999485, 0.49999475, 0.59999466, 0.69999456, 0.79999447, 0.8999944, 0.9999943, 1.0999942, 1.1999941, 1.299994, 1.3999939, 1.4999938, 1.5999937, 1.6999936, 1.7999935, 1.8999934, 1.9999933, 2.0999932, 2.1999931, 2.299993, 2.399993, 2.4999928, 2.5999928, 2.6999927, 2.7999926, 2.8999925, 2.9999924, 3.0999928, 3.1999922, 3.2999916, 3.399992, 3.4999924, 3.5999918, 3.6999912, 3.7999916, 3.899992, 3.9999914, 4.099991, 4.199991, 4.2999916, 4.399991, 4.4999905, 4.599991, 4.699991, 4.7999907, 4.89999]\n",
    "y = [0.45, 0.4401, 0.4304, 0.42090002, 0.41160005, 0.40250003, 0.39360005, 0.38490003, 0.37640005, 0.36810008, 0.36000007, 0.35210007, 0.3444001, 0.3369001, 0.3296001, 0.3225001, 0.3156001, 0.30890012, 0.3024001, 0.2961001, 0.2900001, 0.28410012, 0.27840012, 0.2729001, 0.26760012, 0.2625001, 0.25760013, 0.25290012, 0.24840012, 0.24410012, 0.24000011, 0.2361001, 0.23240012, 0.2289001, 0.22560011, 0.2225001, 0.2196001, 0.2169001, 0.21440008, 0.21210009, 0.21000008, 0.20810008, 0.20640007, 0.20490006, 0.20360005, 0.20250005, 0.20160004, 0.20090003, 0.20040002, 0.20010002, 0.2, 0.20009999, 0.20039998, 0.20089997, 0.20159996, 0.20249996, 0.20359994, 0.20489992, 0.20639992, 0.2080999, 0.20999989, 0.21209988, 0.21439986, 0.21689984, 0.21959983, 0.22249982, 0.2255998, 0.22889978, 0.23239976, 0.23609975, 0.23999974, 0.24409972, 0.2483997, 0.25289968, 0.25759965, 0.26249963, 0.2675996, 0.2728996, 0.2783996, 0.28409958, 0.28999954, 0.29609954, 0.30239952, 0.30889946, 0.31559944, 0.32249945, 0.3295994, 0.33689934, 0.34439936, 0.35209936, 0.3599993, 0.36809927, 0.37639928, 0.38489926, 0.3935992, 0.40249914, 0.41159916, 0.42089918, 0.4303991, 0.44009903]\n",
    "y2 = [1.25, 1.2005, 1.1520001, 1.1045002, 1.0580002, 1.0125002, 0.96800023, 0.9245003, 0.8820004, 0.84050035, 0.80000037, 0.76050043, 0.7220005, 0.68450046, 0.6480005, 0.61250055, 0.5780005, 0.5445005, 0.51200056, 0.48050055, 0.45000058, 0.42050058, 0.3920006, 0.3645006, 0.3380006, 0.3125006, 0.28800058, 0.2645006, 0.24200058, 0.22050059, 0.20000057, 0.18050057, 0.16200055, 0.14450054, 0.12800053, 0.1125005, 0.09800048, 0.084500454, 0.07200044, 0.06050041, 0.05000038, 0.040500354, 0.032000322, 0.024500286, 0.01800025, 0.012500214, 0.0080001755, 0.0045001344, 0.0020000916, 0.00050004676, 1.1368684e-12, 0.00049995136, 0.001999901, 0.0044998485, 0.007999795, 0.012499738, 0.017999679, 0.02449962, 0.03199956, 0.040499493, 0.049999427, 0.06049936, 0.07199929, 0.08449922, 0.09799915, 0.11249907, 0.127999, 0.14449891, 0.16199884, 0.18049876, 0.19999866, 0.22049859, 0.24199848, 0.2644984, 0.2879983, 0.3124982, 0.33799812, 0.36449802, 0.3919979, 0.4204978, 0.44999772, 0.48049775, 0.5119975, 0.54449725, 0.57799727, 0.6124973, 0.6479971, 0.68449676, 0.72199684, 0.76049685, 0.79999655, 0.84049624, 0.88199633, 0.92449635, 0.96799606, 1.0124958, 1.0579958, 1.1044959, 1.1519955, 1.2004951]\n",
    "\n",
    "plt.plot(x, y)\n",
    "plt.plot(x, y2)"
   ]
  },
  {
   "cell_type": "markdown",
   "id": "342f08d3-4894-451f-81f6-b33833266209",
   "metadata": {},
   "source": [
    "# 3 (Bonus)\n",
    "\n",
    "畫出一個半徑為5的圓，圓心為(0, 0)"
   ]
  },
  {
   "cell_type": "code",
   "execution_count": 56,
   "id": "3b565bb0-1c3a-470e-af95-615bedcabffa",
   "metadata": {},
   "outputs": [
    {
     "data": {
      "text/plain": [
       "[<matplotlib.lines.Line2D at 0x2b50d86f760>]"
      ]
     },
     "execution_count": 56,
     "metadata": {},
     "output_type": "execute_result"
    },
    {
     "data": {
      "image/png": "[encoded data removed]",
      "text/plain": [
       "<Figure size 360x360 with 1 Axes>"
      ]
     },
     "metadata": {
      "needs_background": "light"
     },
     "output_type": "display_data"
    }
   ],
   "source": [
    "# write your code here\n",
    "theta = np.arange(0, np.pi * 2, 0.01)\n",
    "x = np.cos(theta) * 5\n",
    "y = np.sin(theta) * 5\n",
    "\n",
    "plt.figure(figsize = (5, 5)) # figsize : 設定畫圖的長寬\n",
    "plt.plot(x, y)\n"
   ]
  }
 ],
 "metadata": {
  "kernelspec": {
   "display_name": "Python 3.8.3 64-bit",
   "language": "python",
   "name": "python38364bit77bb13c7d6434690befce17b6bae7706"
  },
  "language_info": {
   "codemirror_mode": {
    "name": "ipython",
    "version": 3
   },
   "file_extension": ".py",
   "mimetype": "text/x-python",
   "name": "python",
   "nbconvert_exporter": "python",
   "pygments_lexer": "ipython3",
   "version": "3.8.10"
  },
  "metadata": {
   "interpreter": {
    "hash": "59e6ca1d8e5ff34c756f5b41d408e2331385b4ce0474aed8d6e918b3c1a89964"
   }
  }
 },
 "nbformat": 4,
 "nbformat_minor": 5
}
