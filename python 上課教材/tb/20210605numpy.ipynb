{
 "cells": [
  {
   "cell_type": "code",
   "execution_count": 2,
   "id": "71e8643a-1514-42c9-b4ab-f4ec1711f4f0",
   "metadata": {},
   "outputs": [],
   "source": [
    "import numpy as np # 通常會用 \"np\" 當作 numpy 的簡寫"
   ]
  },
  {
   "cell_type": "markdown",
   "id": "a86d272a-dc85-47fa-bdd9-79741183bed7",
   "metadata": {},
   "source": [
    "### Numpy 內的容器 : `ndarray`\n",
    "\n",
    "可以使用python內建的`list`或是`tuple`建立一個`ndarray`"
   ]
  },
  {
   "cell_type": "code",
   "execution_count": 5,
   "id": "68c4374f-7e94-4a1a-91d3-33814b13fe5d",
   "metadata": {},
   "outputs": [
    {
     "name": "stdout",
     "output_type": "stream",
     "text": [
      "<class 'numpy.ndarray'>\n",
      "[1 2 3 4]\n"
     ]
    }
   ],
   "source": [
    "mat = np.array([1, 2, 3, 4])\n",
    "print(type(mat))\n",
    "print(mat)"
   ]
  },
  {
   "cell_type": "markdown",
   "id": "d96c5c57-29d4-458f-aff8-ed7836a5636c",
   "metadata": {},
   "source": [
    "### `ndarray`可以是一維、二維，甚至是多維度"
   ]
  },
  {
   "cell_type": "code",
   "execution_count": 9,
   "id": "09ffb746-d1f5-4ab3-a4e3-99d1012a0720",
   "metadata": {},
   "outputs": [
    {
     "name": "stdout",
     "output_type": "stream",
     "text": [
      "<class 'numpy.ndarray'>\n",
      "[[ 1  2  3  4]\n",
      " [ 5  6  7  8]\n",
      " [ 9 10 11 12]]\n"
     ]
    }
   ],
   "source": [
    "mat = np.array([[1, 2, 3, 4], [5, 6, 7, 8], [9, 10, 11, 12]])\n",
    "print(type(mat))\n",
    "print(mat)"
   ]
  },
  {
   "cell_type": "markdown",
   "id": "78bb165b-3671-44ec-b55e-3e70f51df512",
   "metadata": {},
   "source": [
    "### `numpy`建立等差數列(一維的`ndarray`)\n",
    "\n",
    "* `np.arange([start, ]stop, [step, ]dtype=None)`\n",
    "\n",
    "參數用法跟python內建的`range`很類似\n",
    "\n",
    "* `np.arange(10)` = `np.arange(stop = 10)`\n",
    "* `np.arange(3, 10)` = `np.arange(start = 3, stop = 10)`\n",
    "* `np.arange(1, 9, 2)` = `np.arange(start = 1, stop = 9, step = 2)`"
   ]
  },
  {
   "cell_type": "code",
   "execution_count": 17,
   "id": "f5880355-a90e-46d4-be70-11e3f1e50be8",
   "metadata": {},
   "outputs": [
    {
     "name": "stdout",
     "output_type": "stream",
     "text": [
      "[0 1 2 3 4 5 6 7 8 9]\n"
     ]
    }
   ],
   "source": [
    "mat = np.arange(10)\n",
    "print(mat)"
   ]
  },
  {
   "cell_type": "code",
   "execution_count": 18,
   "id": "482e43e7-cb83-4e2c-9846-18c0cd4320a6",
   "metadata": {},
   "outputs": [
    {
     "name": "stdout",
     "output_type": "stream",
     "text": [
      "[3 4 5 6 7 8 9]\n"
     ]
    }
   ],
   "source": [
    "mat = np.arange(3, 10)\n",
    "print(mat)"
   ]
  },
  {
   "cell_type": "code",
   "execution_count": 19,
   "id": "4b5d6bd7-3e8c-481f-b698-b758778e102a",
   "metadata": {},
   "outputs": [
    {
     "name": "stdout",
     "output_type": "stream",
     "text": [
      "[1 3 5 7]\n"
     ]
    }
   ],
   "source": [
    "mat = np.arange(1, 9, 2)\n",
    "print(mat)"
   ]
  },
  {
   "cell_type": "code",
   "execution_count": 25,
   "id": "e42bbe0e-99cf-4c34-850e-e172ce6aa179",
   "metadata": {},
   "outputs": [
    {
     "name": "stdout",
     "output_type": "stream",
     "text": [
      "[1.  1.1 1.2 1.3 1.4 1.5 1.6 1.7 1.8 1.9 2.  2.1 2.2 2.3 2.4 2.5 2.6 2.7\n",
      " 2.8 2.9]\n"
     ]
    }
   ],
   "source": [
    "mat = np.arange(1, 3, 0.1) # step 參數可以使用小數\n",
    "print(mat)"
   ]
  },
  {
   "cell_type": "markdown",
   "id": "6215cb12-6bf9-42a9-81e8-79861df57178",
   "metadata": {},
   "source": [
    "### `ndarray`取值\n",
    "\n",
    "跟`list`大同小異，但更有彈性"
   ]
  },
  {
   "cell_type": "code",
   "execution_count": 62,
   "id": "175ea633-4f5d-416a-b1de-4f70112a78ec",
   "metadata": {},
   "outputs": [
    {
     "name": "stdout",
     "output_type": "stream",
     "text": [
      "[[ 1  2  3  4]\n",
      " [ 5  6  7  8]\n",
      " [ 9 10 11 12]]\n",
      "-------------\n",
      "7\n",
      "-------------\n",
      "[[1 2]\n",
      " [5 6]]\n"
     ]
    }
   ],
   "source": [
    "mat = np.array([[1, 2, 3, 4], [5, 6, 7, 8], [9, 10, 11, 12]])\n",
    "print(mat)\n",
    "print(\"-------------\")\n",
    "print(mat[1, 2]) # mat[行數, 列數]\n",
    "print(\"-------------\")\n",
    "print(mat[0:2, 0:2]) # mat[行數開始:行數結束, 列數開始:列數結束]"
   ]
  },
  {
   "cell_type": "code",
   "execution_count": 64,
   "id": "d9d05939-a45e-422e-880f-7b9cff7fb048",
   "metadata": {},
   "outputs": [
    {
     "name": "stdout",
     "output_type": "stream",
     "text": [
      "[1 2 3 5 6 7]\n",
      "-------------\n",
      "[2 5 7]\n"
     ]
    }
   ],
   "source": [
    "mat = np.array([1, 2, 3, 5, 6, 7])\n",
    "print(mat)\n",
    "print(\"-------------\")\n",
    "print(mat[[1, 3, 5]]) # 可以取不連續的值，但記得要兩層中括號"
   ]
  },
  {
   "cell_type": "markdown",
   "id": "d45ed448-2f22-4efb-88b7-b22c6ac20dcb",
   "metadata": {},
   "source": [
    "### `ndarray`的運算\n",
    "\n",
    "`ndarray` 可以使用 `+` `-` `*` `/` 等運算子，會直接對矩陣的每個資料做運算"
   ]
  },
  {
   "cell_type": "code",
   "execution_count": 75,
   "id": "4df91995-9af7-4357-98bc-fc92774e4dd6",
   "metadata": {},
   "outputs": [
    {
     "name": "stdout",
     "output_type": "stream",
     "text": [
      "[[1 2 3]\n",
      " [4 5 6]]\n",
      "--------------\n",
      "[[4 5 6]\n",
      " [7 8 9]]\n"
     ]
    }
   ],
   "source": [
    "mat = np.array([[1, 2, 3], [4, 5, 6]])\n",
    "print(mat)\n",
    "\n",
    "print(\"--------------\")\n",
    "mat2 = mat + 3\n",
    "print(mat2)"
   ]
  },
  {
   "cell_type": "code",
   "execution_count": 76,
   "id": "58d504d8-d2fb-4c5f-a94d-39b57286c971",
   "metadata": {},
   "outputs": [
    {
     "name": "stdout",
     "output_type": "stream",
     "text": [
      "[ 1  2  3  4  5  6  7  8  9 10]\n",
      "[   1    8   27   64  125  216  343  512  729 1000]\n"
     ]
    }
   ],
   "source": [
    "mat = np.arange(1, 11)\n",
    "print(mat)\n",
    "mat2 = mat ** 3\n",
    "print(mat2)"
   ]
  },
  {
   "cell_type": "markdown",
   "id": "3d8b92a2-7cb2-4f6b-b28e-d15dec97c78c",
   "metadata": {},
   "source": [
    "### `ndarray` 的串接\n",
    "\n",
    "分成橫向跟綜向兩種\n",
    "\n",
    "* np.hstack((mat1, mat2)) # 橫向串接，mat1、mat2是要串接的矩陣\n",
    "* np.vstack((mat1, mat2)) # 縱向"
   ]
  },
  {
   "cell_type": "code",
   "execution_count": 83,
   "id": "dddc2629-3cb8-4589-98a6-2aeed072eaae",
   "metadata": {},
   "outputs": [
    {
     "name": "stdout",
     "output_type": "stream",
     "text": [
      "[[1 2]\n",
      " [3 4]]\n",
      "---------------\n",
      "[[5 6]\n",
      " [7 8]]\n",
      "---------------\n",
      "[[1 2 5 6]\n",
      " [3 4 7 8]]\n"
     ]
    }
   ],
   "source": [
    "mat1 = np.array([[1, 2], [3, 4]])\n",
    "print(mat1)\n",
    "print(\"---------------\")\n",
    "mat2 = np.array([[5, 6], [7, 8]])\n",
    "print(mat2)\n",
    "print(\"---------------\")\n",
    "mat3 = np.hstack((mat1, mat2))\n",
    "print(mat3)"
   ]
  },
  {
   "cell_type": "code",
   "execution_count": 84,
   "id": "30e88956-c9a5-4d3d-83c3-a1ec0cbddcea",
   "metadata": {},
   "outputs": [
    {
     "name": "stdout",
     "output_type": "stream",
     "text": [
      "[[1 2]\n",
      " [3 4]]\n",
      "---------------\n",
      "[[5 6]\n",
      " [7 8]]\n",
      "---------------\n",
      "[[1 2]\n",
      " [3 4]\n",
      " [5 6]\n",
      " [7 8]]\n"
     ]
    }
   ],
   "source": [
    "mat1 = np.array([[1, 2], [3, 4]])\n",
    "print(mat1)\n",
    "print(\"---------------\")\n",
    "mat2 = np.array([[5, 6], [7, 8]])\n",
    "print(mat2)\n",
    "print(\"---------------\")\n",
    "mat3 = np.vstack((mat1, mat2))\n",
    "print(mat3)"
   ]
  },
  {
   "cell_type": "markdown",
   "id": "408d579b-ab5d-48c8-930f-de441a0b3105",
   "metadata": {},
   "source": [
    "### `numpy` 三角函數\n",
    "\n",
    "* `np.sin()`\n",
    "* `np.cos()`\n",
    "* `np.tan()`\n",
    "* ...\n",
    "\n",
    "中間的參數可以放一個數字，也可以放容器(`list` / `ndarray` / ...etc)"
   ]
  },
  {
   "cell_type": "code",
   "execution_count": 79,
   "id": "082bb9bf-235d-467f-b2d3-9e098e102a25",
   "metadata": {},
   "outputs": [
    {
     "name": "stdout",
     "output_type": "stream",
     "text": [
      "0.9092974268256817\n"
     ]
    }
   ],
   "source": [
    "n = np.sin(2)\n",
    "print(n)"
   ]
  },
  {
   "cell_type": "code",
   "execution_count": 80,
   "id": "df70b0a7-393f-4c86-a608-3250c55f6d7a",
   "metadata": {},
   "outputs": [
    {
     "name": "stdout",
     "output_type": "stream",
     "text": [
      "[ 1  2  3  4  5  6  7  8  9 10]\n",
      "[ 0.54030231 -0.41614684 -0.9899925  -0.65364362  0.28366219  0.96017029\n",
      "  0.75390225 -0.14550003 -0.91113026 -0.83907153]\n"
     ]
    }
   ],
   "source": [
    "mat = np.arange(1, 11)\n",
    "print(mat)\n",
    "cos_mat = np.cos(mat)\n",
    "print(cos_mat)"
   ]
  },
  {
   "cell_type": "markdown",
   "id": "9779d5ae-fb2b-49cc-b147-0d4f50b66d4b",
   "metadata": {},
   "source": [
    "### `ndarray` 常用的屬性(attr) :\n",
    "\n",
    "* `.shape` : `tuple`，是這個`ndarray`每個維度的長度\n",
    "* `.ndim` : `number`，這個`ndarray`是幾維\n",
    "* `.size` : `number`，這個`ndarray`\n",
    "* `.dtype` : 這個`ndarray`的資料型態(如int32就代表32位元的整數)\n",
    "* `.T` : 轉置矩陣"
   ]
  },
  {
   "cell_type": "code",
   "execution_count": 15,
   "id": "4d0568a0-abaa-4db1-a689-c62811a9e7a7",
   "metadata": {},
   "outputs": [
    {
     "name": "stdout",
     "output_type": "stream",
     "text": [
      "shape : (3, 4)\n",
      "ndim : 2\n",
      "size : 12\n",
      "dtype : int32\n",
      "T :\n",
      "[[ 1  5  9]\n",
      " [ 2  6 10]\n",
      " [ 3  7 11]\n",
      " [ 4  8 12]]\n"
     ]
    }
   ],
   "source": [
    "mat = np.array([[1, 2, 3, 4], [5, 6, 7, 8], [9, 10, 11, 12]])\n",
    "print(f\"shape :\", mat.shape)\n",
    "print(f\"ndim :\", mat.ndim)\n",
    "print(f\"size :\", mat.size)\n",
    "print(f\"dtype :\", mat.dtype)\n",
    "print(f\"T :\")\n",
    "print(mat.T)"
   ]
  },
  {
   "cell_type": "markdown",
   "id": "f8c9190e-6526-4c49-95af-90baf95502fa",
   "metadata": {},
   "source": [
    "### 建立全零 or 全一矩陣\n",
    "\n",
    "* `np.zeros((第一維長度, 第二維長度, 第三維長度 ...))` : 建立全零矩陣\n",
    "* `np.ones((第一維長度, 第二維長度, 第三維長度 ...))` : 建立全一矩陣"
   ]
  },
  {
   "cell_type": "code",
   "execution_count": 28,
   "id": "7f10f38f-14ef-4c6f-9001-ab88d1a73405",
   "metadata": {},
   "outputs": [
    {
     "name": "stdout",
     "output_type": "stream",
     "text": [
      "[[0. 0.]\n",
      " [0. 0.]\n",
      " [0. 0.]\n",
      " [0. 0.]]\n"
     ]
    }
   ],
   "source": [
    "mat = np.zeros((4, 2))\n",
    "print(mat)"
   ]
  },
  {
   "cell_type": "code",
   "execution_count": 29,
   "id": "0dfcf7ba-c735-40bc-b1a5-fab5601bffbd",
   "metadata": {},
   "outputs": [
    {
     "name": "stdout",
     "output_type": "stream",
     "text": [
      "[[1. 1. 1.]\n",
      " [1. 1. 1.]]\n"
     ]
    }
   ],
   "source": [
    "mat = np.ones((2, 3))\n",
    "print(mat)"
   ]
  },
  {
   "cell_type": "code",
   "execution_count": 32,
   "id": "3274bcd6-4eaa-4a2e-97e7-daaa5148f61c",
   "metadata": {},
   "outputs": [
    {
     "name": "stdout",
     "output_type": "stream",
     "text": [
      "[[[1. 1. 1. 1.]\n",
      "  [1. 1. 1. 1.]\n",
      "  [1. 1. 1. 1.]]\n",
      "\n",
      " [[1. 1. 1. 1.]\n",
      "  [1. 1. 1. 1.]\n",
      "  [1. 1. 1. 1.]]]\n"
     ]
    }
   ],
   "source": [
    "mat = np.ones((2, 3, 4))\n",
    "print(mat)"
   ]
  },
  {
   "cell_type": "markdown",
   "id": "b8975d14-43ca-4ce9-8f70-03f6ddcff8bf",
   "metadata": {},
   "source": [
    "### 建立亂數矩陣\n",
    "\n",
    "* `np.random.rand(第一維長度, 第二維長度, 第三維長度 ...)` : 亂數為0~1之間的隨機數。\n",
    "\n",
    "* `np.random.randint(low, high=None, size=None, dtype=\"I\")` : 亂數為參數`low`與`high`之間(不包含high)的隨機數，size=(第一維長度, 第二維長度, 第三維長度 ...)的`tuple`或`list`\n",
    "\n",
    "其他各種隨機函數的使用方法可以參考 [官網doc](https://numpy.org/doc/stable/reference/random/index.html#module-numpy.random)"
   ]
  },
  {
   "cell_type": "code",
   "execution_count": 33,
   "id": "edd5ab8d-8db5-4326-a6dd-5449c7c7f593",
   "metadata": {},
   "outputs": [
    {
     "name": "stdout",
     "output_type": "stream",
     "text": [
      "[[0.61894095 0.3643806  0.92775944]\n",
      " [0.46984165 0.28858064 0.02153575]]\n"
     ]
    }
   ],
   "source": [
    "mat = np.random.rand(2, 3)\n",
    "print(mat)"
   ]
  },
  {
   "cell_type": "code",
   "execution_count": 35,
   "id": "bda3abfa-1abb-4a92-bf81-020ccfe6e927",
   "metadata": {},
   "outputs": [
    {
     "name": "stdout",
     "output_type": "stream",
     "text": [
      "[[[0.33368849 0.81698102 0.65010829 0.25573587]\n",
      "  [0.15516001 0.73852398 0.66195512 0.96195575]\n",
      "  [0.96036806 0.26253016 0.00672796 0.94173966]]\n",
      "\n",
      " [[0.51582436 0.09886186 0.20438888 0.19654429]\n",
      "  [0.8774055  0.19533403 0.82850219 0.38491874]\n",
      "  [0.95909571 0.03991242 0.74376441 0.00200072]]]\n"
     ]
    }
   ],
   "source": [
    "# 也可以二維以上\n",
    "mat = np.random.rand(2, 3, 4)\n",
    "print(mat)"
   ]
  },
  {
   "cell_type": "code",
   "execution_count": 38,
   "id": "4abd739c-329e-4201-bbf1-71baef219609",
   "metadata": {},
   "outputs": [
    {
     "name": "stdout",
     "output_type": "stream",
     "text": [
      "[[2 1 2]\n",
      " [2 1 1]\n",
      " [2 1 2]]\n"
     ]
    }
   ],
   "source": [
    "mat = np.random.randint(1, 3, size = (3, 3))\n",
    "print(mat)"
   ]
  }
 ],
 "metadata": {
  "kernelspec": {
   "display_name": "Python 3",
   "language": "python",
   "name": "python3"
  },
  "language_info": {
   "codemirror_mode": {
    "name": "ipython",
    "version": 3
   },
   "file_extension": ".py",
   "mimetype": "text/x-python",
   "name": "python",
   "nbconvert_exporter": "python",
   "pygments_lexer": "ipython3",
   "version": "3.8.10"
  }
 },
 "nbformat": 4,
 "nbformat_minor": 5
}
