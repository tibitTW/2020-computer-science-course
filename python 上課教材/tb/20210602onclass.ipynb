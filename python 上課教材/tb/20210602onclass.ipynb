{
 "cells": [
  {
   "cell_type": "code",
   "execution_count": 4,
   "id": "35082ad3-1252-414a-bae5-6c1df36f661d",
   "metadata": {},
   "outputs": [
    {
     "name": "stdout",
     "output_type": "stream",
     "text": [
      "I wrote this line in python!\n",
      "\n"
     ]
    }
   ],
   "source": [
    "f = open('hello.txt', 'r')\n",
    "text = f.read()\n",
    "print(text)\n",
    "f.close()"
   ]
  },
  {
   "cell_type": "code",
   "execution_count": 5,
   "id": "698b0557-462a-40a4-b551-0f8e82c4f79b",
   "metadata": {},
   "outputs": [],
   "source": [
    "f = open('hello.txt', 'w')\n",
    "f.write('I wrote this line in python!\\n')\n",
    "f.close()"
   ]
  },
  {
   "cell_type": "code",
   "execution_count": 7,
   "id": "c2f61412-56d0-4e91-8649-41bbf4cbe412",
   "metadata": {},
   "outputs": [
    {
     "name": "stdout",
     "output_type": "stream",
     "text": [
      "I wrote this line in python!\n",
      "\n"
     ]
    }
   ],
   "source": [
    "with open('hello.txt', 'r') as f:\n",
    "    print(f.read())"
   ]
  },
  {
   "cell_type": "code",
   "execution_count": 8,
   "id": "7ecf3367-ec7b-40c3-b8e8-02e90cee5175",
   "metadata": {},
   "outputs": [
    {
     "name": "stdout",
     "output_type": "stream",
     "text": [
      "I wrote this line in python!\n",
      "\n"
     ]
    }
   ],
   "source": [
    "with open('hello.txt', 'r', encoding = 'utf-8') as f:\n",
    "    print(f.read())"
   ]
  },
  {
   "cell_type": "markdown",
   "id": "19191ceb-8920-4e8b-9611-ba4e320a7bce",
   "metadata": {},
   "source": [
    "# Other Notes\n",
    "\n",
    "* `f.read()` : 讀取整個檔案\n",
    "* `f.read(n)` : 讀取n個字元\n",
    "* `f.readlines()` : 讀取整個檔案，一行一行分開(存到一個list內)\n",
    "* `f.readline()` : 讀取一行內容\n",
    "* `f.seek(n)` : 從頭開始位移，改變開始讀取的位置"
   ]
  }
 ],
 "metadata": {
  "kernelspec": {
   "display_name": "Python 3",
   "language": "python",
   "name": "python3"
  },
  "language_info": {
   "codemirror_mode": {
    "name": "ipython",
    "version": 3
   },
   "file_extension": ".py",
   "mimetype": "text/x-python",
   "name": "python",
   "nbconvert_exporter": "python",
   "pygments_lexer": "ipython3",
   "version": "3.8.10"
  }
 },
 "nbformat": 4,
 "nbformat_minor": 5
}
