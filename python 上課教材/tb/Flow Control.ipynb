{
 "cells": [
  {
   "cell_type": "markdown",
   "metadata": {
    "slideshow": {
     "slide_type": "slide"
    }
   },
   "source": [
    "# 流程控制\n",
    "\n",
    "程式語言內流程控制的兩大方式\n",
    "\n",
    "1. 條件判斷(`if...elif...else`)\n",
    "2. 迴圈(`for` / `while`)\n",
    "\n",
    "### 差異\n",
    "\n",
    "* 條件判斷 : 只執行一次\n",
    "* 迴圈 : 重複執行(直到某條件或某次數)"
   ]
  },
  {
   "cell_type": "markdown",
   "metadata": {
    "slideshow": {
     "slide_type": "slide"
    }
   },
   "source": [
    "## `if...elif...else`\n",
    "\n",
    "設定條件，執行符合條件後對應的程式碼\n",
    "\n",
    "statement 可以是判斷式、運算結果等，**只要結果可以是布林值就可以**\n",
    "\n",
    "* 單一個`if`\n",
    "\n",
    "```python\n",
    "if statement:\n",
    "    # do \n",
    "    # something\n",
    "```\n",
    "\n",
    "* `if...else`\n",
    "\n",
    "```python\n",
    "if statement:\n",
    "    # do \n",
    "    # something\n",
    "else:\n",
    "    # do other things\n",
    "```\n",
    "\n",
    "* `if...elif...else`\n",
    "\n",
    "> `elif` 可以有無限多個(理論上)\n",
    "\n",
    "```python\n",
    "if statement1:\n",
    "    # do \n",
    "    # something\n",
    "elif statement2:\n",
    "    # do other things\n",
    "else:\n",
    "    # do other other(?) things\n",
    "```"
   ]
  },
  {
   "cell_type": "code",
   "execution_count": 5,
   "metadata": {
    "slideshow": {
     "slide_type": "slide"
    }
   },
   "outputs": [
    {
     "name": "stdin",
     "output_type": "stream",
     "text": [
      "Enter password: 0000\n"
     ]
    },
    {
     "name": "stdout",
     "output_type": "stream",
     "text": [
      "密碼正確\n"
     ]
    }
   ],
   "source": [
    "password = '0000'\n",
    "\n",
    "user_input = input('Enter password:')\n",
    "\n",
    "if user_input == password:\n",
    "    print('密碼正確')\n",
    "else:\n",
    "    print('密碼錯誤')"
   ]
  },
  {
   "cell_type": "code",
   "execution_count": 6,
   "metadata": {
    "slideshow": {
     "slide_type": "slide"
    }
   },
   "outputs": [
    {
     "name": "stdout",
     "output_type": "stream",
     "text": [
      "a大於b\n"
     ]
    }
   ],
   "source": [
    "a = 10\n",
    "b = 8\n",
    "\n",
    "if a > b:\n",
    "    print('a大於b')\n",
    "elif a == b:\n",
    "    print('a等於b')\n",
    "else:\n",
    "    print('a小於b')"
   ]
  },
  {
   "cell_type": "code",
   "execution_count": 8,
   "metadata": {
    "slideshow": {
     "slide_type": "slide"
    }
   },
   "outputs": [
    {
     "name": "stdin",
     "output_type": "stream",
     "text": [
      "Enter a number: 899\n"
     ]
    },
    {
     "name": "stdout",
     "output_type": "stream",
     "text": [
      "899 為3位數\n"
     ]
    }
   ],
   "source": [
    "num1 = int(input('Enter a number:'))\n",
    "\n",
    "if num1 < 0:\n",
    "    print(f'{num1} 為負數')\n",
    "elif num1 == 0:\n",
    "    print(f'{num1} 為0')\n",
    "elif num1 < 10:\n",
    "    print(f'{num1} 為1位數')\n",
    "elif num1 < 100:\n",
    "    print(f'{num1} 為2位數')\n",
    "elif num1 < 1000:\n",
    "    print(f'{num1} 為3位數')\n",
    "elif num1 < 10000:\n",
    "    print(f'{num1} 為4位數')"
   ]
  },
  {
   "cell_type": "markdown",
   "metadata": {
    "slideshow": {
     "slide_type": "slide"
    }
   },
   "source": [
    "### 巢狀判斷"
   ]
  },
  {
   "cell_type": "code",
   "execution_count": 9,
   "metadata": {
    "slideshow": {
     "slide_type": "slide"
    }
   },
   "outputs": [
    {
     "name": "stdin",
     "output_type": "stream",
     "text": [
      "Enter your grade(1~100): 0\n"
     ]
    },
    {
     "name": "stdout",
     "output_type": "stream",
     "text": [
      "YOU CANNOT PASSSSSSSSSS\n"
     ]
    }
   ],
   "source": [
    "grade = int(input(\"Enter your grade(1~100):\"))\n",
    "\n",
    "if grade < 60:\n",
    "    print(\"YOU CANNOT PASSSSSSSSSS\")\n",
    "else:\n",
    "    if grade >= 90:\n",
    "        print(\"A\")\n",
    "    elif grade >= 80:\n",
    "        print(\"B\")\n",
    "    elif grade >= 70:\n",
    "        print(\"C\")\n",
    "    else:\n",
    "        print(\"D\")"
   ]
  },
  {
   "cell_type": "markdown",
   "metadata": {
    "slideshow": {
     "slide_type": "slide"
    }
   },
   "source": [
    "## 迴圈\n",
    "\n",
    "如果要執行重複的動作該怎麼做?\n",
    "\n",
    "i.e. 輸出數字1~3"
   ]
  },
  {
   "cell_type": "code",
   "execution_count": 6,
   "metadata": {
    "slideshow": {
     "slide_type": "slide"
    }
   },
   "outputs": [
    {
     "name": "stdout",
     "output_type": "stream",
     "text": [
      "1\n",
      "2\n",
      "3\n"
     ]
    }
   ],
   "source": [
    "print(1)\n",
    "print(2)\n",
    "print(3)"
   ]
  },
  {
   "cell_type": "markdown",
   "metadata": {
    "slideshow": {
     "slide_type": "slide"
    }
   },
   "source": [
    "那如果要輸出1~10?"
   ]
  },
  {
   "cell_type": "code",
   "execution_count": 8,
   "metadata": {
    "slideshow": {
     "slide_type": "slide"
    }
   },
   "outputs": [
    {
     "name": "stdout",
     "output_type": "stream",
     "text": [
      "1\n",
      "2\n",
      "3\n",
      "4\n",
      "5\n",
      "6\n",
      "7\n",
      "8\n",
      "9\n",
      "10\n"
     ]
    }
   ],
   "source": [
    "print(1)\n",
    "print(2)\n",
    "print(3)\n",
    "print(4)\n",
    "print(5)\n",
    "print(6)\n",
    "print(7)\n",
    "print(8)\n",
    "print(9)\n",
    "print(10)"
   ]
  },
  {
   "cell_type": "markdown",
   "metadata": {
    "slideshow": {
     "slide_type": "slide"
    }
   },
   "source": [
    "輸出1~100?\n",
    "\n",
    "```python\n",
    "print(1)\n",
    "print(2)\n",
    "print(3)\n",
    ".\n",
    ".\n",
    ".\n",
    "print(100)\n",
    "```"
   ]
  },
  {
   "cell_type": "markdown",
   "metadata": {
    "slideshow": {
     "slide_type": "slide"
    }
   },
   "source": [
    "### `for` loop\n",
    "\n",
    "Python內通常會配合`range()`函式使用for迴圈\n",
    "\n",
    "```python\n",
    "for i in range(10):\n",
    "    print(i) # i的值為0~9 (每跑一次迴圈就+1)\n",
    "    \n",
    "# ==>>> 會印出0~9\n",
    "```\n",
    "\n",
    "* 用法\n",
    "\n",
    "`range(stop)`  \n",
    "`range(start, stop[, step])`\n",
    "\n",
    "變數會跑到stop的前一個數字  \n",
    "i.e. `range(1, 10)` => 迴圈跑9次，值為1~9"
   ]
  },
  {
   "cell_type": "markdown",
   "metadata": {
    "slideshow": {
     "slide_type": "slide"
    }
   },
   "source": [
    "![for meme](for%20loop%20meme.jpg)"
   ]
  },
  {
   "cell_type": "markdown",
   "metadata": {
    "slideshow": {
     "slide_type": "slide"
    }
   },
   "source": [
    "#### `range()` example"
   ]
  },
  {
   "cell_type": "code",
   "execution_count": 11,
   "metadata": {
    "slideshow": {
     "slide_type": "slide"
    }
   },
   "outputs": [
    {
     "name": "stdout",
     "output_type": "stream",
     "text": [
      "0\n",
      "1\n",
      "2\n",
      "3\n",
      "4\n"
     ]
    }
   ],
   "source": [
    "for i in range(5):\n",
    "    print(i)"
   ]
  },
  {
   "cell_type": "code",
   "execution_count": 2,
   "metadata": {
    "slideshow": {
     "slide_type": "slide"
    }
   },
   "outputs": [
    {
     "name": "stdout",
     "output_type": "stream",
     "text": [
      "3\n",
      "4\n",
      "5\n",
      "6\n",
      "7\n",
      "8\n",
      "9\n",
      "10\n",
      "11\n"
     ]
    }
   ],
   "source": [
    "for i in range(3, 12):\n",
    "    print(i)"
   ]
  },
  {
   "cell_type": "code",
   "execution_count": 12,
   "metadata": {
    "slideshow": {
     "slide_type": "slide"
    }
   },
   "outputs": [
    {
     "name": "stdout",
     "output_type": "stream",
     "text": [
      "4\n",
      "6\n",
      "8\n",
      "10\n",
      "12\n",
      "14\n",
      "16\n",
      "18\n"
     ]
    }
   ],
   "source": [
    "for i in range(4, 20, 2):\n",
    "    print(i)"
   ]
  },
  {
   "cell_type": "markdown",
   "metadata": {
    "slideshow": {
     "slide_type": "slide"
    }
   },
   "source": [
    "### `while` loop\n",
    "\n",
    "相較於`for`迴圈是設定執行次數，`while`迴圈是設定條件，條件達成就會重複執行\n",
    "\n",
    "```python\n",
    "while statement:\n",
    "    # do\n",
    "    # something\n",
    "```\n",
    "\n",
    "> `while` = 會重複執行的 `if`"
   ]
  },
  {
   "cell_type": "code",
   "execution_count": 27,
   "metadata": {
    "slideshow": {
     "slide_type": "slide"
    }
   },
   "outputs": [
    {
     "name": "stdout",
     "output_type": "stream",
     "text": [
      "0\n",
      "1\n",
      "2\n",
      "3\n",
      "4\n",
      "5\n",
      "6\n",
      "7\n",
      "8\n",
      "9\n"
     ]
    }
   ],
   "source": [
    "i = 0\n",
    "while i < 10:\n",
    "    print(i)\n",
    "    i += 1"
   ]
  },
  {
   "cell_type": "code",
   "execution_count": 29,
   "metadata": {
    "slideshow": {
     "slide_type": "slide"
    }
   },
   "outputs": [
    {
     "name": "stdout",
     "output_type": "stream",
     "text": [
      "1\n",
      "2\n",
      "4\n",
      "8\n",
      "16\n",
      "32\n",
      "64\n",
      "128\n",
      "256\n",
      "512\n",
      "1024\n",
      "2048\n",
      "4096\n",
      "8192\n",
      "16384\n",
      "32768\n"
     ]
    }
   ],
   "source": [
    "i = 1\n",
    "while i < 2**16:\n",
    "    print(i)\n",
    "    i *= 2"
   ]
  },
  {
   "cell_type": "markdown",
   "metadata": {},
   "source": [
    "### 其他的流程控制 : `break` / `continue`\n",
    "\n",
    "迴圈內可以透過這兩個關鍵字控制流程\n",
    "\n",
    "* `break` : 結束迴圈的執行\n",
    "* `continue` : 直接跳到迴圈下一round"
   ]
  },
  {
   "cell_type": "code",
   "execution_count": 13,
   "metadata": {},
   "outputs": [
    {
     "name": "stdout",
     "output_type": "stream",
     "text": [
      "0\n",
      "1\n",
      "2\n",
      "3\n",
      "4\n"
     ]
    }
   ],
   "source": [
    "for i in range(10):\n",
    "    if i == 5:\n",
    "        break\n",
    "    \n",
    "    print(i)"
   ]
  },
  {
   "cell_type": "code",
   "execution_count": 14,
   "metadata": {},
   "outputs": [
    {
     "name": "stdout",
     "output_type": "stream",
     "text": [
      "1\n",
      "2\n",
      "4\n",
      "5\n",
      "7\n",
      "8\n",
      "10\n",
      "11\n",
      "14\n",
      "17\n"
     ]
    }
   ],
   "source": [
    "# 如果數字為3的倍數或某個位數是3的倍數，就不輸出\n",
    "\n",
    "for i in range(1, 20):\n",
    "    if i%3 == 0 or '3' in str(i) or '6' in str(i) or '9' in str(i):\n",
    "        continue\n",
    "    \n",
    "    print(i)"
   ]
  },
  {
   "cell_type": "code",
   "execution_count": null,
   "metadata": {},
   "outputs": [],
   "source": [
    "while True:\n",
    "    if statement :\n",
    "        break"
   ]
  },
  {
   "cell_type": "markdown",
   "metadata": {
    "slideshow": {
     "slide_type": "slide"
    }
   },
   "source": [
    "## 巢狀結構\n",
    "\n",
    "`if` / `for` / `while` 等結構都可以混合使用，實作更複雜的結構"
   ]
  },
  {
   "cell_type": "code",
   "execution_count": 15,
   "metadata": {
    "slideshow": {
     "slide_type": "slide"
    }
   },
   "outputs": [
    {
     "name": "stdout",
     "output_type": "stream",
     "text": [
      "2 是2的倍數\n",
      "3 是3的倍數\n",
      "4 是2的倍數\n",
      "6 是6的倍數\n",
      "8 是2的倍數\n",
      "9 是3的倍數\n",
      "10 是2的倍數\n",
      "12 是6的倍數\n",
      "14 是2的倍數\n",
      "15 是3的倍數\n",
      "16 是2的倍數\n",
      "18 是6的倍數\n",
      "20 是2的倍數\n"
     ]
    }
   ],
   "source": [
    "for i in range(1, 21):\n",
    "    if i%2 == 0:\n",
    "        if i%3 == 0:\n",
    "            print(i, '是6的倍數')\n",
    "        else:\n",
    "            print(i, '是2的倍數')\n",
    "    elif i%3 == 0:\n",
    "        print(i, '是3的倍數')"
   ]
  },
  {
   "cell_type": "code",
   "execution_count": 23,
   "metadata": {
    "slideshow": {
     "slide_type": "slide"
    }
   },
   "outputs": [
    {
     "name": "stdout",
     "output_type": "stream",
     "text": [
      "1x1 =  1  1x2 =  2  1x3 =  3  1x4 =  4  1x5 =  5  1x6 =  6  1x7 =  7  1x8 =  8  1x9 =  9  \n",
      "2x1 =  2  2x2 =  4  2x3 =  6  2x4 =  8  2x5 = 10  2x6 = 12  2x7 = 14  2x8 = 16  2x9 = 18  \n",
      "3x1 =  3  3x2 =  6  3x3 =  9  3x4 = 12  3x5 = 15  3x6 = 18  3x7 = 21  3x8 = 24  3x9 = 27  \n",
      "4x1 =  4  4x2 =  8  4x3 = 12  4x4 = 16  4x5 = 20  4x6 = 24  4x7 = 28  4x8 = 32  4x9 = 36  \n",
      "5x1 =  5  5x2 = 10  5x3 = 15  5x4 = 20  5x5 = 25  5x6 = 30  5x7 = 35  5x8 = 40  5x9 = 45  \n",
      "6x1 =  6  6x2 = 12  6x3 = 18  6x4 = 24  6x5 = 30  6x6 = 36  6x7 = 42  6x8 = 48  6x9 = 54  \n",
      "7x1 =  7  7x2 = 14  7x3 = 21  7x4 = 28  7x5 = 35  7x6 = 42  7x7 = 49  7x8 = 56  7x9 = 63  \n",
      "8x1 =  8  8x2 = 16  8x3 = 24  8x4 = 32  8x5 = 40  8x6 = 48  8x7 = 56  8x8 = 64  8x9 = 72  \n",
      "9x1 =  9  9x2 = 18  9x3 = 27  9x4 = 36  9x5 = 45  9x6 = 54  9x7 = 63  9x8 = 72  9x9 = 81  \n"
     ]
    }
   ],
   "source": [
    "for i in range(1, 10):\n",
    "    for j in range(1, 10):\n",
    "        print(f'{i}x{j} = {i*j:2d}  ', end = '') # end 可以設定結尾輸出的字符\n",
    "\n",
    "    print()"
   ]
  },
  {
   "cell_type": "code",
   "execution_count": 26,
   "metadata": {
    "slideshow": {
     "slide_type": "slide"
    }
   },
   "outputs": [
    {
     "name": "stdin",
     "output_type": "stream",
     "text": [
      "guess a number between 1 ~ 100 : 80\n",
      "guess a number between 1 ~ 80 : 12\n",
      "guess a number between 12 ~ 80 : 42\n"
     ]
    },
    {
     "name": "stdout",
     "output_type": "stream",
     "text": [
      "You got me!\n"
     ]
    }
   ],
   "source": [
    "answer = 42\n",
    "upper_bound = 100\n",
    "lower_bound = 1\n",
    "num = int(input(f'guess a number between {lower_bound} ~ {upper_bound} :'))\n",
    "\n",
    "while num != answer:\n",
    "    if num > answer:\n",
    "        upper_bound = num\n",
    "        num = int(input(f'guess a number between {lower_bound} ~ {upper_bound} :'))\n",
    "    else:\n",
    "        lower_bound = num\n",
    "        num = int(input(f'guess a number between {lower_bound} ~ {upper_bound} :'))\n",
    "\n",
    "print('You got me!')"
   ]
  },
  {
   "cell_type": "markdown",
   "metadata": {
    "slideshow": {
     "slide_type": "slide"
    }
   },
   "source": [
    "### 補充 : `print()` 詳細用法\n",
    "\n",
    "* [官方doc](https://docs.python.org/3/library/functions.html#print)\n",
    "\n",
    "`print(*objects, sep=' ', end='\\n', file=sys.stdout, flush=False)`\n",
    "\n",
    "* objects : 要print出的所有東西(用逗號`,`隔開)\n",
    "* sep : 印出的東西用什麼間隔(預設為一個空白字符)\n",
    "* end : 結尾字符(預設為換行字符 `'\\n'` )\n",
    "* file / flush : 寫入檔案、不使用緩衝區 (先省略不談)"
   ]
  },
  {
   "cell_type": "code",
   "execution_count": 25,
   "metadata": {
    "slideshow": {
     "slide_type": "slide"
    }
   },
   "outputs": [
    {
     "name": "stdout",
     "output_type": "stream",
     "text": [
      "3 + 5 = 8\n",
      "3--+--5--=--8\n"
     ]
    }
   ],
   "source": [
    "print(3, '+', 5, '=', 8)\n",
    "print(3, '+', 5, '=', 8, sep = '--')"
   ]
  },
  {
   "cell_type": "code",
   "execution_count": 24,
   "metadata": {
    "slideshow": {
     "slide_type": "slide"
    }
   },
   "outputs": [
    {
     "name": "stdout",
     "output_type": "stream",
     "text": [
      "hello\n",
      "world\n",
      "hello world\n"
     ]
    }
   ],
   "source": [
    "print('hello')\n",
    "print('world')\n",
    "\n",
    "print('hello ', end = '')\n",
    "print('world')"
   ]
  }
 ],
 "metadata": {
  "kernelspec": {
   "display_name": "Python 3",
   "language": "python",
   "name": "python3"
  },
  "language_info": {
   "codemirror_mode": {
    "name": "ipython",
    "version": 3
   },
   "file_extension": ".py",
   "mimetype": "text/x-python",
   "name": "python",
   "nbconvert_exporter": "python",
   "pygments_lexer": "ipython3",
   "version": "3.8.6"
  },
  "toc-autonumbering": false
 },
 "nbformat": 4,
 "nbformat_minor": 4
}
