{
 "cells": [
  {
   "cell_type": "markdown",
   "metadata": {},
   "source": [
    "# 1"
   ]
  },
  {
   "cell_type": "code",
   "execution_count": null,
   "metadata": {},
   "outputs": [],
   "source": [
    "from math import pi\n",
    "\n",
    "print(pi)"
   ]
  },
  {
   "cell_type": "code",
   "execution_count": null,
   "metadata": {},
   "outputs": [],
   "source": [
    "circle_radius = 5\n",
    "\n",
    "# 補完沒寫好的程式碼\n",
    "\n",
    "area = \n",
    "\n",
    "print(f'半徑為{circle_radius}的圓面積為 : {area}')"
   ]
  },
  {
   "cell_type": "markdown",
   "metadata": {},
   "source": [
    "# 2"
   ]
  },
  {
   "cell_type": "markdown",
   "metadata": {},
   "source": [
    "一杯咖啡賣5美元，成本1.5美元，每天賣400杯。\n",
    "\n",
    "請問每月(設30天)營收(daily income)與毛利(daily gross profit)為多少？\n",
    "\n",
    "輸出格式(For example) :\n",
    "\n",
    "> 每月營收為 : 300美元\n",
    "> 每月毛利為 : 150美元"
   ]
  },
  {
   "cell_type": "code",
   "execution_count": null,
   "metadata": {},
   "outputs": [],
   "source": [
    "coffee_price = 5\n",
    "coffee_cost = 1.5\n",
    "\n",
    "coffee_sells_per_day = 400\n",
    "\n",
    "\n",
    "# 補完下面的程式碼\n",
    "\n",
    "daily_income = \n",
    "daily_gross_profit = \n",
    "\n",
    "print('每月營收為 : {}美元, 每月毛利為 : {}美元')"
   ]
  },
  {
   "cell_type": "markdown",
   "metadata": {},
   "source": [
    "# 3"
   ]
  },
  {
   "cell_type": "markdown",
   "metadata": {},
   "source": [
    "使用者會輸入三個成績(整數)，計算出三個成績的平均值。平均值取到小數點後兩位。\n",
    "\n",
    "輸出範例 :\n",
    "\n",
    "> 成績平均為 : 89.53"
   ]
  },
  {
   "cell_type": "code",
   "execution_count": 6,
   "metadata": {},
   "outputs": [
    {
     "name": "stdout",
     "output_type": "stream",
     "text": [
      "請輸入成績1 : 90\n",
      "請輸入成績2 : 98\n",
      "請輸入成績3 : 70\n",
      "成績平均為 : 86.00\n"
     ]
    }
   ],
   "source": [
    "first_grade = input('請輸入成績1 : ')\n",
    "second_grade = input('請輸入成績2 : ')\n",
    "third_grade = input('請輸入成績3 : ')\n",
    "\n",
    "# write your code below\n",
    "\n",
    "\n",
    "average_grade = sum([int(first_grade), int(second_grade), int(third_grade)]) / 3\n",
    "print(f'成績平均為 : {average_grade:.2f}')"
   ]
  },
  {
   "cell_type": "code",
   "execution_count": 44,
   "metadata": {
    "scrolled": false
   },
   "outputs": [
    {
     "name": "stdout",
     "output_type": "stream",
     "text": [
      "varA = ---------491230490414.000000 ----------\n",
      "varB = ---------    1000.000000     ----------\n"
     ]
    }
   ],
   "source": [
    "varA = 491230490414\n",
    "varB = 1000\n",
    "print(f'varA = ---------{varA:^20f}----------')\n",
    "print(f'varB = ---------{varB:^20f}----------')"
   ]
  },
  {
   "cell_type": "code",
   "execution_count": 27,
   "metadata": {},
   "outputs": [
    {
     "name": "stdout",
     "output_type": "stream",
     "text": [
      "3.141592653589793\n"
     ]
    }
   ],
   "source": [
    "print(f'{pi}')"
   ]
  },
  {
   "cell_type": "code",
   "execution_count": 25,
   "metadata": {},
   "outputs": [
    {
     "name": "stdout",
     "output_type": "stream",
     "text": [
      "3.1415926535897931159979634685441851615905761718750000000000000000000000000000000000000000000000000000\n"
     ]
    }
   ],
   "source": [
    "print(f'{pi:.100f}')"
   ]
  }
 ],
 "metadata": {
  "kernelspec": {
   "display_name": "Python 3",
   "language": "python",
   "name": "python3"
  },
  "language_info": {
   "codemirror_mode": {
    "name": "ipython",
    "version": 3
   },
   "file_extension": ".py",
   "mimetype": "text/x-python",
   "name": "python",
   "nbconvert_exporter": "python",
   "pygments_lexer": "ipython3",
   "version": "3.8.6"
  }
 },
 "nbformat": 4,
 "nbformat_minor": 4
}
