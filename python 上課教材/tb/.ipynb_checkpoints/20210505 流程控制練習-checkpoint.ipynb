{
 "cells": [
  {
   "cell_type": "markdown",
   "metadata": {},
   "source": [
    "# 1"
   ]
  },
  {
   "cell_type": "markdown",
   "metadata": {},
   "source": [
    "> source : http://www.tcgs.tc.edu.tw:1218/ShowProblem?problemid=a020"
   ]
  },
  {
   "cell_type": "markdown",
   "metadata": {},
   "source": [
    "自從上次推出的刮刮樂彩券之後，不少顧客反應只能選擇獎金最高的一種來領取實在是太不公平了，於是彩券公司把這條限制拿掉，也就是說獎金是可以加總的。現在把這最新型刮刮樂的規則再說明一次：\n",
    "\n",
    "> 每張刮刮樂上面有兩個0~9的數字。  \n",
    "> 如果第一個數字是奇數，則可以得到100元。  \n",
    "> 如果第二個數字是2、5、8，則可以再得到200元。  \n",
    "> 如果第一個和第二個的數字相同，則可以再得到50元。  \n",
    "> 以上三種得獎方式的獎金是累加的，也就是說如果三種方式都中獎的話，你就可以得到最高獎金 350元。  \n",
    "> 現在給你一張刮刮樂上的兩個數字，請問你可以得到多少獎金。  \n",
    "\n",
    "輸入說明：  \n",
    "輸入兩個0~9的整數，代表刮刮樂上的兩個數字。  \n",
    "輸出說明：  \n",
    "請輸出這張刮刮樂最高可以得到多少獎金，而如果沒有中獎，則輸出 0。  \n",
    "\n",
    "**範例輸入：**\n",
    "\n",
    "輸入1:  \n",
    "1  \n",
    "3\n",
    "\n",
    "輸入2:  \n",
    "2  \n",
    "5\n",
    "\n",
    "**範例輸出 ：**\n",
    "\n",
    "輸出1:  \n",
    "100\n",
    "\n",
    "輸出2:  \n",
    "200"
   ]
  },
  {
   "cell_type": "code",
   "execution_count": 4,
   "metadata": {},
   "outputs": [
    {
     "name": "stdin",
     "output_type": "stream",
     "text": [
      " 2\n",
      " 5\n"
     ]
    },
    {
     "name": "stdout",
     "output_type": "stream",
     "text": [
      "200\n"
     ]
    }
   ],
   "source": [
    "num1 = int(input())\n",
    "num2 = int(input())\n",
    "\n",
    "bonus = 0\n",
    "\n",
    "if num1%2:\n",
    "    bonus += 100\n",
    "    \n",
    "if num2 == 2 or num2 == 5 or num2 == 8:\n",
    "    bonus += 200\n",
    "    \n",
    "if num1 == num2:\n",
    "    bonus += 50\n",
    "\n",
    "print(bonus)"
   ]
  },
  {
   "cell_type": "markdown",
   "metadata": {},
   "source": [
    "---"
   ]
  },
  {
   "cell_type": "markdown",
   "metadata": {},
   "source": [
    "# 2"
   ]
  }
 ],
 "metadata": {
  "kernelspec": {
   "display_name": "Python 3",
   "language": "python",
   "name": "python3"
  },
  "language_info": {
   "codemirror_mode": {
    "name": "ipython",
    "version": 3
   },
   "file_extension": ".py",
   "mimetype": "text/x-python",
   "name": "python",
   "nbconvert_exporter": "python",
   "pygments_lexer": "ipython3",
   "version": "3.8.6"
  }
 },
 "nbformat": 4,
 "nbformat_minor": 4
}
