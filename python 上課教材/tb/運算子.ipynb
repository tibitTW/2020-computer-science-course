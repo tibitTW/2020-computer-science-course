{
 "cells": [
  {
   "cell_type": "markdown",
   "metadata": {},
   "source": [
    "# 關係運算子\n",
    "\n",
    "比較兩個物件之間的關係，結果為一個布林值(`True` / `False`)\n",
    "\n",
    "* `>`\n",
    "* `<`\n",
    "* `==` (是否相等)\n",
    "* `>=`\n",
    "* `<=`\n",
    "* `!=` (是否不相等)"
   ]
  },
  {
   "cell_type": "code",
   "execution_count": 13,
   "metadata": {},
   "outputs": [
    {
     "name": "stdout",
     "output_type": "stream",
     "text": [
      "True\n",
      "False\n",
      "False\n"
     ]
    }
   ],
   "source": [
    "a = 7\n",
    "b = 5\n",
    "\n",
    "print(a>b)\n",
    "print(a==b)\n",
    "print(a<b)"
   ]
  },
  {
   "cell_type": "markdown",
   "metadata": {},
   "source": [
    "可以比較的物件相當多元，任何**相同類型**的物件都可以比較"
   ]
  },
  {
   "cell_type": "code",
   "execution_count": 15,
   "metadata": {},
   "outputs": [
    {
     "name": "stdout",
     "output_type": "stream",
     "text": [
      "True\n"
     ]
    }
   ],
   "source": [
    "str1 = 'abc'\n",
    "str2 = 'abc'\n",
    "print(str1 == str2)"
   ]
  },
  {
   "cell_type": "code",
   "execution_count": 18,
   "metadata": {},
   "outputs": [
    {
     "ename": "TypeError",
     "evalue": "'>=' not supported between instances of 'str' and 'int'",
     "output_type": "error",
     "traceback": [
      "\u001b[0;31m---------------------------------------------------------------------------\u001b[0m",
      "\u001b[0;31mTypeError\u001b[0m                                 Traceback (most recent call last)",
      "\u001b[0;32m<ipython-input-18-b878aec64d7f>\u001b[0m in \u001b[0;36m<module>\u001b[0;34m\u001b[0m\n\u001b[0;32m----> 1\u001b[0;31m \u001b[0mprint\u001b[0m\u001b[0;34m(\u001b[0m\u001b[0;34m'5'\u001b[0m \u001b[0;34m>=\u001b[0m \u001b[0;36m3\u001b[0m\u001b[0;34m)\u001b[0m\u001b[0;34m\u001b[0m\u001b[0;34m\u001b[0m\u001b[0m\n\u001b[0m",
      "\u001b[0;31mTypeError\u001b[0m: '>=' not supported between instances of 'str' and 'int'"
     ]
    }
   ],
   "source": [
    "print('5' >= 3)"
   ]
  },
  {
   "cell_type": "markdown",
   "metadata": {},
   "source": [
    "# 邏輯運算子\n",
    "\n",
    "* `and`\n",
    "* `or`\n",
    "* `not`\n",
    "\n",
    "### 真值表\n",
    "\n",
    "* and\n",
    "\n",
    "| and | F   | T   |\n",
    "| --- | --- | --- |\n",
    "| F   | F   | F   |\n",
    "| T   | F   | T   |\n",
    "\n",
    "* or\n",
    "\n",
    "| or  | F   | T   |\n",
    "| --- | --- | --- |\n",
    "| F   | F   | T   |\n",
    "| T   | T   | T   |\n",
    "\n",
    "* not\n",
    "\n",
    "就是布林值的反向，`False` -> `True`，`True` -> `False`\n",
    "\n",
    "**只要值不為0，布林值就為`True`**"
   ]
  },
  {
   "cell_type": "code",
   "execution_count": 21,
   "metadata": {},
   "outputs": [
    {
     "name": "stdout",
     "output_type": "stream",
     "text": [
      "False\n",
      "True\n",
      "True\n"
     ]
    }
   ],
   "source": [
    "print(True and False)\n",
    "print(False or True)\n",
    "print(not False)"
   ]
  },
  {
   "cell_type": "code",
   "execution_count": 23,
   "metadata": {},
   "outputs": [
    {
     "name": "stdout",
     "output_type": "stream",
     "text": [
      "False\n",
      "True\n"
     ]
    }
   ],
   "source": [
    "print(not 3)\n",
    "print(not 0)"
   ]
  },
  {
   "cell_type": "markdown",
   "metadata": {},
   "source": [
    "# 指定運算子\n",
    "\n",
    "簡單來說就是省略寫法\n",
    "\n",
    "```\n",
    "a = a + 3\n",
    "\n",
    "# is equal to\n",
    "\n",
    "a += 3\n",
    "```\n",
    "\n",
    "常用列表\n",
    "\n",
    "* `=`\n",
    "* `+=`\n",
    "* `-=`\n",
    "* `*=`\n",
    "* `/=`\n",
    "* `%=`\n",
    "* `**=`\n",
    "* `//=`"
   ]
  },
  {
   "cell_type": "code",
   "execution_count": 31,
   "metadata": {},
   "outputs": [
    {
     "data": {
      "text/plain": [
       "20"
      ]
     },
     "execution_count": 31,
     "metadata": {},
     "output_type": "execute_result"
    }
   ],
   "source": [
    "a = 5\n",
    "a *= 4\n",
    "a"
   ]
  },
  {
   "cell_type": "code",
   "execution_count": null,
   "metadata": {},
   "outputs": [],
   "source": []
  }
 ],
 "metadata": {
  "kernelspec": {
   "display_name": "Python 3",
   "language": "python",
   "name": "python3"
  },
  "language_info": {
   "codemirror_mode": {
    "name": "ipython",
    "version": 3
   },
   "file_extension": ".py",
   "mimetype": "text/x-python",
   "name": "python",
   "nbconvert_exporter": "python",
   "pygments_lexer": "ipython3",
   "version": "3.8.6"
  }
 },
 "nbformat": 4,
 "nbformat_minor": 4
}
