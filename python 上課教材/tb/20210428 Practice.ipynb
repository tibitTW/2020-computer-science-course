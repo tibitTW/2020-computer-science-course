{
 "cells": [
  {
   "cell_type": "markdown",
   "metadata": {},
   "source": [
    "# Practice 1\n",
    "\n",
    "已知函數f(x)為 :\n",
    "\n",
    "### $ f(x) = cos(x) + sin(x) ^ 2 - 2tan(x) $\n",
    "\n",
    "* 使用者輸入兩個數`A`和`B`，輸出f(A)及f(B)取到小數點後四位的結果，並判斷f(A)與f(B)的計算結果何者較大。\n",
    "\n",
    "    1. f(A) > f(B) : 輸出 `f(A) > f(B)`\n",
    "    2. f(A) = f(B) : 輸出 `f(A) = f(B)`\n",
    "    3. f(A) < f(B) : 輸出 `f(A) < f(B)`\n",
    "\n",
    "\n",
    "* Example 1(粗體為使用者輸入)\n",
    "\n",
    "> 輸入A的值 : **3**  \n",
    "> 輸入B的值 : **5**  \n",
    "> f(A) = -0.6850, f(B) = 7.9642, f(A) < f(B)"
   ]
  },
  {
   "cell_type": "code",
   "execution_count": null,
   "metadata": {},
   "outputs": [],
   "source": [
    "from numpy import cos, sin, tan\n",
    "\n",
    "def fun1(x):\n",
    "    return cos(x) + sin(x)**2 - 2*tan(x)\n",
    "\n",
    "A = int(input('輸入A的值 : '))\n",
    "B = int(input('輸入B的值 : '))\n",
    "f_of_A = fun1(A)\n",
    "f_of_B = fun1(B)\n",
    "\n",
    "print(f'f(A) = {f_of_A:.4f}, f(B) = {f_of_B:.4f}, ', end='')\n",
    "\n",
    "# complete your code below\n"
   ]
  },
  {
   "cell_type": "markdown",
   "metadata": {},
   "source": [
    "# Practice 2\n",
    "\n",
    "使用者輸入一個年份，判斷該年份是否為閏年。如果是則輸出`YES`，否則輸出`NO`\n",
    "\n",
    "* 閏年條件 :\n",
    "\n",
    "    1. 如果年份能被4整除則為閏年\n",
    "    2. 如果年份能被100整除但不能被400整除，則不是閏年\n",
    "    3. 如果年份能被100整除，也能被400整除，則為閏年\n",
    "\n",
    "* Example 1\n",
    "\n",
    "> 請輸入年份(西元) : **1945**  \n",
    "> NO"
   ]
  },
  {
   "cell_type": "code",
   "execution_count": null,
   "metadata": {},
   "outputs": [],
   "source": [
    "year = int(input('請輸入年份(西元) : '))\n",
    "\n",
    "# write your code below\n"
   ]
  },
  {
   "cell_type": "markdown",
   "metadata": {
    "jupyter": {
     "source_hidden": true
    }
   },
   "source": [
    "# Bonus\n",
    "\n",
    "你是一個RPG遊戲內的商人，需要判斷勇者有沒有足夠的金幣買想買的東西。\n",
    "如果勇者可以買到想要的裝備，請輸出勇者剩餘的金幣，否則請輸出`NO`\n",
    "\n",
    "* 裝備列表 :\n",
    "\n",
    "| 裝備名稱     | 價錢 |\n",
    "| ------------ | ---- |\n",
    "| 機工刃       | 300  |\n",
    "| 究極之刃     | 600  |\n",
    "| 寒冰烙印     | 1000 |\n",
    "| 神劍巴魯蒙克 | 5000 | \n",
    "\n",
    "\n",
    "* Example 1(粗體為使用者輸入的內容) :\n",
    "\n",
    "> 請輸入擁有的金幣量 : **3000**  \n",
    "> 請輸入想買東西的代號(1.機工刃 2.究極之刃 3.寒冰烙印 4.神劍巴魯蒙克) : **3**  \n",
    "> 結帳成功!餘額2000元  \n",
    "\n",
    "* Example 2 :\n",
    "\n",
    "> 請輸入擁有的金幣量 : **4500**  \n",
    "> 請輸入想買東西的代號(1.機工刃 2.究極之刃 3.寒冰烙印 4.神劍巴魯蒙克) : **4**  \n",
    "> NO\n"
   ]
  },
  {
   "cell_type": "code",
   "execution_count": null,
   "metadata": {},
   "outputs": [],
   "source": [
    "format_check = True\n",
    "coin_amount = input('請輸入擁有的金幣量 : ')\n",
    "try:\n",
    "    coin_amount = int(coin_amount)\n",
    "except Exception:\n",
    "    print('輸入格式錯誤!')\n",
    "    format_check = False\n",
    "\n",
    "if format_check:\n",
    "    item_id = input('請輸入想買東西的代號(1.機工刃 2.究極之刃 3.寒冰烙印 4.神劍巴魯蒙克) : ')\n",
    "    try:\n",
    "        item_id = int(item_id)\n",
    "        format_check = False\n",
    "    except Exception:\n",
    "        print('輸入格式錯誤!')\n",
    "        format_check = False\n",
    "\n",
    "    if item_id > 4 or item_id < 1:\n",
    "        print('輸入代號不符!')\n",
    "    format_check = False\n",
    "    \n",
    "if format_check:\n",
    "    # write your code below\n",
    "    pass"
   ]
  }
 ],
 "metadata": {
  "kernelspec": {
   "display_name": "Python 3",
   "language": "python",
   "name": "python3"
  },
  "language_info": {
   "codemirror_mode": {
    "name": "ipython",
    "version": 3
   },
   "file_extension": ".py",
   "mimetype": "text/x-python",
   "name": "python",
   "nbconvert_exporter": "python",
   "pygments_lexer": "ipython3",
   "version": "3.8.6"
  }
 },
 "nbformat": 4,
 "nbformat_minor": 4
}
