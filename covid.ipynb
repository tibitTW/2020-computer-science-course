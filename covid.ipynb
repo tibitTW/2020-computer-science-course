{
 "cells": [
  {
   "cell_type": "code",
   "execution_count": 106,
   "id": "10095056-2b29-491f-9fb4-80f5b308a0be",
   "metadata": {},
   "outputs": [],
   "source": [
    "from bs4 import BeautifulSoup\n",
    "import requests\n",
    "\n",
    "import matplotlib.pyplot as plt\n",
    "from matplotlib.colors import hsv_to_rgb\n",
    "plt.rcParams['font.sans-serif'] = ['Noto Sans CJK TC']"
   ]
  },
  {
   "cell_type": "code",
   "execution_count": 12,
   "id": "bd30c10a-4380-4216-bf42-a480228ca975",
   "metadata": {},
   "outputs": [
    {
     "name": "stderr",
     "output_type": "stream",
     "text": [
      "c:\\users\\jim87\\appdata\\local\\programs\\python\\python38\\lib\\site-packages\\urllib3\\connectionpool.py:1013: InsecureRequestWarning: Unverified HTTPS request is being made to host 'covid-19.nchc.org.tw'. Adding certificate verification is strongly advised. See: https://urllib3.readthedocs.io/en/latest/advanced-usage.html#ssl-warnings\n",
      "  warnings.warn(\n"
     ]
    }
   ],
   "source": [
    "url = \"https://covid-19.nchc.org.tw/dt_005-covidTable_taiwan.php\"\n",
    "\n",
    "resp = requests.get(url, verify = False)"
   ]
  },
  {
   "cell_type": "code",
   "execution_count": 23,
   "id": "422ea423-088f-4fe0-a645-0fa9dd5bb9e6",
   "metadata": {},
   "outputs": [],
   "source": [
    "soup = BeautifulSoup(resp.text, 'html.parser')"
   ]
  },
  {
   "cell_type": "code",
   "execution_count": null,
   "id": "bb4b28bb-57b4-423a-a657-3a27a4242e6d",
   "metadata": {},
   "outputs": [],
   "source": [
    "print(soup.prettify())"
   ]
  },
  {
   "cell_type": "code",
   "execution_count": 33,
   "id": "f5b8f80f-0930-4a47-bf84-370b95f1fa6b",
   "metadata": {},
   "outputs": [
    {
     "data": {
      "text/plain": [
       "'澎湖縣 0'"
      ]
     },
     "execution_count": 33,
     "metadata": {},
     "output_type": "execute_result"
    }
   ],
   "source": [
    "button.text.strip()"
   ]
  },
  {
   "cell_type": "code",
   "execution_count": 34,
   "id": "187f229b-ddd7-4275-bc72-eba0430227b3",
   "metadata": {},
   "outputs": [
    {
     "name": "stdout",
     "output_type": "stream",
     "text": [
      "<button class=\"btn btn-success btn-lg\" type=\"button\">新北市 1786<br/><span style=\"font-size: 0.8em;\"> </span></button>\n",
      "<button class=\"btn btn-success btn-lg\" type=\"button\">台北市 1407<br/><span style=\"font-size: 0.8em;\"> </span></button>\n",
      "<button class=\"btn btn-success btn-lg\" type=\"button\">桃園市 177<br/><span style=\"font-size: 0.8em;\"> </span></button>\n",
      "<button class=\"btn btn-success btn-lg\" type=\"button\">彰化縣 96<br/><span style=\"font-size: 0.8em;\"> </span></button>\n",
      "<button class=\"btn btn-success btn-lg\" type=\"button\">基隆市 53<br/><span style=\"font-size: 0.8em;\"> </span></button>\n",
      "<button class=\"btn btn-success btn-lg\" type=\"button\">宜蘭縣 41<br/><span style=\"font-size: 0.8em;\"> </span></button>\n",
      "<button class=\"btn btn-success btn-lg\" type=\"button\">台中市 40<br/><span style=\"font-size: 0.8em;\"> </span></button>\n",
      "<button class=\"btn btn-success btn-lg\" type=\"button\">高雄市 25<br/><span style=\"font-size: 0.8em;\"> </span></button>\n",
      "<button class=\"btn btn-success btn-lg\" type=\"button\">屏東縣 17<br/><span style=\"font-size: 0.8em;\"> </span></button>\n",
      "<button class=\"btn btn-success btn-lg\" type=\"button\">南投縣 11<br/><span style=\"font-size: 0.8em;\"> </span></button>\n",
      "<button class=\"btn btn-success btn-lg\" type=\"button\">台南市 8<br/><span style=\"font-size: 0.8em;\"> </span></button>\n",
      "<button class=\"btn btn-success btn-lg\" type=\"button\">新竹市 8<br/><span style=\"font-size: 0.8em;\"> </span></button>\n",
      "<button class=\"btn btn-success btn-lg\" type=\"button\">新竹縣 6<br/><span style=\"font-size: 0.8em;\"> </span></button>\n",
      "<button class=\"btn btn-success btn-lg\" type=\"button\">雲林縣 6<br/><span style=\"font-size: 0.8em;\"> </span></button>\n",
      "<button class=\"btn btn-success btn-lg\" type=\"button\">苗栗縣 4<br/><span style=\"font-size: 0.8em;\"> </span></button>\n",
      "<button class=\"btn btn-success btn-lg\" type=\"button\">花蓮縣 4<br/><span style=\"font-size: 0.8em;\"> </span></button>\n",
      "<button class=\"btn btn-success btn-lg\" type=\"button\">嘉義市 1<br/><span style=\"font-size: 0.8em;\"> </span></button>\n",
      "<button class=\"btn btn-success btn-lg\" type=\"button\">嘉義縣 1<br/><span style=\"font-size: 0.8em;\"> </span></button>\n",
      "<button class=\"btn btn-outline-success btn-lg\" type=\"button\">連江縣 0<br/><span style=\"font-size: 0.8em;\"> </span></button>\n",
      "<button class=\"btn btn-outline-success btn-lg\" type=\"button\">金門縣 0<br/><span style=\"font-size: 0.8em;\"> </span></button>\n",
      "<button class=\"btn btn-outline-success btn-lg\" type=\"button\">台東縣 0<br/><span style=\"font-size: 0.8em;\"> </span></button>\n",
      "<button class=\"btn btn-outline-success btn-lg\" type=\"button\">澎湖縣 0<br/><span style=\"font-size: 0.8em;\"> </span></button>\n"
     ]
    }
   ],
   "source": [
    "for button in soup.find_all(\"button\", {\"class\": \"btn-lg\"}):\n",
    "    print(button)"
   ]
  },
  {
   "cell_type": "code",
   "execution_count": 35,
   "id": "c55e5dcf-f798-4871-afed-249003830266",
   "metadata": {},
   "outputs": [],
   "source": [
    "button_list = soup.find_all('button', {\"class\": \"btn-lg\"})"
   ]
  },
  {
   "cell_type": "code",
   "execution_count": 158,
   "id": "7513d7ae-a42f-4207-9bda-5e34db9cc917",
   "metadata": {},
   "outputs": [
    {
     "name": "stdout",
     "output_type": "stream",
     "text": [
      "新北市 : 1786\n",
      "台北市 : 1407\n",
      "桃園市 : 177\n",
      "彰化縣 : 96\n",
      "基隆市 : 53\n",
      "宜蘭縣 : 41\n",
      "台中市 : 40\n",
      "高雄市 : 25\n",
      "屏東縣 : 17\n",
      "南投縣 : 11\n",
      "台南市 : 8\n",
      "新竹市 : 8\n",
      "新竹縣 : 6\n",
      "雲林縣 : 6\n",
      "苗栗縣 : 4\n",
      "花蓮縣 : 4\n",
      "嘉義市 : 1\n",
      "嘉義縣 : 1\n",
      "連江縣 : 0\n",
      "金門縣 : 0\n",
      "台東縣 : 0\n",
      "澎湖縣 : 0\n"
     ]
    }
   ],
   "source": [
    "count_list = {}\n",
    "\n",
    "for button in button_list:\n",
    "    name, count = button.text.strip().split(' ')\n",
    "    print(f\"{name} : {count}\")\n",
    "    count_list[name] = int(count)"
   ]
  },
  {
   "cell_type": "code",
   "execution_count": 159,
   "id": "f0213ee1-7e25-44b6-bd6c-063659f0ab97",
   "metadata": {},
   "outputs": [
    {
     "name": "stdout",
     "output_type": "stream",
     "text": [
      "[0.96    0.55716 0.4416 ]\n",
      "[0.96    0.76182 0.4416 ]\n",
      "[0.49398 0.96    0.4416 ]\n",
      "[0.45024 0.96    0.4416 ]\n",
      "[0.4416  0.96    0.45618]\n",
      "[0.4416  0.96    0.46266]\n",
      "[0.4416 0.96   0.4632]\n",
      "[0.4416 0.96   0.4713]\n",
      "[0.4416  0.96    0.47562]\n",
      "[0.4416  0.96    0.47886]\n",
      "[0.4416  0.96    0.48048]\n",
      "[0.4416  0.96    0.48048]\n",
      "[0.4416  0.96    0.48156]\n",
      "[0.4416  0.96    0.48156]\n",
      "[0.4416  0.96    0.48264]\n",
      "[0.4416  0.96    0.48264]\n",
      "[0.4416  0.96    0.48426]\n",
      "[0.4416  0.96    0.48426]\n",
      "[0.4416 0.96   0.4848]\n",
      "[0.4416 0.96   0.4848]\n",
      "[0.4416 0.96   0.4848]\n",
      "[0.4416 0.96   0.4848]\n"
     ]
    },
    {
     "data": {
      "text/plain": [
       "[array([0.96   , 0.55716, 0.4416 ]),\n",
       " array([0.96   , 0.76182, 0.4416 ]),\n",
       " array([0.49398, 0.96   , 0.4416 ]),\n",
       " array([0.45024, 0.96   , 0.4416 ]),\n",
       " array([0.4416 , 0.96   , 0.45618]),\n",
       " array([0.4416 , 0.96   , 0.46266]),\n",
       " array([0.4416, 0.96  , 0.4632]),\n",
       " array([0.4416, 0.96  , 0.4713]),\n",
       " array([0.4416 , 0.96   , 0.47562]),\n",
       " array([0.4416 , 0.96   , 0.47886]),\n",
       " array([0.4416 , 0.96   , 0.48048]),\n",
       " array([0.4416 , 0.96   , 0.48048]),\n",
       " array([0.4416 , 0.96   , 0.48156]),\n",
       " array([0.4416 , 0.96   , 0.48156]),\n",
       " array([0.4416 , 0.96   , 0.48264]),\n",
       " array([0.4416 , 0.96   , 0.48264]),\n",
       " array([0.4416 , 0.96   , 0.48426]),\n",
       " array([0.4416 , 0.96   , 0.48426]),\n",
       " array([0.4416, 0.96  , 0.4848]),\n",
       " array([0.4416, 0.96  , 0.4848]),\n",
       " array([0.4416, 0.96  , 0.4848]),\n",
       " array([0.4416, 0.96  , 0.4848])]"
      ]
     },
     "execution_count": 159,
     "metadata": {},
     "output_type": "execute_result"
    }
   ],
   "source": [
    "colors = []\n",
    "for value in count_list.values():\n",
    "    r = (125 - value * 125 / 2000) / 360\n",
    "    print(hsv_to_rgb((r, 0.54, 0.96)))\n",
    "    colors.append(hsv_to_rgb((r, 0.54, 0.96)))\n",
    "    \n",
    "colors"
   ]
  },
  {
   "cell_type": "code",
   "execution_count": 160,
   "id": "28901f30-bcd4-41a1-8f28-c0648ef0ef3f",
   "metadata": {},
   "outputs": [
    {
     "data": {
      "image/png": "[encoded data removed]",
      "text/plain": [
       "<Figure size 1440x720 with 1 Axes>"
      ]
     },
     "metadata": {
      "needs_background": "light"
     },
     "output_type": "display_data"
    }
   ],
   "source": [
    "plt.figure(figsize=(20, 10))\n",
    "plt.bar(count_list.keys(), count_list.values(), bottom = 0, color = colors)\n",
    "plt.show()"
   ]
  }
 ],
 "metadata": {
  "kernelspec": {
   "display_name": "Python 3",
   "language": "python",
   "name": "python3"
  },
  "language_info": {
   "codemirror_mode": {
    "name": "ipython",
    "version": 3
   },
   "file_extension": ".py",
   "mimetype": "text/x-python",
   "name": "python",
   "nbconvert_exporter": "python",
   "pygments_lexer": "ipython3",
   "version": "3.8.10"
  }
 },
 "nbformat": 4,
 "nbformat_minor": 5
}
