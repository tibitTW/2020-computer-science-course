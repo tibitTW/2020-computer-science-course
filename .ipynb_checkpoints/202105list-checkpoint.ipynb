{
 "cells": [
  {
   "cell_type": "markdown",
   "metadata": {
    "id": "tf0hG7CpyIIa"
   },
   "source": [
    "# 05 List 串列"
   ]
  },
  {
   "cell_type": "markdown",
   "metadata": {
    "id": "d0m-4WTHzdAR"
   },
   "source": [
    "# 串列list 基本定義\n"
   ]
  },
  {
   "cell_type": "markdown",
   "metadata": {
    "id": "ffVyoOssFzkS"
   },
   "source": [
    "為了讓大量資料的儲存更方便、更有效率，一般會藉助一些利器來處理這些資料，Python 提供優質的利器：串列，有如一個有組織的置物櫃一般。\n",
    "\n",
    "Python 的串列（list）相當於其他程式語言的陣列（array），這是一個用來儲存多個變數很好的方法。\n",
    "串列有一維串列、二維串列，以及多維串列。若串列沒有指明其維度時，則預設為一維串列（one dimension list）。\n",
    "\n",
    "串列的長度其實就是串列中有多少個元素。若要計算某一串列的長度，可使用len函式，如：\n",
    " fruitsList= ['Banana', 'Apple', 'Grape', 'Pineapple', 'Orange']\n",
    " len(fruitsList)\n",
    "5\n",
    "上述敘述表示有一fruitsList串列，利用len函式計算此串列的長度為5，計表示它有5個元素。"
   ]
  },
  {
   "cell_type": "code",
   "execution_count": 1,
   "metadata": {
    "colab": {
     "base_uri": "https://localhost:8080/"
    },
    "executionInfo": {
     "elapsed": 906,
     "status": "ok",
     "timestamp": 1618924806803,
     "user": {
      "displayName": "工業科技教育學系陳君瑜",
      "photoUrl": "",
      "userId": "14372196664709609496"
     },
     "user_tz": -480
    },
    "id": "HBU3n0FFb3jt",
    "outputId": "8e2028f5-b9a8-4b91-9810-20da11e34434"
   },
   "outputs": [
    {
     "name": "stdout",
     "output_type": "stream",
     "text": [
      "國文成績：85 分\n",
      "數學成績：79 分\n",
      "英文成績：93 分\n"
     ]
    }
   ],
   "source": [
    "#課本範例 p3-3 list1.py\n",
    "score = [85, 79, 93]\n",
    "print(\"國文成績：%d 分\" % score[0])\n",
    "print(\"數學成績：%d 分\" % score[1])\n",
    "print(\"英文成績：%d 分\" % score[2])"
   ]
  },
  {
   "cell_type": "code",
   "execution_count": null,
   "metadata": {
    "colab": {
     "base_uri": "https://localhost:8080/",
     "height": 202
    },
    "executionInfo": {
     "elapsed": 2656,
     "status": "error",
     "timestamp": 1588316810130,
     "user": {
      "displayName": "工業科技教育學系陳君瑜",
      "photoUrl": "",
      "userId": "14372196664709609496"
     },
     "user_tz": -480
    },
    "id": "NWA2Qn3nDNYC",
    "outputId": "534079ff-a8de-48e5-aedc-6176c7a03d39"
   },
   "outputs": [
    {
     "ename": "NameError",
     "evalue": "ignored",
     "output_type": "error",
     "traceback": [
      "\u001b[0;31m---------------------------------------------------------------------------\u001b[0m",
      "\u001b[0;31mNameError\u001b[0m                                 Traceback (most recent call last)",
      "\u001b[0;32m<ipython-input-1-3c7bd7dda5bb>\u001b[0m in \u001b[0;36m<module>\u001b[0;34m()\u001b[0m\n\u001b[1;32m      1\u001b[0m \u001b[0mscore\u001b[0m\u001b[0;34m=\u001b[0m\u001b[0;34m[\u001b[0m\u001b[0;36m89\u001b[0m\u001b[0;34m,\u001b[0m\u001b[0;36m45\u001b[0m\u001b[0;34m,\u001b[0m\u001b[0;36m78\u001b[0m\u001b[0;34m,\u001b[0m\u001b[0;36m90\u001b[0m\u001b[0;34m,\u001b[0m\u001b[0;36m67\u001b[0m\u001b[0;34m,\u001b[0m\u001b[0;36m89\u001b[0m\u001b[0;34m]\u001b[0m \u001b[0;31m#數學平時考試成績\u001b[0m\u001b[0;34m\u001b[0m\u001b[0;34m\u001b[0m\u001b[0m\n\u001b[0;32m----> 2\u001b[0;31m \u001b[0mfruits\u001b[0m\u001b[0;34m=\u001b[0m\u001b[0;34m[\u001b[0m\u001b[0mapple\u001b[0m\u001b[0;34m,\u001b[0m\u001b[0mbanana\u001b[0m\u001b[0;34m,\u001b[0m \u001b[0morange\u001b[0m\u001b[0;34m]\u001b[0m \u001b[0;31m#店內賣的水果種類\u001b[0m\u001b[0;34m\u001b[0m\u001b[0;34m\u001b[0m\u001b[0m\n\u001b[0m\u001b[1;32m      3\u001b[0m \u001b[0mscore01\u001b[0m\u001b[0;34m=\u001b[0m\u001b[0;34m[\u001b[0m\u001b[0mMary\u001b[0m\u001b[0;34m,\u001b[0m\u001b[0;36m89\u001b[0m\u001b[0;34m,\u001b[0m\u001b[0;36m45\u001b[0m\u001b[0;34m,\u001b[0m\u001b[0;36m78\u001b[0m\u001b[0;34m,\u001b[0m\u001b[0;36m90\u001b[0m\u001b[0;34m,\u001b[0m\u001b[0;36m67\u001b[0m\u001b[0;34m,\u001b[0m\u001b[0;36m89\u001b[0m\u001b[0;34m]\u001b[0m \u001b[0;31m#Mary數學平時考試成績\u001b[0m\u001b[0;34m\u001b[0m\u001b[0;34m\u001b[0m\u001b[0m\n",
      "\u001b[0;31mNameError\u001b[0m: name 'apple' is not defined"
     ]
    }
   ],
   "source": [
    "score=[89,45,78,90,67,89] #數學平時考試成績\n",
    "fruits=[apple,banana, orange] #店內賣的水果種類\n",
    "score01=[Mary,89,45,78,90,67,89] #Mary數學平時考試成績"
   ]
  },
  {
   "cell_type": "code",
   "execution_count": null,
   "metadata": {
    "id": "eEuzr9weDvFi"
   },
   "outputs": [],
   "source": [
    "score=[89,45,78,90,67,89] #數學平時考試成績\n",
    "fruits=['apple','banana', 'orange'] #店內賣的水果種類\n",
    "score01=['Mary',89,45,78,90,67,89] #Mary數學平時考試成績\n",
    "print(\"list score=\",score, type(score),len(score))\n",
    "print(\"list fruits=\",fruits, type(fruits),len(fruits))\n",
    "print(\"list score01=\",score01, type(score01),len(score01))"
   ]
  },
  {
   "cell_type": "code",
   "execution_count": null,
   "metadata": {
    "id": "6gNbq8oJmu1X"
   },
   "outputs": [],
   "source": [
    "list_data = [1,'string',3.1,[5,6,7],fruits]\n",
    "print(list_data)"
   ]
  },
  {
   "cell_type": "markdown",
   "metadata": {
    "id": "tveUWnUAExsk"
   },
   "source": [
    "# 串列list 處理"
   ]
  },
  {
   "cell_type": "code",
   "execution_count": null,
   "metadata": {
    "colab": {
     "base_uri": "https://localhost:8080/",
     "height": 187
    },
    "executionInfo": {
     "elapsed": 794,
     "status": "ok",
     "timestamp": 1589250218246,
     "user": {
      "displayName": "工業科技教育學系陳君瑜",
      "photoUrl": "",
      "userId": "14372196664709609496"
     },
     "user_tz": -480
    },
    "id": "BdvBVeWIEAPk",
    "outputId": "4a89e297-a255-4da9-98d1-72e15a4ce020"
   },
   "outputs": [
    {
     "name": "stdout",
     "output_type": "stream",
     "text": [
      "['apple', 'banana', 'orange']\n",
      "apple\n",
      "banana\n",
      "orange\n",
      "[1, 'string', 3.1, [5, 6, 7], ['apple', 'banana', 'orange']]\n",
      "1\n",
      "['string', 3.1]\n",
      "['string', 3.1, [5, 6, 7], ['apple', 'banana', 'orange']]\n",
      "['apple', 'banana', 'orange']\n",
      "[5, 6, 7]\n"
     ]
    }
   ],
   "source": [
    "#讀取串列值\n",
    "# name_list[i] 讀取串列i的元素\n",
    "fruits=['apple','banana', 'orange'] #店內賣的水果種類\n",
    "print(fruits)                   # 輸出完整的list\n",
    "print(fruits[0])                 # 輸出第一個元素\n",
    "print(fruits[1])                 # 輸出第二個元素\n",
    "print(fruits[2])                 # 輸出第三個元素\n",
    "list_data = [1,'string',3.1,[5,6,7],fruits]\n",
    "print (list_data)               # 輸出完整的list\n",
    "print (list_data[0])            # 輸出第一個元素\n",
    "print (list_data[1:3])          # 輸出第二個到第三個元素 \n",
    "                #([start : end] 回傳從start 到end - 1 的子串列。)\n",
    "print (list_data[1:])           # 輸出第二個到最後一個元素\n",
    "print (list_data[-1])           # 輸出最後一個元素\n",
    "print (list_data[-2])           # 輸出倒數第二個元素"
   ]
  },
  {
   "cell_type": "code",
   "execution_count": null,
   "metadata": {
    "colab": {
     "base_uri": "https://localhost:8080/",
     "height": 51
    },
    "executionInfo": {
     "elapsed": 1436,
     "status": "ok",
     "timestamp": 1588714589085,
     "user": {
      "displayName": "工業科技教育學系陳君瑜",
      "photoUrl": "",
      "userId": "14372196664709609496"
     },
     "user_tz": -480
    },
    "id": "GJ20rpl9w8zN",
    "outputId": "3355dd82-5423-4eda-d4c7-d26bf0991d74"
   },
   "outputs": [
    {
     "name": "stdout",
     "output_type": "stream",
     "text": [
      "['apple', 'banana', 'orange']\n",
      "3\n"
     ]
    }
   ],
   "source": [
    "#字串長度 len()\n",
    "fruits=['apple','banana', 'orange'] #店內賣的水果種類\n",
    "print(fruits)\n",
    "print(len(fruits))  "
   ]
  },
  {
   "cell_type": "markdown",
   "metadata": {
    "id": "h05gejfqEvtX"
   },
   "source": [
    "# exercise 01\n",
    "# list_data = 'string', 3.1, [5, 6, 7], ['apple', 'banana', 'orange']\n",
    "# 要怎麼取出banana這個元素?"
   ]
  },
  {
   "cell_type": "code",
   "execution_count": null,
   "metadata": {
    "colab": {
     "base_uri": "https://localhost:8080/",
     "height": 34
    },
    "executionInfo": {
     "elapsed": 1221,
     "status": "ok",
     "timestamp": 1588712684845,
     "user": {
      "displayName": "工業科技教育學系陳君瑜",
      "photoUrl": "",
      "userId": "14372196664709609496"
     },
     "user_tz": -480
    },
    "id": "J_YrS5o1pZ6L",
    "outputId": "29b52249-d4e1-464a-aab1-45bc57059afa"
   },
   "outputs": [
    {
     "name": "stdout",
     "output_type": "stream",
     "text": [
      "banana\n"
     ]
    }
   ],
   "source": [
    "list_data = 1,'string', 3.1, [5, 6, 7], ['apple', 'banana', 'orange']\n",
    "print(list_data[4][1])"
   ]
  },
  {
   "cell_type": "code",
   "execution_count": null,
   "metadata": {
    "colab": {
     "base_uri": "https://localhost:8080/",
     "height": 34
    },
    "executionInfo": {
     "elapsed": 1243,
     "status": "ok",
     "timestamp": 1588712745466,
     "user": {
      "displayName": "工業科技教育學系陳君瑜",
      "photoUrl": "",
      "userId": "14372196664709609496"
     },
     "user_tz": -480
    },
    "id": "0lkTtMSopu5D",
    "outputId": "1e11f912-f631-476e-ab4d-e16778e55073"
   },
   "outputs": [
    {
     "name": "stdout",
     "output_type": "stream",
     "text": [
      "1\n"
     ]
    }
   ],
   "source": [
    "#list中的index()方法\n",
    "#在list中有一個index()的方法，若搜尋的值存在在list中，就會返回索引位置給我們。\n",
    "list_data = 1,'string', 3.1, [5, 6, 7], ['apple', 'banana', 'orange']\n",
    "index = list_data.index('string')\n",
    "print(index)"
   ]
  },
  {
   "cell_type": "code",
   "execution_count": null,
   "metadata": {
    "colab": {
     "base_uri": "https://localhost:8080/",
     "height": 51
    },
    "executionInfo": {
     "elapsed": 996,
     "status": "ok",
     "timestamp": 1589250372051,
     "user": {
      "displayName": "工業科技教育學系陳君瑜",
      "photoUrl": "",
      "userId": "14372196664709609496"
     },
     "user_tz": -480
    },
    "id": "qAOgktagpfH9",
    "outputId": "8add1bf2-a2ab-4f8f-f118-093361e7170b"
   },
   "outputs": [
    {
     "name": "stdout",
     "output_type": "stream",
     "text": [
      "['apple', 'banana', 'orange', 'watermelon']\n",
      "['cat', 'snake', 'dog', 'bird']\n"
     ]
    }
   ],
   "source": [
    "#append()和insert()方法\n",
    "fruits=['apple','banana', 'orange'] #店內賣的水果種類\n",
    "# append() 會將新加入的值放在最後一個\n",
    "fruits.append('watermelon')\n",
    "print(fruits)\n",
    "# insert()中前面的值是所要插入的索引位置\n",
    "pets = ['cat','dog','bird']\n",
    "pets.insert(1,'snake') # insert(i, x)，將x元素加入於串列的i位置\n",
    "print(pets)"
   ]
  },
  {
   "cell_type": "code",
   "execution_count": null,
   "metadata": {
    "colab": {
     "base_uri": "https://localhost:8080/",
     "height": 51
    },
    "executionInfo": {
     "elapsed": 852,
     "status": "ok",
     "timestamp": 1589250585758,
     "user": {
      "displayName": "工業科技教育學系陳君瑜",
      "photoUrl": "",
      "userId": "14372196664709609496"
     },
     "user_tz": -480
    },
    "id": "OnrVXaBbqvWZ",
    "outputId": "3c4aa4e3-bf3b-4d4e-d9bb-f5edd72ceeaf"
   },
   "outputs": [
    {
     "name": "stdout",
     "output_type": "stream",
     "text": [
      "['cat', 'dog', 'bird']\n",
      "['cat', 'snake', 'bird']\n"
     ]
    }
   ],
   "source": [
    "# remove()和pop()方法\n",
    "# remove() 做資料的刪除\n",
    "pets = ['cat', 'snake', 'dog', 'bird']\n",
    "pets.remove('snake') #remove(x)，直接刪除串列中第一個出現x的元素。\n",
    "print (pets)\n",
    "# pop() 做資料的刪除\n",
    "pets = ['cat', 'snake', 'dog', 'bird']\n",
    "pets.pop(2) # pop(i)，表示將i 索引的元素值刪除, pop(i) 方法中的i，也可以是負的\n",
    "print (pets)"
   ]
  },
  {
   "cell_type": "markdown",
   "metadata": {
    "id": "HTjQfiVzrran"
   },
   "source": [
    "# 串列list排序"
   ]
  },
  {
   "cell_type": "code",
   "execution_count": null,
   "metadata": {
    "colab": {
     "base_uri": "https://localhost:8080/",
     "height": 68
    },
    "executionInfo": {
     "elapsed": 1374,
     "status": "ok",
     "timestamp": 1588713575128,
     "user": {
      "displayName": "工業科技教育學系陳君瑜",
      "photoUrl": "",
      "userId": "14372196664709609496"
     },
     "user_tz": -480
    },
    "id": "uVTTR68griML",
    "outputId": "0346cb38-02c5-47fe-c4e7-396fb91d496c"
   },
   "outputs": [
    {
     "name": "stdout",
     "output_type": "stream",
     "text": [
      "[45, 67, 78, 89, 89, 90]\n",
      "['apple', 'banana', 'kiwi', 'orange']\n",
      "[90, 89, 89, 78, 67, 45]\n"
     ]
    }
   ],
   "source": [
    "score=[89,45,78,90,67,89] #數學平時考試成績\n",
    "fruits=['apple','banana', 'orange','kiwi'] #店內賣的水果種類\n",
    "score01=['Mary',89,45,78,90,67,89] #Mary數學平時考試成績\n",
    "score.sort()  #數字排序,由小至大\n",
    "fruits.sort()  #字串排序,由小至大\n",
    "print(score)\n",
    "print(fruits)\n",
    "score.sort(reverse=True) #由大到小\n",
    "print(score)"
   ]
  },
  {
   "cell_type": "markdown",
   "metadata": {
    "id": "76Pov3GUuLWk"
   },
   "source": [
    "**計算串列中某一元素的個數**\n",
    "則可利用count 方法完成"
   ]
  },
  {
   "cell_type": "code",
   "execution_count": null,
   "metadata": {
    "colab": {
     "base_uri": "https://localhost:8080/",
     "height": 34
    },
    "executionInfo": {
     "elapsed": 1086,
     "status": "ok",
     "timestamp": 1589250800703,
     "user": {
      "displayName": "工業科技教育學系陳君瑜",
      "photoUrl": "",
      "userId": "14372196664709609496"
     },
     "user_tz": -480
    },
    "id": "ZkYyoJ-3ujTz",
    "outputId": "2b7bcdc8-2231-467f-ac2b-fea29c8d9fa9"
   },
   "outputs": [
    {
     "data": {
      "text/plain": [
       "2"
      ]
     },
     "execution_count": 9,
     "metadata": {
      "tags": []
     },
     "output_type": "execute_result"
    }
   ],
   "source": [
    "list_data=[6, 5, 4, 3, 2, 1, 3]\n",
    "list_data.count(3) #計算串列中3的個數\n"
   ]
  },
  {
   "cell_type": "markdown",
   "metadata": {
    "id": "UPIlOti_uO3f"
   },
   "source": [
    "**一行輸入多個數值**"
   ]
  },
  {
   "cell_type": "code",
   "execution_count": null,
   "metadata": {
    "colab": {
     "base_uri": "https://localhost:8080/",
     "height": 68
    },
    "executionInfo": {
     "elapsed": 6203,
     "status": "ok",
     "timestamp": 1588714175176,
     "user": {
      "displayName": "工業科技教育學系陳君瑜",
      "photoUrl": "",
      "userId": "14372196664709609496"
     },
     "user_tz": -480
    },
    "id": "-vlcqQeDsCy5",
    "outputId": "e875d0ec-0a30-4347-fd7c-324b422eaf2a"
   },
   "outputs": [
    {
     "name": "stdout",
     "output_type": "stream",
     "text": [
      "44 5\n",
      "44 5\n",
      "445\n"
     ]
    }
   ],
   "source": [
    "a,b= input().split() # 一次輸入 a,b 兩個數值 用空白間隔\n",
    "print(a,b)\n",
    "print(a+b)\n"
   ]
  },
  {
   "cell_type": "code",
   "execution_count": null,
   "metadata": {
    "colab": {
     "base_uri": "https://localhost:8080/",
     "height": 68
    },
    "executionInfo": {
     "elapsed": 7543,
     "status": "ok",
     "timestamp": 1589343709939,
     "user": {
      "displayName": "工業科技教育學系陳君瑜",
      "photoUrl": "",
      "userId": "14372196664709609496"
     },
     "user_tz": -480
    },
    "id": "Y0vS-rnWtw9X",
    "outputId": "97632f0e-c43f-4f61-bd28-94de7487828b"
   },
   "outputs": [
    {
     "name": "stdout",
     "output_type": "stream",
     "text": [
      "請輸入分數：60 60 60\n",
      "['60', '60', '60']\n",
      "180\n"
     ]
    }
   ],
   "source": [
    "# 一次輸入多個分數 用空白間隔\n",
    "score_list= input(\"請輸入分數：\").split(' ')\n",
    "print(score_list)\n",
    "score_list = map(int, score_list)\n",
    "total=sum(score_list)\n",
    "print(total)"
   ]
  },
  {
   "cell_type": "markdown",
   "metadata": {
    "id": "F3jK3xBwuyXt"
   },
   "source": [
    "**其他有用的函式：max()、min()、sum()**\n",
    "\n",
    "**使用＋運算子和extend 方法將兩個串列結合**\n",
    "\n",
    "**利用in 或not in 可判斷某一元素是否在串列中**"
   ]
  },
  {
   "cell_type": "markdown",
   "metadata": {
    "id": "Rm7vCLTZvtsk"
   },
   "source": [
    "# Bonus\n",
    "請用串列同時列出想出遊的8個地方\n",
    "1. 列出這8個地方\n",
    "2. 反向列出這8個地方\n",
    "3. 由小到大同時排列出來\n",
    "4. 請在第一個地方增加 \"Moon\", 最後一個位置增加 \"Arctic Sea\"\n",
    "5. 請在中央位置增加\"Jupiter\"\n",
    "6. 請分別刪除第3 與 Arctic Sea\n",
    "7. 請問串列 count()方法 join() 的用法\n"
   ]
  },
  {
   "cell_type": "code",
   "execution_count": null,
   "metadata": {
    "id": "hjglfCJCu63D"
   },
   "outputs": [],
   "source": []
  }
 ],
 "metadata": {
  "colab": {
   "authorship_tag": "ABX9TyNg3FWYVYeiAHcNEFCWZ1HC",
   "name": "202105list.ipynb",
   "provenance": [
    {
     "file_id": "1Ta2lV2w18KwIBgq4_Bn9S8R1CwDCUAAh",
     "timestamp": 1618924719689
    }
   ]
  },
  "kernelspec": {
   "display_name": "Python 3",
   "language": "python",
   "name": "python3"
  },
  "language_info": {
   "codemirror_mode": {
    "name": "ipython",
    "version": 3
   },
   "file_extension": ".py",
   "mimetype": "text/x-python",
   "name": "python",
   "nbconvert_exporter": "python",
   "pygments_lexer": "ipython3",
   "version": "3.8.6"
  }
 },
 "nbformat": 4,
 "nbformat_minor": 1
}
